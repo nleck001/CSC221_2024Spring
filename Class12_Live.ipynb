{
  "nbformat": 4,
  "nbformat_minor": 0,
  "metadata": {
    "colab": {
      "provenance": [],
      "authorship_tag": "ABX9TyPmJkvwVJgj0pqGZCUN/Ylh",
      "include_colab_link": true
    },
    "kernelspec": {
      "name": "python3",
      "display_name": "Python 3"
    },
    "language_info": {
      "name": "python"
    }
  },
  "cells": [
    {
      "cell_type": "markdown",
      "metadata": {
        "id": "view-in-github",
        "colab_type": "text"
      },
      "source": [
        "<a href=\"https://colab.research.google.com/github/nleck001/CSC221_Spring_2024/blob/main/Class12_Live.ipynb\" target=\"_parent\"><img src=\"https://colab.research.google.com/assets/colab-badge.svg\" alt=\"Open In Colab\"/></a>"
      ]
    },
    {
      "cell_type": "markdown",
      "source": [
        "# CSC221 Intro Programming Class 12\n",
        "- Ned Lecky\n",
        "- 3/7/2024"
      ],
      "metadata": {
        "id": "uW7_dXUEB3iL"
      }
    },
    {
      "cell_type": "code",
      "execution_count": null,
      "metadata": {
        "id": "qFsZnCUgUHg5"
      },
      "outputs": [],
      "source": [
        "# zyBook 10.4\n",
        "# Cass attributes and methods\n",
        "# vs\n",
        "# Instance attributes\n",
        "\n"
      ]
    },
    {
      "cell_type": "code",
      "source": [
        "# From 10.5 zyBook\n",
        "class Seat:\n",
        "    def __init__(self):\n",
        "        self.first_name = ''\n",
        "        self.last_name = ''\n",
        "        self.paid = 0.0\n",
        "\n",
        "    def reserve(self, f_name, l_name, amt_paid):\n",
        "        self.first_name = f_name\n",
        "        self.last_name = l_name\n",
        "        self.paid = amt_paid\n",
        "\n",
        "    def make_empty(self):\n",
        "        self.first_name = ''\n",
        "        self.last_name = ''\n",
        "        self.paid = 0.0\n",
        "\n",
        "    def is_empty(self):\n",
        "        return self.first_name == ''\n",
        "\n",
        "    def print_seat(self):\n",
        "        print(f'{self.first_name} {self.last_name}, Paid: {self.paid:.2f}')\n",
        "\n",
        "\n",
        "def make_seats_empty(seats):\n",
        "    for s in seats:\n",
        "        s.make_empty()\n",
        "\n",
        "\n",
        "def print_seats(seats):\n",
        "    for i in range(len(seats)):\n",
        "        print(f'{i}:', end=' ')\n",
        "        seats[i].print_seat()\n",
        "\n",
        "num_seats = 5\n",
        "\n",
        "available_seats = []\n",
        "for i in range(num_seats):\n",
        "    available_seats.append(Seat())\n",
        "\n",
        "command = input('Enter command (p/r/q):\\n')\n",
        "while command != 'q':\n",
        "    if command == 'p':  # Print seats\n",
        "        print_seats(available_seats)\n",
        "    elif command == 'r':  # Reserve a seat\n",
        "        seat_num = int(input('Enter seat num:\\n'))\n",
        "        if not available_seats[seat_num].is_empty():\n",
        "            print('Seat not empty')\n",
        "        else:\n",
        "            fname = input('Enter first name:\\n')\n",
        "            lname = input('Enter last name:\\n')\n",
        "            paid = float(input('Enter amount paid:\\n'))\n",
        "            available_seats[seat_num].reserve(fname, lname, paid)\n",
        "    else:\n",
        "        print('Invalid command.')\n",
        "\n",
        "    command = input('Enter command (p/r/q):\\n')\n",
        "\n",
        "\n"
      ],
      "metadata": {
        "colab": {
          "base_uri": "https://localhost:8080/"
        },
        "id": "RZS_Ajj9bYUM",
        "outputId": "7361ef00-56e4-4826-aa58-41fa58d19488"
      },
      "execution_count": null,
      "outputs": [
        {
          "name": "stdout",
          "output_type": "stream",
          "text": [
            "Enter command (p/r/q):\n",
            "p\n",
            "0:  , Paid: 0.00\n",
            "1:  , Paid: 0.00\n",
            "2:  , Paid: 0.00\n",
            "3:  , Paid: 0.00\n",
            "4:  , Paid: 0.00\n",
            "Enter command (p/r/q):\n",
            "r\n",
            "Enter seat num:\n",
            "2\n",
            "Enter first name:\n",
            "ned\n",
            "Enter last name:\n",
            "lecky\n",
            "Enter amount paid:\n",
            "123.57\n",
            "Enter command (p/r/q):\n",
            "p\n",
            "0:  , Paid: 0.00\n",
            "1:  , Paid: 0.00\n",
            "2: ned lecky, Paid: 123.57\n",
            "3:  , Paid: 0.00\n",
            "4:  , Paid: 0.00\n",
            "Enter command (p/r/q):\n",
            "r\n",
            "Enter seat num:\n",
            "2\n",
            "Seat not empty\n",
            "Enter command (p/r/q):\n",
            "3\n",
            "Invalid command.\n",
            "Enter command (p/r/q):\n",
            "r\n",
            "Enter seat num:\n",
            "3\n",
            "Enter first name:\n",
            "taylor\n",
            "Enter last name:\n",
            "swift\n",
            "Enter amount paid:\n",
            "0\n",
            "Enter command (p/r/q):\n",
            "p\n",
            "0:  , Paid: 0.00\n",
            "1:  , Paid: 0.00\n",
            "2: ned lecky, Paid: 123.57\n",
            "3: taylor swift, Paid: 0.00\n",
            "4:  , Paid: 0.00\n",
            "Enter command (p/r/q):\n",
            "q\n"
          ]
        }
      ]
    },
    {
      "cell_type": "code",
      "source": [
        "class Example:\n",
        "    def __init__(self, x):\n",
        "        self.x = x\n",
        "    def __str__(self):\n",
        "        return f'Hi! I am an Example with x={self.x}'\n",
        "\n",
        "e1 = Example(123)\n",
        "print(type(e1))\n",
        "print(e1)"
      ],
      "metadata": {
        "colab": {
          "base_uri": "https://localhost:8080/"
        },
        "id": "_hgLrH94doN4",
        "outputId": "f3d21e0d-3c50-4076-db10-5f7b118f2b0a"
      },
      "execution_count": null,
      "outputs": [
        {
          "output_type": "stream",
          "name": "stdout",
          "text": [
            "<class '__main__.Example'>\n",
            "Hi! I am an Example with x=123\n"
          ]
        }
      ]
    },
    {
      "cell_type": "code",
      "source": [
        "e2 = Example(246)\n",
        "print(e2)\n",
        "\n",
        "is_e2_greater = e2 > e1\n",
        "print(is_e2_greater)"
      ],
      "metadata": {
        "colab": {
          "base_uri": "https://localhost:8080/",
          "height": 211
        },
        "id": "rFZcFpY5gfEV",
        "outputId": "73294065-0434-47c1-8f3d-4c17ad102627"
      },
      "execution_count": null,
      "outputs": [
        {
          "output_type": "stream",
          "name": "stdout",
          "text": [
            "Hi! I am an Example with x=246\n"
          ]
        },
        {
          "output_type": "error",
          "ename": "TypeError",
          "evalue": "'>' not supported between instances of 'Example' and 'Example'",
          "traceback": [
            "\u001b[0;31m---------------------------------------------------------------------------\u001b[0m",
            "\u001b[0;31mTypeError\u001b[0m                                 Traceback (most recent call last)",
            "\u001b[0;32m<ipython-input-8-8be8bb9d8be5>\u001b[0m in \u001b[0;36m<cell line: 4>\u001b[0;34m()\u001b[0m\n\u001b[1;32m      2\u001b[0m \u001b[0mprint\u001b[0m\u001b[0;34m(\u001b[0m\u001b[0me2\u001b[0m\u001b[0;34m)\u001b[0m\u001b[0;34m\u001b[0m\u001b[0;34m\u001b[0m\u001b[0m\n\u001b[1;32m      3\u001b[0m \u001b[0;34m\u001b[0m\u001b[0m\n\u001b[0;32m----> 4\u001b[0;31m \u001b[0mis_e2_greater\u001b[0m \u001b[0;34m=\u001b[0m \u001b[0me2\u001b[0m \u001b[0;34m>\u001b[0m \u001b[0me1\u001b[0m\u001b[0;34m\u001b[0m\u001b[0;34m\u001b[0m\u001b[0m\n\u001b[0m\u001b[1;32m      5\u001b[0m \u001b[0mprint\u001b[0m\u001b[0;34m(\u001b[0m\u001b[0mis_e2_greater\u001b[0m\u001b[0;34m)\u001b[0m\u001b[0;34m\u001b[0m\u001b[0;34m\u001b[0m\u001b[0m\n",
            "\u001b[0;31mTypeError\u001b[0m: '>' not supported between instances of 'Example' and 'Example'"
          ]
        }
      ]
    },
    {
      "cell_type": "code",
      "source": [
        "class Example2:\n",
        "    def __init__(self, x):\n",
        "        self.x = x\n",
        "    def __str__(self):\n",
        "        return f'Hi! I am an Example with x={self.x}'\n",
        "    def __gt__(self, other):\n",
        "        #print('I hate the > operator and always return False')\n",
        "        #return False\n",
        "        return self.x > other.x\n",
        "\n",
        "\n",
        "e1 = Example2(123)\n",
        "e2 = Example2(246)\n",
        "if e2 > e1: # python will call e2.__gt__(e2, e1)\n",
        "    print('e2 > e1!')\n",
        "else:\n",
        "    print('e2 <= e1')"
      ],
      "metadata": {
        "colab": {
          "base_uri": "https://localhost:8080/"
        },
        "id": "lwuaVBFvh0rm",
        "outputId": "2a5ff946-68ea-4562-dbe2-d0d9ecf1f3a1"
      },
      "execution_count": null,
      "outputs": [
        {
          "output_type": "stream",
          "name": "stdout",
          "text": [
            "e2 > e1!\n"
          ]
        }
      ]
    },
    {
      "cell_type": "code",
      "source": [],
      "metadata": {
        "id": "UreV_9iDiaAn"
      },
      "execution_count": null,
      "outputs": []
    }
  ]
}