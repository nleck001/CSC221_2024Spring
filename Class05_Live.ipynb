{
  "nbformat": 4,
  "nbformat_minor": 0,
  "metadata": {
    "colab": {
      "provenance": [],
      "authorship_tag": "ABX9TyNtK6HM9hv/pLwb0JT8QJf6",
      "include_colab_link": true
    },
    "kernelspec": {
      "name": "python3",
      "display_name": "Python 3"
    },
    "language_info": {
      "name": "python"
    }
  },
  "cells": [
    {
      "cell_type": "markdown",
      "metadata": {
        "id": "view-in-github",
        "colab_type": "text"
      },
      "source": [
        "<a href=\"https://colab.research.google.com/github/nleck001/CSC221_Spring_2024/blob/main/Class05_Live.ipynb\" target=\"_parent\"><img src=\"https://colab.research.google.com/assets/colab-badge.svg\" alt=\"Open In Colab\"/></a>"
      ]
    },
    {
      "cell_type": "markdown",
      "source": [
        "## CSC217 Class 5\n",
        "- As done live in class 2/13/2024\n",
        "- Crash Chapter 4"
      ],
      "metadata": {
        "id": "mlJHQHNuzaxw"
      }
    },
    {
      "cell_type": "code",
      "execution_count": 1,
      "metadata": {
        "colab": {
          "base_uri": "https://localhost:8080/"
        },
        "id": "osMUmJ8C66fB",
        "outputId": "4407ad8a-6640-48fa-8b89-c9d7b145be7a"
      },
      "outputs": [
        {
          "output_type": "stream",
          "name": "stdout",
          "text": [
            "hi!THIS IS THE END.1\n",
            "hey\n",
            "2\n",
            "hey\n",
            "31\n",
            "hey\n",
            "bubye\n"
          ]
        }
      ],
      "source": [
        "print('hi!', end='THIS IS THE END.')\n",
        "\n",
        "for xyz in [1, 2, 31]:\n",
        "    print(xyz)\n",
        "    print('hey')\n",
        "\n",
        "print('bubye')"
      ]
    },
    {
      "cell_type": "code",
      "source": [
        "for character in 'hello, world!':\n",
        "    print(character)\n",
        "\n",
        "print('only once!')\n",
        "\n",
        "str = 'hi,,,there'\n",
        "print(str[2])\n",
        "print(str[4:7])"
      ],
      "metadata": {
        "colab": {
          "base_uri": "https://localhost:8080/"
        },
        "id": "8tGaDWrf7Jkq",
        "outputId": "5c0e91bf-4cfe-427b-a1d5-240fcff42f68"
      },
      "execution_count": 2,
      "outputs": [
        {
          "output_type": "stream",
          "name": "stdout",
          "text": [
            "h\n",
            "e\n",
            "l\n",
            "l\n",
            "o\n",
            ",\n",
            " \n",
            "w\n",
            "o\n",
            "r\n",
            "l\n",
            "d\n",
            "!\n",
            "only once!\n",
            ",\n",
            ",th\n"
          ]
        }
      ]
    },
    {
      "cell_type": "code",
      "source": [
        "for x in range(10, 20, 3):\n",
        "    print(x)"
      ],
      "metadata": {
        "colab": {
          "base_uri": "https://localhost:8080/"
        },
        "id": "gdSTsgXn84vU",
        "outputId": "9b669eb4-f400-4598-c186-78d223eb4d84"
      },
      "execution_count": 3,
      "outputs": [
        {
          "output_type": "stream",
          "name": "stdout",
          "text": [
            "10\n",
            "13\n",
            "16\n",
            "19\n"
          ]
        }
      ]
    },
    {
      "cell_type": "code",
      "source": [
        "# Make a list containing the above\n",
        "my_list = []\n",
        "for x in range(10, 20, 3):\n",
        "    my_list.append(x)\n",
        "\n",
        "print(my_list)\n",
        "\n"
      ],
      "metadata": {
        "colab": {
          "base_uri": "https://localhost:8080/"
        },
        "id": "i3_FVZp_-EBW",
        "outputId": "fe6ba416-cd82-42e2-91bc-da0b6c4d2c92"
      },
      "execution_count": 4,
      "outputs": [
        {
          "output_type": "stream",
          "name": "stdout",
          "text": [
            "[10, 13, 16, 19]\n"
          ]
        }
      ]
    },
    {
      "cell_type": "code",
      "source": [
        "# List Comprehension\n",
        "my_new = [x for x in range(10, 20, 3)]\n",
        "print(my_new)\n"
      ],
      "metadata": {
        "colab": {
          "base_uri": "https://localhost:8080/"
        },
        "id": "Rsvvdm_W-1Mg",
        "outputId": "8d9d2c38-6cdb-49c3-8e39-1d6c522d2b0c"
      },
      "execution_count": 5,
      "outputs": [
        {
          "output_type": "stream",
          "name": "stdout",
          "text": [
            "[10, 13, 16, 19]\n"
          ]
        }
      ]
    },
    {
      "cell_type": "code",
      "source": [
        "# Make a list containing the above\n",
        "my_list = []\n",
        "for x in range(10, 110, 10):\n",
        "    if x != 70:\n",
        "        my_list.append(x)\n",
        "\n",
        "print(my_list)"
      ],
      "metadata": {
        "colab": {
          "base_uri": "https://localhost:8080/"
        },
        "id": "wvHP4M1iB46t",
        "outputId": "72d4eedd-79f5-44d6-9b99-72e02c5a09bb"
      },
      "execution_count": 6,
      "outputs": [
        {
          "output_type": "stream",
          "name": "stdout",
          "text": [
            "[10, 20, 30, 40, 50, 60, 80, 90, 100]\n"
          ]
        }
      ]
    },
    {
      "cell_type": "code",
      "source": [
        "my_new2 = [x for x in range(10, 110, 10) if x != 70]\n",
        "print(my_new2)"
      ],
      "metadata": {
        "colab": {
          "base_uri": "https://localhost:8080/"
        },
        "id": "3VujvZ2sCEVl",
        "outputId": "31081e39-c8f7-420c-8cd2-a9850251761a"
      },
      "execution_count": 7,
      "outputs": [
        {
          "output_type": "stream",
          "name": "stdout",
          "text": [
            "[10, 20, 30, 40, 50, 60, 80, 90, 100]\n"
          ]
        }
      ]
    },
    {
      "cell_type": "code",
      "source": [
        "# EXAMPLES\n",
        "# Truth Tables\n",
        "# p, q, and r are variables True/False\n",
        "# Print out all possible combos of p, q, and r and also p and r as well as q or r\n",
        "\n",
        "print('p\\tq\\tr\\tp_and_r\\tq_or_r')\n",
        "for p in [True, False]:\n",
        "    for q in [True, False]:\n",
        "        for r in [True, False]:\n",
        "            p_and_r = p and r\n",
        "            q_or_r = q or r\n",
        "            print(f'{p}\\t{q}\\t{r}\\t{p_and_r}\\t{q_or_r}')\n",
        "\n"
      ],
      "metadata": {
        "colab": {
          "base_uri": "https://localhost:8080/"
        },
        "id": "j_aEb_DRCibX",
        "outputId": "323c4b56-c1a4-426d-acfc-af9d9f2d83e2"
      },
      "execution_count": 8,
      "outputs": [
        {
          "output_type": "stream",
          "name": "stdout",
          "text": [
            "p\tq\tr\tp_and_r\tq_or_r\n",
            "True\tTrue\tTrue\tTrue\tTrue\n",
            "True\tTrue\tFalse\tFalse\tTrue\n",
            "True\tFalse\tTrue\tTrue\tTrue\n",
            "True\tFalse\tFalse\tFalse\tFalse\n",
            "False\tTrue\tTrue\tFalse\tTrue\n",
            "False\tTrue\tFalse\tFalse\tTrue\n",
            "False\tFalse\tTrue\tFalse\tTrue\n",
            "False\tFalse\tFalse\tFalse\tFalse\n"
          ]
        }
      ]
    },
    {
      "cell_type": "code",
      "source": [
        "# Extra Credit\n",
        "V = [True, False]\n",
        "truth_values = [(p, q, r) for p in V for q in V for r in V]\n",
        "\n",
        "print(truth_values)"
      ],
      "metadata": {
        "colab": {
          "base_uri": "https://localhost:8080/"
        },
        "id": "D8Nb9VIVEIuq",
        "outputId": "d72563d6-b8a1-48e2-a4d5-cced489e1cb1"
      },
      "execution_count": 9,
      "outputs": [
        {
          "output_type": "stream",
          "name": "stdout",
          "text": [
            "[(True, True, True), (True, True, False), (True, False, True), (True, False, False), (False, True, True), (False, True, False), (False, False, True), (False, False, False)]\n"
          ]
        }
      ]
    },
    {
      "cell_type": "code",
      "source": [
        "# Example 2\n",
        "# Clean up a text file\n",
        "# Remove blank lines and lines starting with # and remove leading/trainling spaces\n"
      ],
      "metadata": {
        "id": "vlwqdqDjGJUl"
      },
      "execution_count": 10,
      "outputs": []
    },
    {
      "cell_type": "code",
      "source": [
        "%%file input.txt\n",
        "100, 200, 300\n",
        "   200, 400, 500\n",
        "\n",
        "#200\n",
        "\n",
        "500, 600, 700"
      ],
      "metadata": {
        "colab": {
          "base_uri": "https://localhost:8080/"
        },
        "id": "jMMlnNqNGnAw",
        "outputId": "92299a6c-c253-470f-9fa8-8aab0260f84f"
      },
      "execution_count": 11,
      "outputs": [
        {
          "output_type": "stream",
          "name": "stdout",
          "text": [
            "Writing input.txt\n"
          ]
        }
      ]
    },
    {
      "cell_type": "code",
      "source": [
        "input_file = open('input.txt', 'r')\n",
        "output_file = open('output.txt', 'w')\n",
        "\n",
        "keep_going = True\n",
        "while keep_going:\n",
        "    line = input_file.readline()\n",
        "    if len(line) < 1:\n",
        "        keep_going = False\n",
        "    else:\n",
        "        line = line.strip()\n",
        "\n",
        "        if len(line) > 0 and not line.startswith('#'):\n",
        "            output_file.write(line + '\\n')\n",
        "\n",
        "input_file.close()\n",
        "output_file.close()"
      ],
      "metadata": {
        "id": "7i0Js1iRGxKe"
      },
      "execution_count": 12,
      "outputs": []
    },
    {
      "cell_type": "code",
      "source": [],
      "metadata": {
        "id": "yeZ8vr0cHlx3"
      },
      "execution_count": 12,
      "outputs": []
    }
  ]
}