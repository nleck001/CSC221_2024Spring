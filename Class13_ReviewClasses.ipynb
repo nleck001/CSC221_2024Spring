{
  "nbformat": 4,
  "nbformat_minor": 0,
  "metadata": {
    "colab": {
      "provenance": [],
      "authorship_tag": "ABX9TyNjCnpTAhFp4/oYj7JfgT0A",
      "include_colab_link": true
    },
    "kernelspec": {
      "name": "python3",
      "display_name": "Python 3"
    },
    "language_info": {
      "name": "python"
    }
  },
  "cells": [
    {
      "cell_type": "markdown",
      "metadata": {
        "id": "view-in-github",
        "colab_type": "text"
      },
      "source": [
        "<a href=\"https://colab.research.google.com/github/nleck001/CSC221_Spring_2024/blob/main/Class13_ReviewClasses.ipynb\" target=\"_parent\"><img src=\"https://colab.research.google.com/assets/colab-badge.svg\" alt=\"Open In Colab\"/></a>"
      ]
    },
    {
      "cell_type": "code",
      "execution_count": 23,
      "metadata": {
        "id": "PVGACxtOiTcP"
      },
      "outputs": [],
      "source": [
        "# CSC221 Spring 2024\n",
        "# Ned Lecky\n",
        "\n",
        "# Do you know what all these moves do??"
      ]
    },
    {
      "cell_type": "code",
      "source": [
        "class ClassName:\n",
        "    instance_count = 0\n",
        "    def __init__(self, t):\n",
        "        ClassName.instance_count += 1\n",
        "        self.x = t\n",
        "    def __str__(self): # Show as string\n",
        "        return f'{self.instance_count=} {self.x=}'\n",
        "    def __repr__(self): # How to make me\n",
        "        return f'ClassName({self.x})'\n",
        "    def add(self, x):\n",
        "        self.x += x\n",
        "\n",
        "c1 = ClassName(10);\n",
        "print(c1) # This will print using __str__\n",
        "c1 # REPR will print so it will use __repr__"
      ],
      "metadata": {
        "colab": {
          "base_uri": "https://localhost:8080/"
        },
        "id": "o-4C2j1Lij3q",
        "outputId": "d2cdab1c-fa73-45cf-b57b-984c1d77dc29"
      },
      "execution_count": 24,
      "outputs": [
        {
          "output_type": "stream",
          "name": "stdout",
          "text": [
            "self.instance_count=1 self.x=10\n"
          ]
        },
        {
          "output_type": "execute_result",
          "data": {
            "text/plain": [
              "ClassName(10)"
            ]
          },
          "metadata": {},
          "execution_count": 24
        }
      ]
    },
    {
      "cell_type": "code",
      "source": [
        "c2 = ClassName(20)\n",
        "print(c2) # print using __str__ (default)\n",
        "print(f'{c2!s}') # print using __str__ (explicit)\n",
        "print(f'{c2!r}') # print using __repr__ (\"How to make one of me?\")\n"
      ],
      "metadata": {
        "colab": {
          "base_uri": "https://localhost:8080/"
        },
        "id": "YxZUrXq1iuee",
        "outputId": "e49a4466-8d8b-43f5-83b7-09aea4658a0b"
      },
      "execution_count": 25,
      "outputs": [
        {
          "output_type": "stream",
          "name": "stdout",
          "text": [
            "self.instance_count=2 self.x=20\n",
            "self.instance_count=2 self.x=20\n",
            "ClassName(20)\n"
          ]
        }
      ]
    },
    {
      "cell_type": "code",
      "source": [
        "c2.add(123)\n",
        "print(c2) # print using __str__ (default)\n",
        "print(f'{c2!s}') # print using __str__ (explicit)\n",
        "print(f'{c2!r}') # print using __repr__ (\"How to make one of me?\")"
      ],
      "metadata": {
        "colab": {
          "base_uri": "https://localhost:8080/"
        },
        "id": "PdMKGGjSj3XE",
        "outputId": "166a2522-ec54-4110-b191-06e1fff8da50"
      },
      "execution_count": 26,
      "outputs": [
        {
          "output_type": "stream",
          "name": "stdout",
          "text": [
            "self.instance_count=2 self.x=143\n",
            "self.instance_count=2 self.x=143\n",
            "ClassName(143)\n"
          ]
        }
      ]
    },
    {
      "cell_type": "code",
      "source": [],
      "metadata": {
        "id": "9fee4cOPkd7L"
      },
      "execution_count": 26,
      "outputs": []
    }
  ]
}