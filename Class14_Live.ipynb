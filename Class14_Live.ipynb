{
  "nbformat": 4,
  "nbformat_minor": 0,
  "metadata": {
    "colab": {
      "provenance": [],
      "authorship_tag": "ABX9TyPQ//oYcUYcFMaX+tjGgSd3",
      "include_colab_link": true
    },
    "kernelspec": {
      "name": "python3",
      "display_name": "Python 3"
    },
    "language_info": {
      "name": "python"
    }
  },
  "cells": [
    {
      "cell_type": "markdown",
      "metadata": {
        "id": "view-in-github",
        "colab_type": "text"
      },
      "source": [
        "<a href=\"https://colab.research.google.com/github/nleck001/CSC221_Spring_2024/blob/main/Class14_Live.ipynb\" target=\"_parent\"><img src=\"https://colab.research.google.com/assets/colab-badge.svg\" alt=\"Open In Colab\"/></a>"
      ]
    },
    {
      "cell_type": "markdown",
      "source": [
        "## CSC 221 Spring 2024\n",
        "- Ned Lecky\n",
        "- 3/15/2024\n",
        "<p>This is a simple example using classes and inheritance."
      ],
      "metadata": {
        "id": "u8_M4zIUoZC0"
      }
    },
    {
      "cell_type": "code",
      "execution_count": 22,
      "metadata": {
        "id": "F_6mIaV-J526"
      },
      "outputs": [],
      "source": [
        "# n-sided Die\n",
        "class Die1:\n",
        "    def __init__(self, num_sides=6):\n",
        "        self.num_sides = num_sides\n",
        "    def __str__(self):\n",
        "        return f'This die has {self.num_sides} sides.'\n"
      ]
    },
    {
      "cell_type": "code",
      "source": [
        "d1 = Die1()\n",
        "print(d1)"
      ],
      "metadata": {
        "colab": {
          "base_uri": "https://localhost:8080/"
        },
        "id": "tfYOLOpUM0Hc",
        "outputId": "fd555a7f-08ef-40f1-c02b-7f2e71d7e408"
      },
      "execution_count": 23,
      "outputs": [
        {
          "output_type": "stream",
          "name": "stdout",
          "text": [
            "This die has 6 sides.\n"
          ]
        }
      ]
    },
    {
      "cell_type": "code",
      "source": [
        "# Make it roll!\n",
        "import random\n",
        "class Die2:\n",
        "    def __init__(self, num_sides=6):\n",
        "        self.num_sides = num_sides\n",
        "    def __str__(self):\n",
        "        return f'This die has {self.num_sides} sides.'\n",
        "    def roll_die(self):\n",
        "        roll = random.randint(1, self.num_sides)\n",
        "        print(roll)\n",
        "\n",
        "d2 = Die2()\n",
        "print(d2)\n",
        "d2.roll_die()\n",
        "d2.roll_die()\n",
        "d2.roll_die()\n",
        "d2.roll_die()\n",
        "d2.roll_die()\n"
      ],
      "metadata": {
        "colab": {
          "base_uri": "https://localhost:8080/"
        },
        "id": "F1pfGzfTNE88",
        "outputId": "e8c4a4f5-e973-4095-a7c1-a6f445dd7621"
      },
      "execution_count": 24,
      "outputs": [
        {
          "output_type": "stream",
          "name": "stdout",
          "text": [
            "This die has 6 sides.\n",
            "5\n",
            "6\n",
            "5\n",
            "3\n",
            "1\n"
          ]
        }
      ]
    },
    {
      "cell_type": "code",
      "source": [
        "d3 = Die2(24)\n",
        "for i in range(10):\n",
        "    d3.roll_die()\n"
      ],
      "metadata": {
        "colab": {
          "base_uri": "https://localhost:8080/"
        },
        "id": "Ajtzg1w7OLiW",
        "outputId": "fdee45ab-ed3d-4a47-8152-3ee97030d2d9"
      },
      "execution_count": 25,
      "outputs": [
        {
          "output_type": "stream",
          "name": "stdout",
          "text": [
            "7\n",
            "24\n",
            "21\n",
            "5\n",
            "7\n",
            "23\n",
            "4\n",
            "7\n",
            "7\n",
            "18\n"
          ]
        }
      ]
    },
    {
      "cell_type": "code",
      "source": [
        "# Make sure the rolls look good\n",
        "# Must refactor to get access to the roll result\n",
        "class Die3:\n",
        "    def __init__(self, num_sides=6):\n",
        "        self.num_sides = num_sides\n",
        "    def __str__(self):\n",
        "        return f'This die has {self.num_sides} sides.'\n",
        "    def roll_die(self):\n",
        "        roll = random.randint(1, self.num_sides)\n",
        "        return roll\n",
        "\n",
        "# Test your die a bit better\n",
        "d4 = Die3(60)\n",
        "min_roll = 99999\n",
        "max_roll = -99999\n",
        "total = 0\n",
        "num_rolls = 100000\n",
        "\n",
        "for i in range(num_rolls):\n",
        "    r = d4.roll_die()\n",
        "\n",
        "    if r < min_roll:\n",
        "        min_roll = r\n",
        "\n",
        "    if r > max_roll:\n",
        "        max_roll = r\n",
        "\n",
        "    total += r\n",
        "\n",
        "    #print(r)\n",
        "\n",
        "# Expect min=1, max=60, average = (1 + 60) / 2\n",
        "print(f'{min_roll=} {max_roll=} average = {total / num_rolls}')"
      ],
      "metadata": {
        "colab": {
          "base_uri": "https://localhost:8080/"
        },
        "id": "0_PJL07NOlIV",
        "outputId": "5a2464ee-76dc-4ff5-8e43-44eda06adf3d"
      },
      "execution_count": 26,
      "outputs": [
        {
          "output_type": "stream",
          "name": "stdout",
          "text": [
            "min_roll=1 max_roll=60 average = 30.49147\n"
          ]
        }
      ]
    },
    {
      "cell_type": "code",
      "source": [
        "# Add a collection of Dice!\n",
        "class Die:\n",
        "    def __init__(self, num_sides=6):\n",
        "        self.num_sides = num_sides\n",
        "    def __repr__(self):\n",
        "        return f'Die({self.num_sides})'\n",
        "    def __str__(self):\n",
        "        return f'{self.num_sides} sides'\n",
        "    def roll(self):\n",
        "        r = random.randint(1, self.num_sides)\n",
        "        return r\n",
        "\n",
        "class Dice:\n",
        "    def __init__(self):\n",
        "        self.dice_list = []\n",
        "    def __str__(self):\n",
        "        return 'The dice are: ' + str(self.dice_list)\n",
        "    def add(self, d):\n",
        "        self.dice_list.append(d)\n",
        "    def print(self):\n",
        "        for d in self.dice_list:\n",
        "            print(d)\n",
        "    def roll(self):\n",
        "        print('Rolling!')\n",
        "        for d in self.dice_list:\n",
        "            r = d.roll()\n",
        "            print(d, r)\n",
        "\n",
        "\n",
        "d1 = Die(6)\n",
        "d2 = Die(12)\n",
        "d3 = Die(6)\n",
        "d4 = Die(12)\n",
        "\n",
        "dice = Dice()\n",
        "dice.add(Die(6))\n",
        "dice.add(Die(6))\n",
        "dice.add(Die(12))\n",
        "dice.add(Die(100))\n",
        "\n",
        "print(dice)\n",
        "dice.print()\n",
        "dice.roll()\n",
        "\n"
      ],
      "metadata": {
        "colab": {
          "base_uri": "https://localhost:8080/"
        },
        "id": "0vaGJZPZPfND",
        "outputId": "cdaea832-fd22-44a8-ac9c-92aad09c93b5"
      },
      "execution_count": 27,
      "outputs": [
        {
          "output_type": "stream",
          "name": "stdout",
          "text": [
            "The dice are: [Die(6), Die(6), Die(12), Die(100)]\n",
            "6 sides\n",
            "6 sides\n",
            "12 sides\n",
            "100 sides\n",
            "Rolling!\n",
            "6 sides 4\n",
            "6 sides 5\n",
            "12 sides 5\n",
            "100 sides 44\n"
          ]
        }
      ]
    }
  ]
}