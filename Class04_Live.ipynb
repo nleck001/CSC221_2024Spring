{
  "nbformat": 4,
  "nbformat_minor": 0,
  "metadata": {
    "colab": {
      "provenance": [],
      "mount_file_id": "1eMQ3fdnThXWcLFBAdzQJXgtIDg4xeWuw",
      "authorship_tag": "ABX9TyOwyhsRgblrGdUX+8JtooYn",
      "include_colab_link": true
    },
    "kernelspec": {
      "name": "python3",
      "display_name": "Python 3"
    },
    "language_info": {
      "name": "python"
    }
  },
  "cells": [
    {
      "cell_type": "markdown",
      "metadata": {
        "id": "view-in-github",
        "colab_type": "text"
      },
      "source": [
        "<a href=\"https://colab.research.google.com/github/nleck001/CSC221_Spring_2024/blob/main/Class04_Live.ipynb\" target=\"_parent\"><img src=\"https://colab.research.google.com/assets/colab-badge.svg\" alt=\"Open In Colab\"/></a>"
      ]
    },
    {
      "cell_type": "markdown",
      "source": [
        "## CSC217 Class 4\n",
        "- As done live in class 2/8/2024\n",
        "- Crash Chapter 3"
      ],
      "metadata": {
        "id": "CgSJjy56AMz4"
      }
    },
    {
      "cell_type": "code",
      "source": [
        "abc = [1, 2, 3, 8]"
      ],
      "metadata": {
        "id": "Q5Fww_dUIPFy"
      },
      "execution_count": null,
      "outputs": []
    },
    {
      "cell_type": "code",
      "source": [
        "print(type(abc))"
      ],
      "metadata": {
        "colab": {
          "base_uri": "https://localhost:8080/"
        },
        "id": "6ObfATJnJ3Er",
        "outputId": "0a7da8ae-5413-4047-82a4-1be0a49c165a"
      },
      "execution_count": null,
      "outputs": [
        {
          "output_type": "stream",
          "name": "stdout",
          "text": [
            "<class 'list'>\n"
          ]
        }
      ]
    },
    {
      "cell_type": "code",
      "source": [
        "print(abc[1])"
      ],
      "metadata": {
        "colab": {
          "base_uri": "https://localhost:8080/"
        },
        "id": "FMy-YmSXJ6my",
        "outputId": "d81cab25-91ce-48e5-a93c-244d076e688c"
      },
      "execution_count": null,
      "outputs": [
        {
          "output_type": "stream",
          "name": "stdout",
          "text": [
            "2\n"
          ]
        }
      ]
    },
    {
      "cell_type": "code",
      "source": [
        "print(abc[-1])"
      ],
      "metadata": {
        "colab": {
          "base_uri": "https://localhost:8080/"
        },
        "id": "GeHJcjc-J-1S",
        "outputId": "9674e765-8e48-42a8-9558-e74ac8fb0953"
      },
      "execution_count": null,
      "outputs": [
        {
          "output_type": "stream",
          "name": "stdout",
          "text": [
            "8\n"
          ]
        }
      ]
    },
    {
      "cell_type": "code",
      "source": [
        "abc.append(123)\n",
        "print(abc)\n",
        "print(len(abc))"
      ],
      "metadata": {
        "colab": {
          "base_uri": "https://localhost:8080/"
        },
        "id": "H2-3n19UKKur",
        "outputId": "c5b07067-ced5-4079-8b8f-87fb72025297"
      },
      "execution_count": null,
      "outputs": [
        {
          "output_type": "stream",
          "name": "stdout",
          "text": [
            "[1, 2, 3, 8, 123, 123]\n",
            "6\n"
          ]
        }
      ]
    },
    {
      "cell_type": "code",
      "source": [
        "abc[3] = 'ned'"
      ],
      "metadata": {
        "id": "bIzXaMsZKVU7"
      },
      "execution_count": null,
      "outputs": []
    },
    {
      "cell_type": "code",
      "source": [
        "print(abc)"
      ],
      "metadata": {
        "colab": {
          "base_uri": "https://localhost:8080/"
        },
        "id": "7JRuD6noKvcj",
        "outputId": "7997a324-0ab0-4c3d-deb4-4f5e1f89a57e"
      },
      "execution_count": null,
      "outputs": [
        {
          "output_type": "stream",
          "name": "stdout",
          "text": [
            "[1, 2, 3, 'ned', 123, 123]\n"
          ]
        }
      ]
    },
    {
      "cell_type": "code",
      "source": [
        "print(abc[6])"
      ],
      "metadata": {
        "colab": {
          "base_uri": "https://localhost:8080/",
          "height": 175
        },
        "id": "N5dftPuBKyRa",
        "outputId": "32781a2e-bfd9-4429-d719-3969b9aa5dec"
      },
      "execution_count": null,
      "outputs": [
        {
          "output_type": "error",
          "ename": "IndexError",
          "evalue": "list index out of range",
          "traceback": [
            "\u001b[0;31m---------------------------------------------------------------------------\u001b[0m",
            "\u001b[0;31mIndexError\u001b[0m                                Traceback (most recent call last)",
            "\u001b[0;32m<ipython-input-10-c765f530df74>\u001b[0m in \u001b[0;36m<cell line: 1>\u001b[0;34m()\u001b[0m\n\u001b[0;32m----> 1\u001b[0;31m \u001b[0mprint\u001b[0m\u001b[0;34m(\u001b[0m\u001b[0mabc\u001b[0m\u001b[0;34m[\u001b[0m\u001b[0;36m6\u001b[0m\u001b[0;34m]\u001b[0m\u001b[0;34m)\u001b[0m\u001b[0;34m\u001b[0m\u001b[0;34m\u001b[0m\u001b[0m\n\u001b[0m",
            "\u001b[0;31mIndexError\u001b[0m: list index out of range"
          ]
        }
      ]
    },
    {
      "cell_type": "code",
      "source": [
        "t1 = (13, 21, 81,5)\n",
        "print(type(t1))\n",
        "print(t1)"
      ],
      "metadata": {
        "colab": {
          "base_uri": "https://localhost:8080/"
        },
        "id": "ra5GxJPgLKI0",
        "outputId": "46870ca1-2ceb-4e6b-a86d-481fbb29fb45"
      },
      "execution_count": null,
      "outputs": [
        {
          "output_type": "stream",
          "name": "stdout",
          "text": [
            "<class 'tuple'>\n",
            "(13, 21, 81, 5)\n"
          ]
        }
      ]
    },
    {
      "cell_type": "code",
      "source": [
        "# Polymorphism\n",
        "\n",
        "s1 = 'ned'\n",
        "s2 = 'lecky'\n",
        "print(s1 + s2)\n",
        "\n",
        "s1 = 13\n",
        "s2 = 27\n",
        "print(s1 + s2)\n",
        "\n",
        "s1 = 'ned'\n",
        "s2 = 27\n",
        "print(s1 + s2)"
      ],
      "metadata": {
        "colab": {
          "base_uri": "https://localhost:8080/",
          "height": 245
        },
        "id": "Rybr4bMNLc6U",
        "outputId": "550aab61-5d24-48f7-968b-78b03989d302"
      },
      "execution_count": null,
      "outputs": [
        {
          "output_type": "stream",
          "name": "stdout",
          "text": [
            "nedlecky\n",
            "40\n"
          ]
        },
        {
          "output_type": "error",
          "ename": "TypeError",
          "evalue": "can only concatenate str (not \"int\") to str",
          "traceback": [
            "\u001b[0;31m---------------------------------------------------------------------------\u001b[0m",
            "\u001b[0;31mTypeError\u001b[0m                                 Traceback (most recent call last)",
            "\u001b[0;32m<ipython-input-15-4ab59f55bb6f>\u001b[0m in \u001b[0;36m<cell line: 13>\u001b[0;34m()\u001b[0m\n\u001b[1;32m     11\u001b[0m \u001b[0ms1\u001b[0m \u001b[0;34m=\u001b[0m \u001b[0;34m'ned'\u001b[0m\u001b[0;34m\u001b[0m\u001b[0;34m\u001b[0m\u001b[0m\n\u001b[1;32m     12\u001b[0m \u001b[0ms2\u001b[0m \u001b[0;34m=\u001b[0m \u001b[0;36m27\u001b[0m\u001b[0;34m\u001b[0m\u001b[0;34m\u001b[0m\u001b[0m\n\u001b[0;32m---> 13\u001b[0;31m \u001b[0mprint\u001b[0m\u001b[0;34m(\u001b[0m\u001b[0ms1\u001b[0m \u001b[0;34m+\u001b[0m \u001b[0ms2\u001b[0m\u001b[0;34m)\u001b[0m\u001b[0;34m\u001b[0m\u001b[0;34m\u001b[0m\u001b[0m\n\u001b[0m",
            "\u001b[0;31mTypeError\u001b[0m: can only concatenate str (not \"int\") to str"
          ]
        }
      ]
    },
    {
      "cell_type": "code",
      "source": [
        "x = '13'\n",
        "\n",
        "print(x*10)\\\n",
        "\n",
        "x = 13\n",
        "\n",
        "print(x*10)"
      ],
      "metadata": {
        "colab": {
          "base_uri": "https://localhost:8080/"
        },
        "id": "hfpBdgdIL8Fl",
        "outputId": "f5107642-2ad7-4b2e-a3f9-0dfea5fbe713"
      },
      "execution_count": null,
      "outputs": [
        {
          "output_type": "stream",
          "name": "stdout",
          "text": [
            "13131313131313131313\n",
            "130\n"
          ]
        }
      ]
    },
    {
      "cell_type": "code",
      "source": [
        "print(t1)"
      ],
      "metadata": {
        "colab": {
          "base_uri": "https://localhost:8080/"
        },
        "id": "Y3qcdG8RMfr2",
        "outputId": "4151a943-7d86-4d58-911e-79fbc716882d"
      },
      "execution_count": null,
      "outputs": [
        {
          "output_type": "stream",
          "name": "stdout",
          "text": [
            "(13, 21, 81, 5)\n"
          ]
        }
      ]
    },
    {
      "cell_type": "code",
      "source": [
        "t1[1] = 22"
      ],
      "metadata": {
        "colab": {
          "base_uri": "https://localhost:8080/",
          "height": 175
        },
        "id": "wJo8BCMYNFGG",
        "outputId": "91ef7096-2136-4db6-ec38-4fccb8f71ca7"
      },
      "execution_count": null,
      "outputs": [
        {
          "output_type": "error",
          "ename": "TypeError",
          "evalue": "'tuple' object does not support item assignment",
          "traceback": [
            "\u001b[0;31m---------------------------------------------------------------------------\u001b[0m",
            "\u001b[0;31mTypeError\u001b[0m                                 Traceback (most recent call last)",
            "\u001b[0;32m<ipython-input-19-bbb5799eac2e>\u001b[0m in \u001b[0;36m<cell line: 1>\u001b[0;34m()\u001b[0m\n\u001b[0;32m----> 1\u001b[0;31m \u001b[0mt1\u001b[0m\u001b[0;34m[\u001b[0m\u001b[0;36m1\u001b[0m\u001b[0;34m]\u001b[0m \u001b[0;34m=\u001b[0m \u001b[0;36m22\u001b[0m\u001b[0;34m\u001b[0m\u001b[0;34m\u001b[0m\u001b[0m\n\u001b[0m",
            "\u001b[0;31mTypeError\u001b[0m: 'tuple' object does not support item assignment"
          ]
        }
      ]
    },
    {
      "cell_type": "code",
      "source": [
        "print(abc)"
      ],
      "metadata": {
        "colab": {
          "base_uri": "https://localhost:8080/"
        },
        "id": "nmUlDfsoNJ8v",
        "outputId": "0349b371-d0b3-42d2-aaae-5cd7f0889dd0"
      },
      "execution_count": null,
      "outputs": [
        {
          "output_type": "stream",
          "name": "stdout",
          "text": [
            "[1, 2, 3, 'ned', 123, 123]\n"
          ]
        }
      ]
    },
    {
      "cell_type": "code",
      "source": [
        "last = abc.pop()\n",
        "\n",
        "print(last, abc)"
      ],
      "metadata": {
        "colab": {
          "base_uri": "https://localhost:8080/",
          "height": 210
        },
        "id": "U_fEMNR0NTg_",
        "outputId": "d8d7189d-5a1e-4890-aa77-a73524b44b33"
      },
      "execution_count": null,
      "outputs": [
        {
          "output_type": "error",
          "ename": "IndexError",
          "evalue": "pop from empty list",
          "traceback": [
            "\u001b[0;31m---------------------------------------------------------------------------\u001b[0m",
            "\u001b[0;31mIndexError\u001b[0m                                Traceback (most recent call last)",
            "\u001b[0;32m<ipython-input-27-008d5aeaccea>\u001b[0m in \u001b[0;36m<cell line: 1>\u001b[0;34m()\u001b[0m\n\u001b[0;32m----> 1\u001b[0;31m \u001b[0mlast\u001b[0m \u001b[0;34m=\u001b[0m \u001b[0mabc\u001b[0m\u001b[0;34m.\u001b[0m\u001b[0mpop\u001b[0m\u001b[0;34m(\u001b[0m\u001b[0;34m)\u001b[0m\u001b[0;34m\u001b[0m\u001b[0;34m\u001b[0m\u001b[0m\n\u001b[0m\u001b[1;32m      2\u001b[0m \u001b[0;34m\u001b[0m\u001b[0m\n\u001b[1;32m      3\u001b[0m \u001b[0mprint\u001b[0m\u001b[0;34m(\u001b[0m\u001b[0mlast\u001b[0m\u001b[0;34m,\u001b[0m \u001b[0mabc\u001b[0m\u001b[0;34m)\u001b[0m\u001b[0;34m\u001b[0m\u001b[0;34m\u001b[0m\u001b[0m\n",
            "\u001b[0;31mIndexError\u001b[0m: pop from empty list"
          ]
        }
      ]
    },
    {
      "cell_type": "code",
      "source": [
        "%%file data.txt\n",
        "Stuff 1\n",
        "Stuff 2\n",
        "...\n",
        "Hi!!\n",
        "Ned here\n",
        "Line number, um, not sure..."
      ],
      "metadata": {
        "colab": {
          "base_uri": "https://localhost:8080/"
        },
        "id": "jO0rN9WCQGZH",
        "outputId": "e041fe3e-7a6b-441b-c018-4d0ecacb47bd"
      },
      "execution_count": null,
      "outputs": [
        {
          "output_type": "stream",
          "name": "stdout",
          "text": [
            "Overwriting data.txt\n"
          ]
        }
      ]
    },
    {
      "cell_type": "code",
      "source": [
        "# How about working with files??\n",
        "\n",
        "f1 = open(\"data.txt\", \"r\")\n",
        "\n",
        "lines = f1.readlines()\n",
        "\n",
        "print(lines)\n",
        "\n",
        "f1.close()\n",
        "\n"
      ],
      "metadata": {
        "id": "pT0xFM5YNb5I",
        "colab": {
          "base_uri": "https://localhost:8080/"
        },
        "outputId": "3ec3323f-d203-499f-8c84-6c2a8c348b39"
      },
      "execution_count": null,
      "outputs": [
        {
          "output_type": "stream",
          "name": "stdout",
          "text": [
            "['Stuff 1\\n', 'Stuff 2\\n', '...\\n', 'Hi!!\\n', 'Ned here\\n', 'Line number, um, not sure...\\n']\n"
          ]
        }
      ]
    },
    {
      "cell_type": "code",
      "source": [
        "# ChatGPT\n",
        "def main():\n",
        "    # Initialize sum to 0\n",
        "    total = 0\n",
        "\n",
        "    # Loop through numbers from 50 to 700\n",
        "    for num in range(50, 701):\n",
        "        # Add each number to the total\n",
        "        total += num\n",
        "\n",
        "    # Print the sum\n",
        "    print(\"The sum of numbers from 50 to 700 is:\", total)\n",
        "\n",
        "main()\n"
      ],
      "metadata": {
        "colab": {
          "base_uri": "https://localhost:8080/"
        },
        "id": "v6-RDdPPPHqO",
        "outputId": "a40a0916-4b0b-4468-efe1-a6075c491425"
      },
      "execution_count": null,
      "outputs": [
        {
          "output_type": "stream",
          "name": "stdout",
          "text": [
            "The sum of numbers from 50 to 700 is: 244125\n"
          ]
        }
      ]
    },
    {
      "cell_type": "code",
      "source": [
        "# Special String Characters\n",
        "str1 = \"Hello, World!\\nIt is very\\tnice to meet you\\n\\nBuhbye.\"\n",
        "print(str1)"
      ],
      "metadata": {
        "colab": {
          "base_uri": "https://localhost:8080/"
        },
        "id": "TII76646PMHE",
        "outputId": "85d822cc-f768-4b9d-8982-eecdcbcf89e9"
      },
      "execution_count": null,
      "outputs": [
        {
          "output_type": "stream",
          "name": "stdout",
          "text": [
            "Hello, World!\n",
            "It is very\tnice to meet you\n",
            "\n",
            "Buhbye.\n"
          ]
        }
      ]
    },
    {
      "cell_type": "code",
      "source": [
        "# Iterating through all elements\n",
        "line_number = 1\n",
        "for line in lines:\n",
        "    print(f\"I'm line number {line_number}: {line.strip()}\")\n",
        "    # Basic\n",
        "    # line_number = line_number + 1\n",
        "    # Fancy\n",
        "    line_number += 1\n"
      ],
      "metadata": {
        "colab": {
          "base_uri": "https://localhost:8080/"
        },
        "id": "EvRGqnWUSfDq",
        "outputId": "147dca4e-0e1b-468a-f818-d374f73b1fab"
      },
      "execution_count": null,
      "outputs": [
        {
          "output_type": "stream",
          "name": "stdout",
          "text": [
            "I'm line number 1: Stuff 1\n",
            "I'm line number 2: Stuff 2\n",
            "I'm line number 3: ...\n",
            "I'm line number 4: Hi!!\n",
            "I'm line number 5: Ned here\n",
            "I'm line number 6: Line number, um, not sure...\n"
          ]
        }
      ]
    },
    {
      "cell_type": "code",
      "source": [
        "# Guessing Game\n",
        "import random\n",
        "\n",
        "print(\"Welcome to the game!\")\n",
        "\n",
        "num = random.randint(1, 10)\n",
        "print(f\"(Hint: num = {num})\")\n",
        "\n",
        "while True:\n",
        "    guess = input('Please guess a number 1-10: ')\n",
        "\n",
        "    try:\n",
        "        if int(guess) == num:\n",
        "            print(\"Wow! You got it!!\")\n",
        "            break\n",
        "    except:\n",
        "        print('Bad input!')\n"
      ],
      "metadata": {
        "colab": {
          "base_uri": "https://localhost:8080/"
        },
        "id": "U6eHPWENTDta",
        "outputId": "2be51857-5755-4d80-c898-57815a06a1a0"
      },
      "execution_count": null,
      "outputs": [
        {
          "output_type": "stream",
          "name": "stdout",
          "text": [
            "Welcome to the game!\n",
            "(Hint: num = 9)\n",
            "Please guess a number 1-10: 6\n",
            "Please guess a number 1-10: ned\n",
            "Bad input!\n",
            "Please guess a number 1-10: 13.4\n",
            "Bad input!\n",
            "Please guess a number 1-10: 5\n",
            "Please guess a number 1-10: 8\n",
            "Please guess a number 1-10: 9\n",
            "Wow! You got it!!\n"
          ]
        }
      ]
    },
    {
      "cell_type": "code",
      "source": [],
      "metadata": {
        "id": "PuQaugv8XZYR"
      },
      "execution_count": null,
      "outputs": []
    }
  ]
}