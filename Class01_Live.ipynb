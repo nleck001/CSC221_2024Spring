{
  "nbformat": 4,
  "nbformat_minor": 0,
  "metadata": {
    "colab": {
      "provenance": [],
      "authorship_tag": "ABX9TyOxk9vIjkEPYjz/tXS622ea",
      "include_colab_link": true
    },
    "kernelspec": {
      "name": "python3",
      "display_name": "Python 3"
    },
    "language_info": {
      "name": "python"
    }
  },
  "cells": [
    {
      "cell_type": "markdown",
      "metadata": {
        "id": "view-in-github",
        "colab_type": "text"
      },
      "source": [
        "<a href=\"https://colab.research.google.com/github/nleck001/CSC221_Spring_2024/blob/main/Class01_Live.ipynb\" target=\"_parent\"><img src=\"https://colab.research.google.com/assets/colab-badge.svg\" alt=\"Open In Colab\"/></a>"
      ]
    },
    {
      "cell_type": "code",
      "source": [
        "# What we did in class 1/30/2024"
      ],
      "metadata": {
        "id": "SwCe34EgxPbl"
      },
      "execution_count": 1,
      "outputs": []
    },
    {
      "cell_type": "code",
      "execution_count": 2,
      "metadata": {
        "colab": {
          "base_uri": "https://localhost:8080/"
        },
        "id": "wlvgw08NCS3i",
        "outputId": "2a332214-21c7-4bb1-808b-d02f3ca8a7f1"
      },
      "outputs": [
        {
          "output_type": "stream",
          "name": "stdout",
          "text": [
            "Yahoo, Great Job! 0\n",
            "Yahoo, Great Job! 1\n",
            "Yahoo, Great Job! 2\n"
          ]
        }
      ],
      "source": [
        "number_of_times = 0\n",
        "\n",
        "while number_of_times < 3:\n",
        "    print(f\"Yahoo, Great Job! {number_of_times}\")\n",
        "    number_of_times += 1"
      ]
    },
    {
      "cell_type": "code",
      "source": [],
      "metadata": {
        "id": "xgUizHc8CiCh"
      },
      "execution_count": 2,
      "outputs": []
    }
  ]
}