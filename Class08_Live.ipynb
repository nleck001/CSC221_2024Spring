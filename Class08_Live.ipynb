{
  "nbformat": 4,
  "nbformat_minor": 0,
  "metadata": {
    "colab": {
      "provenance": [],
      "authorship_tag": "ABX9TyPsTvMq3XEr2/0S2fIgoe21",
      "include_colab_link": true
    },
    "kernelspec": {
      "name": "python3",
      "display_name": "Python 3"
    },
    "language_info": {
      "name": "python"
    }
  },
  "cells": [
    {
      "cell_type": "markdown",
      "metadata": {
        "id": "view-in-github",
        "colab_type": "text"
      },
      "source": [
        "<a href=\"https://colab.research.google.com/github/nleck001/CSC221_Spring_2024/blob/main/Class08_Live.ipynb\" target=\"_parent\"><img src=\"https://colab.research.google.com/assets/colab-badge.svg\" alt=\"Open In Colab\"/></a>"
      ]
    },
    {
      "cell_type": "code",
      "execution_count": null,
      "metadata": {
        "id": "1kPMzToiOA07"
      },
      "outputs": [],
      "source": [
        "# Class 8 CSC 221 Spring 2024\n",
        "# 2/22/2024"
      ]
    },
    {
      "cell_type": "code",
      "source": [
        "def f1():\n",
        "    '''No in No Out'''\n",
        "    print(\"I just print\")\n",
        "\n",
        "\n",
        "f1()\n",
        "a = f1()\n",
        "print(a)"
      ],
      "metadata": {
        "colab": {
          "base_uri": "https://localhost:8080/"
        },
        "id": "NASt5QdROMDZ",
        "outputId": "e204e2a9-fabf-46a9-a8f3-72bebb0c1265"
      },
      "execution_count": 5,
      "outputs": [
        {
          "output_type": "stream",
          "name": "stdout",
          "text": [
            "I just print\n",
            "I just print\n",
            "None\n"
          ]
        }
      ]
    },
    {
      "cell_type": "code",
      "source": [
        "def f2(x):\n",
        "    '''One in No Out'''\n",
        "    print(f\"I just print and btw {x=}\")\n",
        "\n",
        "\n",
        "f2(12)\n",
        "a = f2(47)\n",
        "print(a)"
      ],
      "metadata": {
        "colab": {
          "base_uri": "https://localhost:8080/"
        },
        "id": "XBI2EDcKUZKF",
        "outputId": "a5b6c12b-524b-44d4-d110-8841fe2c7d20"
      },
      "execution_count": 9,
      "outputs": [
        {
          "output_type": "stream",
          "name": "stdout",
          "text": [
            "I just print and btw x=12\n",
            "I just print and btw x=47\n",
            "None\n"
          ]
        }
      ]
    },
    {
      "cell_type": "code",
      "source": [
        "def f3(x):\n",
        "    '''One in One Out'''\n",
        "    print(f\"I just print and btw {x=}\")\n",
        "\n",
        "    return x * 2\n",
        "\n",
        "\n",
        "f3(12)\n",
        "a = f3(47)\n",
        "print(a)"
      ],
      "metadata": {
        "colab": {
          "base_uri": "https://localhost:8080/"
        },
        "id": "ccZe7mpxU8C8",
        "outputId": "152f3c90-7ccf-4d56-e7e7-291c0ebb7920"
      },
      "execution_count": 10,
      "outputs": [
        {
          "output_type": "stream",
          "name": "stdout",
          "text": [
            "I just print and btw x=12\n",
            "I just print and btw x=47\n",
            "94\n"
          ]
        }
      ]
    },
    {
      "cell_type": "code",
      "source": [
        "def f4(x, y):\n",
        "    '''Two in One Out'''\n",
        "    print(f\"I just print and btw {x=} {y=}\")\n",
        "    print(f\"You called f4({x}, {y})\")\n",
        "\n",
        "    return x + y * 2\n",
        "\n",
        "\n",
        "f4(12, 21)\n",
        "a = f4(47, 12)\n",
        "print(a)"
      ],
      "metadata": {
        "colab": {
          "base_uri": "https://localhost:8080/"
        },
        "id": "kFM_8mguVbXG",
        "outputId": "49956fa1-fb66-4306-b9b6-e56715ed612c"
      },
      "execution_count": 12,
      "outputs": [
        {
          "output_type": "stream",
          "name": "stdout",
          "text": [
            "I just print and btw x=12 y=21\n",
            "You called f4(12, 21)\n",
            "I just print and btw x=47 y=12\n",
            "You called f4(47, 12)\n",
            "71\n"
          ]
        }
      ]
    },
    {
      "cell_type": "code",
      "source": [
        "# Named\n",
        "f4(12, 21)\n",
        "\n",
        "a = f4(47, 12)\n",
        "print(a)\n",
        "\n",
        "a = f4(12, 47)\n",
        "print(a)\n",
        "\n",
        "a = f4(y=12, x=47)\n",
        "print(a)\n"
      ],
      "metadata": {
        "colab": {
          "base_uri": "https://localhost:8080/"
        },
        "id": "Zx3B31u5V43u",
        "outputId": "e47bbe06-2886-4267-935a-9f01d904d345"
      },
      "execution_count": 13,
      "outputs": [
        {
          "output_type": "stream",
          "name": "stdout",
          "text": [
            "I just print and btw x=12 y=21\n",
            "You called f4(12, 21)\n",
            "I just print and btw x=47 y=12\n",
            "You called f4(47, 12)\n",
            "71\n",
            "I just print and btw x=12 y=47\n",
            "You called f4(12, 47)\n",
            "106\n",
            "I just print and btw x=47 y=12\n",
            "You called f4(47, 12)\n",
            "71\n"
          ]
        }
      ]
    },
    {
      "cell_type": "code",
      "source": [
        "def f5(length, width, height, color, shape, name):\n",
        "    '''Six in Two Out'''\n",
        "    print(f\"f5({length}, {width}, {height}, {color}, {shape}, {name})\")\n",
        "\n",
        "    return length + height, length * height\n",
        "\n",
        "\n",
        "f5(13, 4, 7, 2, 0, 1)\n",
        "a = f5(3, 14, 17, 2, 0, 1)\n",
        "print(a)"
      ],
      "metadata": {
        "colab": {
          "base_uri": "https://localhost:8080/"
        },
        "id": "yRg9E09DWqVH",
        "outputId": "518a9990-18af-49c9-efb8-adacc77a6248"
      },
      "execution_count": 14,
      "outputs": [
        {
          "output_type": "stream",
          "name": "stdout",
          "text": [
            "f5(13, 4, 7, 2, 0, 1)\n",
            "f5(3, 14, 17, 2, 0, 1)\n",
            "(20, 51)\n"
          ]
        }
      ]
    },
    {
      "cell_type": "code",
      "source": [
        "a = f5(width=3, length=4, height=7, color=1, shape=2, name='test')\n",
        "print(a)"
      ],
      "metadata": {
        "colab": {
          "base_uri": "https://localhost:8080/"
        },
        "id": "S30eeDAXXtlq",
        "outputId": "e90a3331-abd5-4365-f386-5fbf1253cd46"
      },
      "execution_count": 15,
      "outputs": [
        {
          "output_type": "stream",
          "name": "stdout",
          "text": [
            "f5(4, 3, 7, 1, 2, test)\n",
            "(11, 28)\n"
          ]
        }
      ]
    },
    {
      "cell_type": "code",
      "source": [
        "# Default or optional parameters\n",
        "# Note: can be called with 3, 4, or 5 parameters!\n",
        "def f6(length, width, height, color='blue', shape='rectangle', name='??'):\n",
        "    '''Six in Two Out'''\n",
        "    print(f\"f6({length}, {width}, {height}, {color}, {shape}, {name})\")\n",
        "\n",
        "    return length + height, length * height\n",
        "\n",
        "\n",
        "f6(13, 4, 7, 2, 0, 1)\n",
        "a = f6(3, 14, 17, 2, 0, 1)\n",
        "print(a)\n",
        "\n",
        "a = f6(3, 14, 17, 2, 0)\n",
        "print(a)\n",
        "\n",
        "a = f6(3, 14, 17)\n",
        "print(a)\n",
        "\n",
        "# Named or keyword params for first 3, defaulting the last three!\n",
        "a = f6(height=3, length=14, width=21)\n",
        "print(a)\n",
        "\n",
        "try:\n",
        "    a = f6(3, 14)\n",
        "    print(a)\n",
        "except:\n",
        "    print('yeah, that still bombed')\n",
        "\n"
      ],
      "metadata": {
        "colab": {
          "base_uri": "https://localhost:8080/"
        },
        "id": "Kl7AqFIWY65b",
        "outputId": "b5638fd1-911d-4173-f31c-80e677f892e0"
      },
      "execution_count": 21,
      "outputs": [
        {
          "output_type": "stream",
          "name": "stdout",
          "text": [
            "f6(13, 4, 7, 2, 0, 1)\n",
            "f6(3, 14, 17, 2, 0, 1)\n",
            "(20, 51)\n",
            "f6(3, 14, 17, 2, 0, ??)\n",
            "(20, 51)\n",
            "f6(3, 14, 17, blue, rectangle, ??)\n",
            "(20, 51)\n",
            "f6(14, 21, 3, blue, rectangle, ??)\n",
            "(17, 42)\n",
            "yeah, that still bombed\n"
          ]
        }
      ]
    },
    {
      "cell_type": "code",
      "source": [
        "import math\n",
        "\n",
        "# Circle Expert\n",
        "def circle_expert(r):\n",
        "    diameter = 2 * r\n",
        "    area = math.pi * r ** 2\n",
        "    perimeter = math.pi * diameter\n",
        "\n",
        "    return area, perimeter\n",
        "\n",
        "answer = circle_expert(1)\n",
        "print(answer)\n",
        "\n",
        "answer = circle_expert(10)\n",
        "print(answer)"
      ],
      "metadata": {
        "colab": {
          "base_uri": "https://localhost:8080/"
        },
        "id": "DZ4Oxj35ZeIc",
        "outputId": "b823d824-d4ad-42eb-aa1e-a4f1add44d75"
      },
      "execution_count": 24,
      "outputs": [
        {
          "output_type": "stream",
          "name": "stdout",
          "text": [
            "(3.141592653589793, 6.283185307179586)\n",
            "(314.1592653589793, 62.83185307179586)\n"
          ]
        }
      ]
    },
    {
      "cell_type": "code",
      "source": [
        "import math\n",
        "\n",
        "# Circle Expert... can give either diam or radius\n",
        "# Takes 1 parameter is radius, or diameter, True if diameter\n",
        "def circle_expert(x, is_diameter=False):\n",
        "    if is_diameter:\n",
        "        diameter = x\n",
        "    else:\n",
        "        diameter = 2 * x\n",
        "\n",
        "    area = math.pi * (diameter / 2) ** 2\n",
        "    perimeter = math.pi * diameter\n",
        "\n",
        "    return area, perimeter\n",
        "\n",
        "answer = circle_expert(1)\n",
        "print(answer)\n",
        "\n",
        "answer = circle_expert(1, is_diameter=True)\n",
        "print(answer)\n",
        "\n",
        "answer = circle_expert(10)\n",
        "print(answer)"
      ],
      "metadata": {
        "colab": {
          "base_uri": "https://localhost:8080/"
        },
        "id": "87xvShAwdkKS",
        "outputId": "636e7097-face-4374-8ba4-286838038916"
      },
      "execution_count": 25,
      "outputs": [
        {
          "output_type": "stream",
          "name": "stdout",
          "text": [
            "(3.141592653589793, 6.283185307179586)\n",
            "(0.7853981633974483, 3.141592653589793)\n",
            "(314.1592653589793, 62.83185307179586)\n"
          ]
        }
      ]
    },
    {
      "cell_type": "code",
      "source": [],
      "metadata": {
        "id": "b57cKFrPfQ29"
      },
      "execution_count": null,
      "outputs": []
    }
  ]
}