{
  "nbformat": 4,
  "nbformat_minor": 0,
  "metadata": {
    "colab": {
      "provenance": [],
      "authorship_tag": "ABX9TyNrckUgYPMEkStYa+CYrZ4R",
      "include_colab_link": true
    },
    "kernelspec": {
      "name": "python3",
      "display_name": "Python 3"
    },
    "language_info": {
      "name": "python"
    }
  },
  "cells": [
    {
      "cell_type": "markdown",
      "metadata": {
        "id": "view-in-github",
        "colab_type": "text"
      },
      "source": [
        "<a href=\"https://colab.research.google.com/github/nleck001/CSC221_Spring_2024/blob/main/Class14_ReviewExcept.ipynb\" target=\"_parent\"><img src=\"https://colab.research.google.com/assets/colab-badge.svg\" alt=\"Open In Colab\"/></a>"
      ]
    },
    {
      "cell_type": "code",
      "execution_count": 12,
      "metadata": {
        "id": "PVGACxtOiTcP"
      },
      "outputs": [],
      "source": [
        "# CSC221 Spring 2024\n",
        "# Ned Lecky\n",
        "\n",
        "# Do you know what all these moves do??"
      ]
    },
    {
      "cell_type": "code",
      "source": [
        "def f(x):\n",
        "    print(f'f({x}) called')\n",
        "    try:\n",
        "        # Code that might generate exceptions\n",
        "        y = 3 / x\n",
        "    except ZeroDivisionError:\n",
        "        # When DivisionError happens\n",
        "        print('  ERROR: Can\\'t divide by zero.')\n",
        "        y = 0\n",
        "    except:\n",
        "        # When other errors happen\n",
        "        print('  ERROR: Unspecified error.')\n",
        "        y = 0\n",
        "    finally:\n",
        "        # Always at the end\n",
        "        print(f'  f({x}) is completed and will return {y=}')\n",
        "\n",
        "    return y"
      ],
      "metadata": {
        "id": "o-4C2j1Lij3q"
      },
      "execution_count": 18,
      "outputs": []
    },
    {
      "cell_type": "code",
      "source": [
        "y = f(30)\n",
        "y = f(0)\n",
        "y = f(1)\n"
      ],
      "metadata": {
        "colab": {
          "base_uri": "https://localhost:8080/"
        },
        "id": "YxZUrXq1iuee",
        "outputId": "f732b674-b696-4ba1-d11e-e1a8251c6576"
      },
      "execution_count": 19,
      "outputs": [
        {
          "output_type": "stream",
          "name": "stdout",
          "text": [
            "f(30) called\n",
            "  f(30) is completed and will return y=0.1\n",
            "f(0) called\n",
            "  ERROR: Can't divide by zero.\n",
            "  f(0) is completed and will return y=0\n",
            "f(1) called\n",
            "  f(1) is completed and will return y=3.0\n"
          ]
        }
      ]
    },
    {
      "cell_type": "code",
      "source": [],
      "metadata": {
        "id": "9fee4cOPkd7L"
      },
      "execution_count": 14,
      "outputs": []
    }
  ]
}