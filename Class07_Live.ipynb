{
  "nbformat": 4,
  "nbformat_minor": 0,
  "metadata": {
    "colab": {
      "provenance": [],
      "authorship_tag": "ABX9TyOEL8g9dHyKNH33FOCuFpI2",
      "include_colab_link": true
    },
    "kernelspec": {
      "name": "python3",
      "display_name": "Python 3"
    },
    "language_info": {
      "name": "python"
    }
  },
  "cells": [
    {
      "cell_type": "markdown",
      "metadata": {
        "id": "view-in-github",
        "colab_type": "text"
      },
      "source": [
        "<a href=\"https://colab.research.google.com/github/nleck001/CSC221_Spring_2024/blob/main/Class07_Live.ipynb\" target=\"_parent\"><img src=\"https://colab.research.google.com/assets/colab-badge.svg\" alt=\"Open In Colab\"/></a>"
      ]
    },
    {
      "cell_type": "code",
      "execution_count": 1,
      "metadata": {
        "id": "OjpMv8vP6ez8"
      },
      "outputs": [],
      "source": [
        "# CSC221 Spring 2024\n",
        "# Class 7  2/20/2024\n",
        "# Dictionaries, Chapter 6"
      ]
    },
    {
      "cell_type": "code",
      "source": [
        "# Review\n",
        "# Saving Colabs to GitHub\n",
        "# Include Link to Colab\n",
        "# import\n",
        "\n",
        "#announcement\n",
        "# Late Assignments....."
      ],
      "metadata": {
        "id": "qXwAk1CR6ozl"
      },
      "execution_count": 2,
      "outputs": []
    },
    {
      "cell_type": "code",
      "source": [
        "%%file nedcode.py\n",
        "print('Hey! I\\'m importing!')\n",
        "\n",
        "v1 = 123\n",
        "\n",
        "def f1(x):\n",
        "    return x*3\n"
      ],
      "metadata": {
        "id": "uv6dIz558tAQ",
        "outputId": "3d4e9f38-db9e-43ef-f6ab-b26cdc65ede0",
        "colab": {
          "base_uri": "https://localhost:8080/"
        }
      },
      "execution_count": 3,
      "outputs": [
        {
          "output_type": "stream",
          "name": "stdout",
          "text": [
            "Overwriting nedcode.py\n"
          ]
        }
      ]
    },
    {
      "cell_type": "code",
      "source": [
        "import nedcode\n",
        "\n",
        "print(nedcode.v1)\n",
        "\n",
        "print(nedcode.f1(10))"
      ],
      "metadata": {
        "id": "RYuAA3Wy899o",
        "outputId": "97531bab-82b9-4097-f234-5f02e66a973d",
        "colab": {
          "base_uri": "https://localhost:8080/"
        }
      },
      "execution_count": 4,
      "outputs": [
        {
          "output_type": "stream",
          "name": "stdout",
          "text": [
            "Hey! I'm importing!\n",
            "123\n",
            "30\n"
          ]
        }
      ]
    },
    {
      "cell_type": "code",
      "source": [
        "# Dictionaries\n",
        "d1 = {'ned':518, 'alex':802, 'jeff':617}\n"
      ],
      "metadata": {
        "id": "jn8Ob0y59ZIR"
      },
      "execution_count": 5,
      "outputs": []
    },
    {
      "cell_type": "code",
      "source": [
        "print(type(d1))"
      ],
      "metadata": {
        "id": "Uij72AFxBPc3",
        "outputId": "063e54c4-81fd-4819-da02-ee93719e64f3",
        "colab": {
          "base_uri": "https://localhost:8080/"
        }
      },
      "execution_count": 6,
      "outputs": [
        {
          "output_type": "stream",
          "name": "stdout",
          "text": [
            "<class 'dict'>\n"
          ]
        }
      ]
    },
    {
      "cell_type": "code",
      "source": [
        "print(d1['ned'])"
      ],
      "metadata": {
        "id": "UU_MZkzJBR4O",
        "outputId": "81aa7007-f793-4aec-8e0f-542e27880c79",
        "colab": {
          "base_uri": "https://localhost:8080/"
        }
      },
      "execution_count": 7,
      "outputs": [
        {
          "output_type": "stream",
          "name": "stdout",
          "text": [
            "518\n"
          ]
        }
      ]
    },
    {
      "cell_type": "code",
      "source": [
        "d1['ned'] = [518, 61]\n",
        "\n",
        "print(d1)"
      ],
      "metadata": {
        "id": "YNq5fqRqBc-_",
        "outputId": "10f4b10f-40ea-440b-8d0a-55a208ffa932",
        "colab": {
          "base_uri": "https://localhost:8080/"
        }
      },
      "execution_count": 8,
      "outputs": [
        {
          "output_type": "stream",
          "name": "stdout",
          "text": [
            "{'ned': [518, 61], 'alex': 802, 'jeff': 617}\n"
          ]
        }
      ]
    },
    {
      "cell_type": "code",
      "source": [
        "d1['alex'] = [802, 31]\n",
        "\n",
        "print(d1)\n"
      ],
      "metadata": {
        "id": "vouG0BLsBt-O",
        "outputId": "fd998c2c-1edb-4a4e-8f34-cf001d44abac",
        "colab": {
          "base_uri": "https://localhost:8080/"
        }
      },
      "execution_count": 9,
      "outputs": [
        {
          "output_type": "stream",
          "name": "stdout",
          "text": [
            "{'ned': [518, 61], 'alex': [802, 31], 'jeff': 617}\n"
          ]
        }
      ]
    },
    {
      "cell_type": "code",
      "source": [
        "d1['fred'] = [518, 120]\n",
        "\n",
        "print(d1)"
      ],
      "metadata": {
        "id": "milffQh9CAHI",
        "outputId": "7c3a26d1-8f28-49f8-8972-82fa203087bc",
        "colab": {
          "base_uri": "https://localhost:8080/"
        }
      },
      "execution_count": 10,
      "outputs": [
        {
          "output_type": "stream",
          "name": "stdout",
          "text": [
            "{'ned': [518, 61], 'alex': [802, 31], 'jeff': 617, 'fred': [518, 120]}\n"
          ]
        }
      ]
    },
    {
      "cell_type": "code",
      "source": [
        "print(d1['nancy'])"
      ],
      "metadata": {
        "id": "sF-8K42xCUHA",
        "outputId": "64e0f2ae-1e07-46c7-8d6c-62a57122d70e",
        "colab": {
          "base_uri": "https://localhost:8080/",
          "height": 141
        }
      },
      "execution_count": 11,
      "outputs": [
        {
          "output_type": "error",
          "ename": "KeyError",
          "evalue": "'nancy'",
          "traceback": [
            "\u001b[0;31m---------------------------------------------------------------------------\u001b[0m",
            "\u001b[0;31mKeyError\u001b[0m                                  Traceback (most recent call last)",
            "\u001b[0;32m<ipython-input-11-85ebbd2b0e05>\u001b[0m in \u001b[0;36m<cell line: 1>\u001b[0;34m()\u001b[0m\n\u001b[0;32m----> 1\u001b[0;31m \u001b[0mprint\u001b[0m\u001b[0;34m(\u001b[0m\u001b[0md1\u001b[0m\u001b[0;34m[\u001b[0m\u001b[0;34m'nancy'\u001b[0m\u001b[0;34m]\u001b[0m\u001b[0;34m)\u001b[0m\u001b[0;34m\u001b[0m\u001b[0;34m\u001b[0m\u001b[0m\n\u001b[0m",
            "\u001b[0;31mKeyError\u001b[0m: 'nancy'"
          ]
        }
      ]
    },
    {
      "cell_type": "code",
      "source": [
        "print(d1.keys())"
      ],
      "metadata": {
        "id": "4CWrqHGaCdSB",
        "outputId": "c9de7b47-4d7e-4470-e3f7-5928c508a548",
        "colab": {
          "base_uri": "https://localhost:8080/"
        }
      },
      "execution_count": 12,
      "outputs": [
        {
          "output_type": "stream",
          "name": "stdout",
          "text": [
            "dict_keys(['ned', 'alex', 'jeff', 'fred'])\n"
          ]
        }
      ]
    },
    {
      "cell_type": "code",
      "source": [
        "print(d1.values())"
      ],
      "metadata": {
        "id": "eGpnlhrjCo9Q",
        "outputId": "c20052af-5d12-4929-888b-1939c679627b",
        "colab": {
          "base_uri": "https://localhost:8080/"
        }
      },
      "execution_count": 13,
      "outputs": [
        {
          "output_type": "stream",
          "name": "stdout",
          "text": [
            "dict_values([[518, 61], [802, 31], 617, [518, 120]])\n"
          ]
        }
      ]
    },
    {
      "cell_type": "code",
      "source": [
        "d1[3] = 12345\n",
        "print(d1)"
      ],
      "metadata": {
        "id": "ZniATbHbCuW5",
        "outputId": "c9c60aa4-5472-4dc3-c9d1-7c25d951b865",
        "colab": {
          "base_uri": "https://localhost:8080/"
        }
      },
      "execution_count": 14,
      "outputs": [
        {
          "output_type": "stream",
          "name": "stdout",
          "text": [
            "{'ned': [518, 61], 'alex': [802, 31], 'jeff': 617, 'fred': [518, 120], 3: 12345}\n"
          ]
        }
      ]
    },
    {
      "cell_type": "code",
      "source": [
        "d1['3'] = 5678\n",
        "print(d1)"
      ],
      "metadata": {
        "id": "z1FzklDDC4GZ",
        "outputId": "a94e4b61-b6ab-4747-c714-a20278012ae4",
        "colab": {
          "base_uri": "https://localhost:8080/"
        }
      },
      "execution_count": 15,
      "outputs": [
        {
          "output_type": "stream",
          "name": "stdout",
          "text": [
            "{'ned': [518, 61], 'alex': [802, 31], 'jeff': 617, 'fred': [518, 120], 3: 12345, '3': 5678}\n"
          ]
        }
      ]
    },
    {
      "cell_type": "code",
      "source": [
        "print(d1[3])\n",
        "\n",
        "print(d1['3'])"
      ],
      "metadata": {
        "id": "jG6wbScyDDR5",
        "outputId": "425365ea-d993-48f4-8aae-b57391450984",
        "colab": {
          "base_uri": "https://localhost:8080/"
        }
      },
      "execution_count": 16,
      "outputs": [
        {
          "output_type": "stream",
          "name": "stdout",
          "text": [
            "12345\n",
            "5678\n"
          ]
        }
      ]
    },
    {
      "cell_type": "code",
      "source": [
        "d1[12.5] = 'I am a float'\n",
        "print(d1)"
      ],
      "metadata": {
        "id": "NTJ-MAyGDojy",
        "outputId": "5765db8c-1b12-4d72-ae4d-7aba37713acc",
        "colab": {
          "base_uri": "https://localhost:8080/"
        }
      },
      "execution_count": 17,
      "outputs": [
        {
          "output_type": "stream",
          "name": "stdout",
          "text": [
            "{'ned': [518, 61], 'alex': [802, 31], 'jeff': 617, 'fred': [518, 120], 3: 12345, '3': 5678, 12.5: 'I am a float'}\n"
          ]
        }
      ]
    },
    {
      "cell_type": "code",
      "source": [
        "print(d1[12.5])\n",
        "print(d1[12.50001])"
      ],
      "metadata": {
        "id": "UeanFUPxD_Qy",
        "outputId": "71c2a0dd-955b-4c38-8330-85d3b59da1d8",
        "colab": {
          "base_uri": "https://localhost:8080/",
          "height": 176
        }
      },
      "execution_count": 19,
      "outputs": [
        {
          "output_type": "stream",
          "name": "stdout",
          "text": [
            "I am a float\n"
          ]
        },
        {
          "output_type": "error",
          "ename": "KeyError",
          "evalue": "12.50001",
          "traceback": [
            "\u001b[0;31m---------------------------------------------------------------------------\u001b[0m",
            "\u001b[0;31mKeyError\u001b[0m                                  Traceback (most recent call last)",
            "\u001b[0;32m<ipython-input-19-a5763f44d74a>\u001b[0m in \u001b[0;36m<cell line: 2>\u001b[0;34m()\u001b[0m\n\u001b[1;32m      1\u001b[0m \u001b[0mprint\u001b[0m\u001b[0;34m(\u001b[0m\u001b[0md1\u001b[0m\u001b[0;34m[\u001b[0m\u001b[0;36m12.5\u001b[0m\u001b[0;34m]\u001b[0m\u001b[0;34m)\u001b[0m\u001b[0;34m\u001b[0m\u001b[0;34m\u001b[0m\u001b[0m\n\u001b[0;32m----> 2\u001b[0;31m \u001b[0mprint\u001b[0m\u001b[0;34m(\u001b[0m\u001b[0md1\u001b[0m\u001b[0;34m[\u001b[0m\u001b[0;36m12.50001\u001b[0m\u001b[0;34m]\u001b[0m\u001b[0;34m)\u001b[0m\u001b[0;34m\u001b[0m\u001b[0;34m\u001b[0m\u001b[0m\n\u001b[0m",
            "\u001b[0;31mKeyError\u001b[0m: 12.50001"
          ]
        }
      ]
    },
    {
      "cell_type": "code",
      "source": [
        "# removing something\n",
        "del d1['fred']\n",
        "print(d1)"
      ],
      "metadata": {
        "id": "JfcS30CuEHCT",
        "outputId": "6030f079-7da5-4ca3-b73c-4ce5a5e6a102",
        "colab": {
          "base_uri": "https://localhost:8080/"
        }
      },
      "execution_count": 20,
      "outputs": [
        {
          "output_type": "stream",
          "name": "stdout",
          "text": [
            "{'ned': [518, 61], 'alex': [802, 31], 'jeff': 617, 3: 12345, '3': 5678, 12.5: 'I am a float'}\n"
          ]
        }
      ]
    },
    {
      "cell_type": "code",
      "source": [
        "# The value of get\n",
        "\n",
        "value = d1['fred']"
      ],
      "metadata": {
        "id": "nzhwy2oKE3E8",
        "outputId": "d9c5f333-2a50-48d0-d0d9-7320ee8c5e6e",
        "colab": {
          "base_uri": "https://localhost:8080/",
          "height": 176
        }
      },
      "execution_count": 21,
      "outputs": [
        {
          "output_type": "error",
          "ename": "KeyError",
          "evalue": "'fred'",
          "traceback": [
            "\u001b[0;31m---------------------------------------------------------------------------\u001b[0m",
            "\u001b[0;31mKeyError\u001b[0m                                  Traceback (most recent call last)",
            "\u001b[0;32m<ipython-input-21-28983c8dd0ea>\u001b[0m in \u001b[0;36m<cell line: 3>\u001b[0;34m()\u001b[0m\n\u001b[1;32m      1\u001b[0m \u001b[0;31m# The value of get\u001b[0m\u001b[0;34m\u001b[0m\u001b[0;34m\u001b[0m\u001b[0m\n\u001b[1;32m      2\u001b[0m \u001b[0;34m\u001b[0m\u001b[0m\n\u001b[0;32m----> 3\u001b[0;31m \u001b[0mvalue\u001b[0m \u001b[0;34m=\u001b[0m \u001b[0md1\u001b[0m\u001b[0;34m[\u001b[0m\u001b[0;34m'fred'\u001b[0m\u001b[0;34m]\u001b[0m\u001b[0;34m\u001b[0m\u001b[0;34m\u001b[0m\u001b[0m\n\u001b[0m",
            "\u001b[0;31mKeyError\u001b[0m: 'fred'"
          ]
        }
      ]
    },
    {
      "cell_type": "code",
      "source": [
        "value = d1.get('fred', 'That was missing')\n",
        "print(value)\n",
        "\n",
        "value = d1.get('ned', 'That was missing')\n",
        "print(value)"
      ],
      "metadata": {
        "id": "wBs6kch3FK7F",
        "outputId": "259bcc66-f4c3-4bde-cb92-121c86dcee1b",
        "colab": {
          "base_uri": "https://localhost:8080/"
        }
      },
      "execution_count": 25,
      "outputs": [
        {
          "output_type": "stream",
          "name": "stdout",
          "text": [
            "That was missing\n",
            "[518, 61]\n"
          ]
        }
      ]
    },
    {
      "cell_type": "code",
      "source": [
        "# Looping\n",
        "for x in d1.values():\n",
        "    print(f'{x=}')\n"
      ],
      "metadata": {
        "id": "_Ne50BKaFWpV",
        "outputId": "5b107a6d-5757-4d81-dfe0-0d5a92b6d896",
        "colab": {
          "base_uri": "https://localhost:8080/"
        }
      },
      "execution_count": 30,
      "outputs": [
        {
          "output_type": "stream",
          "name": "stdout",
          "text": [
            "x=[518, 61]\n",
            "x=[802, 31]\n",
            "x=617\n",
            "x=12345\n",
            "x=5678\n",
            "x='I am a float'\n"
          ]
        }
      ]
    },
    {
      "cell_type": "code",
      "source": [
        "# Looping\n",
        "for x in sorted(d1.keys()):\n",
        "    print(f'{x=}')\n"
      ],
      "metadata": {
        "id": "HF_7OruaF5I9",
        "outputId": "f5eed9d7-069a-4a34-a3c5-207715351f13",
        "colab": {
          "base_uri": "https://localhost:8080/",
          "height": 176
        }
      },
      "execution_count": 33,
      "outputs": [
        {
          "output_type": "error",
          "ename": "TypeError",
          "evalue": "'<' not supported between instances of 'int' and 'str'",
          "traceback": [
            "\u001b[0;31m---------------------------------------------------------------------------\u001b[0m",
            "\u001b[0;31mTypeError\u001b[0m                                 Traceback (most recent call last)",
            "\u001b[0;32m<ipython-input-33-0ab8827e073d>\u001b[0m in \u001b[0;36m<cell line: 2>\u001b[0;34m()\u001b[0m\n\u001b[1;32m      1\u001b[0m \u001b[0;31m# Looping\u001b[0m\u001b[0;34m\u001b[0m\u001b[0;34m\u001b[0m\u001b[0m\n\u001b[0;32m----> 2\u001b[0;31m \u001b[0;32mfor\u001b[0m \u001b[0mx\u001b[0m \u001b[0;32min\u001b[0m \u001b[0msorted\u001b[0m\u001b[0;34m(\u001b[0m\u001b[0md1\u001b[0m\u001b[0;34m.\u001b[0m\u001b[0mkeys\u001b[0m\u001b[0;34m(\u001b[0m\u001b[0;34m)\u001b[0m\u001b[0;34m)\u001b[0m\u001b[0;34m:\u001b[0m\u001b[0;34m\u001b[0m\u001b[0;34m\u001b[0m\u001b[0m\n\u001b[0m\u001b[1;32m      3\u001b[0m     \u001b[0mprint\u001b[0m\u001b[0;34m(\u001b[0m\u001b[0;34mf'{x=}'\u001b[0m\u001b[0;34m)\u001b[0m\u001b[0;34m\u001b[0m\u001b[0;34m\u001b[0m\u001b[0m\n",
            "\u001b[0;31mTypeError\u001b[0m: '<' not supported between instances of 'int' and 'str'"
          ]
        }
      ]
    },
    {
      "cell_type": "code",
      "source": [
        "print(d1)"
      ],
      "metadata": {
        "id": "un8HkNg3Gxn_",
        "outputId": "457f37f5-a822-41ed-a5d7-41ed0638ce6c",
        "colab": {
          "base_uri": "https://localhost:8080/"
        }
      },
      "execution_count": 34,
      "outputs": [
        {
          "output_type": "stream",
          "name": "stdout",
          "text": [
            "{'ned': [518, 61], 'alex': [802, 31], 'jeff': 617, 3: 12345, '3': 5678, 12.5: 'I am a float'}\n"
          ]
        }
      ]
    },
    {
      "cell_type": "code",
      "source": [
        "del d1[3]\n",
        "del d1[12.5]\n",
        "print(d1)"
      ],
      "metadata": {
        "id": "NPuqoQ44HEbY",
        "outputId": "c8bfd337-39af-40b6-8ffd-5c195cdf8b20",
        "colab": {
          "base_uri": "https://localhost:8080/"
        }
      },
      "execution_count": 35,
      "outputs": [
        {
          "output_type": "stream",
          "name": "stdout",
          "text": [
            "{'ned': [518, 61], 'alex': [802, 31], 'jeff': 617, '3': 5678}\n"
          ]
        }
      ]
    },
    {
      "cell_type": "code",
      "source": [
        "# Looping\n",
        "for x in sorted(d1.keys()):\n",
        "    print(f'{x=}')"
      ],
      "metadata": {
        "id": "jxeHrCL7HP9A",
        "outputId": "efcb9c3a-501b-4adf-e99b-195056dba109",
        "colab": {
          "base_uri": "https://localhost:8080/"
        }
      },
      "execution_count": 36,
      "outputs": [
        {
          "output_type": "stream",
          "name": "stdout",
          "text": [
            "x='3'\n",
            "x='alex'\n",
            "x='jeff'\n",
            "x='ned'\n"
          ]
        }
      ]
    },
    {
      "cell_type": "code",
      "source": [
        "print(d1)"
      ],
      "metadata": {
        "id": "9w3KxlHrHTdY",
        "outputId": "686747a3-c733-4783-8710-bd9fa2af59f4",
        "colab": {
          "base_uri": "https://localhost:8080/"
        }
      },
      "execution_count": 37,
      "outputs": [
        {
          "output_type": "stream",
          "name": "stdout",
          "text": [
            "{'ned': [518, 61], 'alex': [802, 31], 'jeff': 617, '3': 5678}\n"
          ]
        }
      ]
    },
    {
      "cell_type": "code",
      "source": [
        "del d1['3']"
      ],
      "metadata": {
        "id": "lbKBZaF7H9CZ"
      },
      "execution_count": 38,
      "outputs": []
    },
    {
      "cell_type": "code",
      "source": [
        "print(d1)"
      ],
      "metadata": {
        "id": "rfNt_aghIAo5",
        "outputId": "06734b80-cc08-40d7-c7a5-c0377bf043e0",
        "colab": {
          "base_uri": "https://localhost:8080/"
        }
      },
      "execution_count": 39,
      "outputs": [
        {
          "output_type": "stream",
          "name": "stdout",
          "text": [
            "{'ned': [518, 61], 'alex': [802, 31], 'jeff': 617}\n"
          ]
        }
      ]
    },
    {
      "cell_type": "code",
      "source": [
        "d1['ted'] = {'age':55, 'height':'5\\'7\"', 'area_code':518}"
      ],
      "metadata": {
        "id": "npZYrqBQIBzB"
      },
      "execution_count": 40,
      "outputs": []
    },
    {
      "cell_type": "code",
      "source": [
        "print(d1)"
      ],
      "metadata": {
        "id": "crEQZwaQITVS",
        "outputId": "c3997759-bde8-4ca9-bfff-cacb6e2de542",
        "colab": {
          "base_uri": "https://localhost:8080/"
        }
      },
      "execution_count": 41,
      "outputs": [
        {
          "output_type": "stream",
          "name": "stdout",
          "text": [
            "{'ned': [518, 61], 'alex': [802, 31], 'jeff': 617, 'ted': {'age': 55, 'height': '5\\'7\"', 'area_code': 518}}\n"
          ]
        }
      ]
    },
    {
      "cell_type": "code",
      "source": [
        "print(d1['ted']['age'])"
      ],
      "metadata": {
        "id": "TiRraT-uIgOx",
        "outputId": "a3482dd2-8708-4b8c-b1bb-9547ae1b0554",
        "colab": {
          "base_uri": "https://localhost:8080/"
        }
      },
      "execution_count": 43,
      "outputs": [
        {
          "output_type": "stream",
          "name": "stdout",
          "text": [
            "55\n"
          ]
        }
      ]
    },
    {
      "cell_type": "code",
      "source": [
        "print(d1['ted']['area_code'])"
      ],
      "metadata": {
        "id": "bh-s7YDgItpD",
        "outputId": "13450565-9b20-4937-c730-d13905fc8064",
        "colab": {
          "base_uri": "https://localhost:8080/"
        }
      },
      "execution_count": 44,
      "outputs": [
        {
          "output_type": "stream",
          "name": "stdout",
          "text": [
            "518\n"
          ]
        }
      ]
    },
    {
      "cell_type": "code",
      "source": [
        "print(d1)"
      ],
      "metadata": {
        "id": "JzUyYZqPI5dq",
        "outputId": "8da19d6b-1da0-45cf-e204-8cc7e22e2706",
        "colab": {
          "base_uri": "https://localhost:8080/"
        }
      },
      "execution_count": 45,
      "outputs": [
        {
          "output_type": "stream",
          "name": "stdout",
          "text": [
            "{'ned': [518, 61], 'alex': [802, 31], 'jeff': 617, 'ted': {'age': 55, 'height': '5\\'7\"', 'area_code': 518}}\n"
          ]
        }
      ]
    },
    {
      "cell_type": "code",
      "source": [
        "d1['ted']['area_code'] = [518, 802]"
      ],
      "metadata": {
        "id": "iBQc9Jp5I7eS"
      },
      "execution_count": 46,
      "outputs": []
    },
    {
      "cell_type": "code",
      "source": [
        "print(d1)"
      ],
      "metadata": {
        "id": "dugkH9C8JHgb",
        "outputId": "939c648f-d3d9-4430-94c2-8f8bf208c3ea",
        "colab": {
          "base_uri": "https://localhost:8080/"
        }
      },
      "execution_count": 48,
      "outputs": [
        {
          "output_type": "stream",
          "name": "stdout",
          "text": [
            "{'ned': [518, 61], 'alex': [802, 31], 'jeff': 617, 'ted': {'age': 55, 'height': '5\\'7\"', 'area_code': [518, 802]}}\n"
          ]
        }
      ]
    },
    {
      "cell_type": "code",
      "source": [
        "print(d1['ted']['area_code'][1])"
      ],
      "metadata": {
        "id": "TNeeON1HJJIb",
        "outputId": "91ddb5e4-6858-4e90-d66a-19a51654e941",
        "colab": {
          "base_uri": "https://localhost:8080/"
        }
      },
      "execution_count": 49,
      "outputs": [
        {
          "output_type": "stream",
          "name": "stdout",
          "text": [
            "802\n"
          ]
        }
      ]
    },
    {
      "cell_type": "code",
      "source": [],
      "metadata": {
        "id": "zYuDAOPZJbxs"
      },
      "execution_count": null,
      "outputs": []
    }
  ]
}