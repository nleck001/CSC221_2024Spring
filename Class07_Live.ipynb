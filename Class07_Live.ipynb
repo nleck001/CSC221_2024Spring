{
  "nbformat": 4,
  "nbformat_minor": 0,
  "metadata": {
    "colab": {
      "provenance": [],
      "authorship_tag": "ABX9TyMiTYy73idOJYMSw3tjr48I",
      "include_colab_link": true
    },
    "kernelspec": {
      "name": "python3",
      "display_name": "Python 3"
    },
    "language_info": {
      "name": "python"
    }
  },
  "cells": [
    {
      "cell_type": "markdown",
      "metadata": {
        "id": "view-in-github",
        "colab_type": "text"
      },
      "source": [
        "<a href=\"https://colab.research.google.com/github/nleck001/CSC221_Spring_2024/blob/main/Class07_Live.ipynb\" target=\"_parent\"><img src=\"https://colab.research.google.com/assets/colab-badge.svg\" alt=\"Open In Colab\"/></a>"
      ]
    },
    {
      "cell_type": "code",
      "execution_count": null,
      "metadata": {
        "id": "OjpMv8vP6ez8"
      },
      "outputs": [],
      "source": [
        "# CSC221 Spring 2024\n",
        "# Class 7  2/20/2024\n",
        "# Dictionaries, Chapter 6"
      ]
    },
    {
      "cell_type": "code",
      "source": [
        "# Review\n",
        "# Saving Colabs to GitHub\n",
        "# Include Link to Colab\n",
        "# import\n",
        "\n",
        "#announcement\n",
        "# Late Assignments....."
      ],
      "metadata": {
        "id": "qXwAk1CR6ozl"
      },
      "execution_count": null,
      "outputs": []
    }
  ]
}