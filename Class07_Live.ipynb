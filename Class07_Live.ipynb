{
  "nbformat": 4,
  "nbformat_minor": 0,
  "metadata": {
    "colab": {
      "provenance": [],
      "authorship_tag": "ABX9TyOLM8wT7D+r2PmO7jSkur5b",
      "include_colab_link": true
    },
    "kernelspec": {
      "name": "python3",
      "display_name": "Python 3"
    },
    "language_info": {
      "name": "python"
    }
  },
  "cells": [
    {
      "cell_type": "markdown",
      "metadata": {
        "id": "view-in-github",
        "colab_type": "text"
      },
      "source": [
        "<a href=\"https://colab.research.google.com/github/nleck001/CSC221_Spring_2024/blob/main/Class07_Live.ipynb\" target=\"_parent\"><img src=\"https://colab.research.google.com/assets/colab-badge.svg\" alt=\"Open In Colab\"/></a>"
      ]
    },
    {
      "cell_type": "code",
      "execution_count": null,
      "metadata": {
        "id": "OjpMv8vP6ez8"
      },
      "outputs": [],
      "source": [
        "# CSC221 Spring 2024\n",
        "# Class 7  2/20/2024\n",
        "# Dictionaries, Chapter 6"
      ]
    },
    {
      "cell_type": "code",
      "source": [
        "# Review\n",
        "# Saving Colabs to GitHub\n",
        "# Include Link to Colab\n",
        "# import xyz\n",
        "# import xyz as abc\n",
        "\n",
        "# Announcement\n",
        "# Late Assignments...\n",
        "# - 1% per day late after 7 days\n",
        "# - Example:\n",
        "#     -  7 days late- no penalty\n",
        "#     -  8 days late-  8% off (max possible grade goes from 10 to 9.2)\n",
        "#     - 21 days late- 21% off (max possible grade goes from 10 to 7.9)"
      ],
      "metadata": {
        "id": "qXwAk1CR6ozl"
      },
      "execution_count": null,
      "outputs": []
    },
    {
      "cell_type": "code",
      "source": [
        "%%file nedcode.py\n",
        "print('Hey! I\\'m importing!')\n",
        "\n",
        "v1 = 123\n",
        "\n",
        "def f1(x):\n",
        "    return x*3\n"
      ],
      "metadata": {
        "colab": {
          "base_uri": "https://localhost:8080/"
        },
        "id": "uv6dIz558tAQ",
        "outputId": "3d4e9f38-db9e-43ef-f6ab-b26cdc65ede0"
      },
      "execution_count": null,
      "outputs": [
        {
          "output_type": "stream",
          "name": "stdout",
          "text": [
            "Overwriting nedcode.py\n"
          ]
        }
      ]
    },
    {
      "cell_type": "code",
      "source": [
        "import nedcode\n",
        "\n",
        "print(nedcode.v1)\n",
        "\n",
        "print(nedcode.f1(10))\n",
        "\n",
        "# Note if you run this cell over and over it only imports once!\n",
        "# To get it to import again, you must Runtime | Restart Session (restart your python kernel!)\n",
        "# NOTE: You will read obout reload. It DOES NOT work on many situaitons. Avoid."
      ],
      "metadata": {
        "colab": {
          "base_uri": "https://localhost:8080/"
        },
        "id": "RYuAA3Wy899o",
        "outputId": "97531bab-82b9-4097-f234-5f02e66a973d"
      },
      "execution_count": null,
      "outputs": [
        {
          "output_type": "stream",
          "name": "stdout",
          "text": [
            "Hey! I'm importing!\n",
            "123\n",
            "30\n"
          ]
        }
      ]
    },
    {
      "cell_type": "code",
      "source": [
        "# Dictionaries\n",
        "d1 = {'ned':518, 'alex':802, 'jeff':617}\n"
      ],
      "metadata": {
        "id": "jn8Ob0y59ZIR"
      },
      "execution_count": null,
      "outputs": []
    },
    {
      "cell_type": "code",
      "source": [
        "print(type(d1))"
      ],
      "metadata": {
        "colab": {
          "base_uri": "https://localhost:8080/"
        },
        "id": "Uij72AFxBPc3",
        "outputId": "063e54c4-81fd-4819-da02-ee93719e64f3"
      },
      "execution_count": null,
      "outputs": [
        {
          "output_type": "stream",
          "name": "stdout",
          "text": [
            "<class 'dict'>\n"
          ]
        }
      ]
    },
    {
      "cell_type": "code",
      "source": [
        "print(d1['ned'])"
      ],
      "metadata": {
        "colab": {
          "base_uri": "https://localhost:8080/"
        },
        "id": "UU_MZkzJBR4O",
        "outputId": "81aa7007-f793-4aec-8e0f-542e27880c79"
      },
      "execution_count": null,
      "outputs": [
        {
          "output_type": "stream",
          "name": "stdout",
          "text": [
            "518\n"
          ]
        }
      ]
    },
    {
      "cell_type": "code",
      "source": [
        "d1['ned'] = [518, 61]\n",
        "\n",
        "print(d1)"
      ],
      "metadata": {
        "colab": {
          "base_uri": "https://localhost:8080/"
        },
        "id": "YNq5fqRqBc-_",
        "outputId": "10f4b10f-40ea-440b-8d0a-55a208ffa932"
      },
      "execution_count": null,
      "outputs": [
        {
          "output_type": "stream",
          "name": "stdout",
          "text": [
            "{'ned': [518, 61], 'alex': 802, 'jeff': 617}\n"
          ]
        }
      ]
    },
    {
      "cell_type": "code",
      "source": [
        "d1['alex'] = [802, 31]\n",
        "\n",
        "print(d1)\n"
      ],
      "metadata": {
        "colab": {
          "base_uri": "https://localhost:8080/"
        },
        "id": "vouG0BLsBt-O",
        "outputId": "fd998c2c-1edb-4a4e-8f34-cf001d44abac"
      },
      "execution_count": null,
      "outputs": [
        {
          "output_type": "stream",
          "name": "stdout",
          "text": [
            "{'ned': [518, 61], 'alex': [802, 31], 'jeff': 617}\n"
          ]
        }
      ]
    },
    {
      "cell_type": "code",
      "source": [
        "d1['fred'] = [518, 120]\n",
        "\n",
        "print(d1)"
      ],
      "metadata": {
        "colab": {
          "base_uri": "https://localhost:8080/"
        },
        "id": "milffQh9CAHI",
        "outputId": "7c3a26d1-8f28-49f8-8972-82fa203087bc"
      },
      "execution_count": null,
      "outputs": [
        {
          "output_type": "stream",
          "name": "stdout",
          "text": [
            "{'ned': [518, 61], 'alex': [802, 31], 'jeff': 617, 'fred': [518, 120]}\n"
          ]
        }
      ]
    },
    {
      "cell_type": "code",
      "source": [
        "print(d1['nancy'])"
      ],
      "metadata": {
        "colab": {
          "base_uri": "https://localhost:8080/",
          "height": 141
        },
        "id": "sF-8K42xCUHA",
        "outputId": "64e0f2ae-1e07-46c7-8d6c-62a57122d70e"
      },
      "execution_count": null,
      "outputs": [
        {
          "output_type": "error",
          "ename": "KeyError",
          "evalue": "'nancy'",
          "traceback": [
            "\u001b[0;31m---------------------------------------------------------------------------\u001b[0m",
            "\u001b[0;31mKeyError\u001b[0m                                  Traceback (most recent call last)",
            "\u001b[0;32m<ipython-input-11-85ebbd2b0e05>\u001b[0m in \u001b[0;36m<cell line: 1>\u001b[0;34m()\u001b[0m\n\u001b[0;32m----> 1\u001b[0;31m \u001b[0mprint\u001b[0m\u001b[0;34m(\u001b[0m\u001b[0md1\u001b[0m\u001b[0;34m[\u001b[0m\u001b[0;34m'nancy'\u001b[0m\u001b[0;34m]\u001b[0m\u001b[0;34m)\u001b[0m\u001b[0;34m\u001b[0m\u001b[0;34m\u001b[0m\u001b[0m\n\u001b[0m",
            "\u001b[0;31mKeyError\u001b[0m: 'nancy'"
          ]
        }
      ]
    },
    {
      "cell_type": "code",
      "source": [
        "print(d1.keys())"
      ],
      "metadata": {
        "colab": {
          "base_uri": "https://localhost:8080/"
        },
        "id": "4CWrqHGaCdSB",
        "outputId": "c9de7b47-4d7e-4470-e3f7-5928c508a548"
      },
      "execution_count": null,
      "outputs": [
        {
          "output_type": "stream",
          "name": "stdout",
          "text": [
            "dict_keys(['ned', 'alex', 'jeff', 'fred'])\n"
          ]
        }
      ]
    },
    {
      "cell_type": "code",
      "source": [
        "print(d1.values())"
      ],
      "metadata": {
        "colab": {
          "base_uri": "https://localhost:8080/"
        },
        "id": "eGpnlhrjCo9Q",
        "outputId": "c20052af-5d12-4929-888b-1939c679627b"
      },
      "execution_count": null,
      "outputs": [
        {
          "output_type": "stream",
          "name": "stdout",
          "text": [
            "dict_values([[518, 61], [802, 31], 617, [518, 120]])\n"
          ]
        }
      ]
    },
    {
      "cell_type": "code",
      "source": [
        "d1[3] = 12345\n",
        "print(d1)"
      ],
      "metadata": {
        "colab": {
          "base_uri": "https://localhost:8080/"
        },
        "id": "ZniATbHbCuW5",
        "outputId": "c9c60aa4-5472-4dc3-c9d1-7c25d951b865"
      },
      "execution_count": null,
      "outputs": [
        {
          "output_type": "stream",
          "name": "stdout",
          "text": [
            "{'ned': [518, 61], 'alex': [802, 31], 'jeff': 617, 'fred': [518, 120], 3: 12345}\n"
          ]
        }
      ]
    },
    {
      "cell_type": "code",
      "source": [
        "d1['3'] = 5678\n",
        "print(d1)"
      ],
      "metadata": {
        "colab": {
          "base_uri": "https://localhost:8080/"
        },
        "id": "z1FzklDDC4GZ",
        "outputId": "a94e4b61-b6ab-4747-c714-a20278012ae4"
      },
      "execution_count": null,
      "outputs": [
        {
          "output_type": "stream",
          "name": "stdout",
          "text": [
            "{'ned': [518, 61], 'alex': [802, 31], 'jeff': 617, 'fred': [518, 120], 3: 12345, '3': 5678}\n"
          ]
        }
      ]
    },
    {
      "cell_type": "code",
      "source": [
        "print(d1[3])\n",
        "\n",
        "print(d1['3'])"
      ],
      "metadata": {
        "colab": {
          "base_uri": "https://localhost:8080/"
        },
        "id": "jG6wbScyDDR5",
        "outputId": "425365ea-d993-48f4-8aae-b57391450984"
      },
      "execution_count": null,
      "outputs": [
        {
          "output_type": "stream",
          "name": "stdout",
          "text": [
            "12345\n",
            "5678\n"
          ]
        }
      ]
    },
    {
      "cell_type": "code",
      "source": [
        "d1[12.5] = 'I am a float'\n",
        "print(d1)"
      ],
      "metadata": {
        "colab": {
          "base_uri": "https://localhost:8080/"
        },
        "id": "NTJ-MAyGDojy",
        "outputId": "5765db8c-1b12-4d72-ae4d-7aba37713acc"
      },
      "execution_count": null,
      "outputs": [
        {
          "output_type": "stream",
          "name": "stdout",
          "text": [
            "{'ned': [518, 61], 'alex': [802, 31], 'jeff': 617, 'fred': [518, 120], 3: 12345, '3': 5678, 12.5: 'I am a float'}\n"
          ]
        }
      ]
    },
    {
      "cell_type": "code",
      "source": [
        "print(d1[12.5])\n",
        "print(d1[12.50001])"
      ],
      "metadata": {
        "colab": {
          "base_uri": "https://localhost:8080/",
          "height": 176
        },
        "id": "UeanFUPxD_Qy",
        "outputId": "71c2a0dd-955b-4c38-8330-85d3b59da1d8"
      },
      "execution_count": null,
      "outputs": [
        {
          "output_type": "stream",
          "name": "stdout",
          "text": [
            "I am a float\n"
          ]
        },
        {
          "output_type": "error",
          "ename": "KeyError",
          "evalue": "12.50001",
          "traceback": [
            "\u001b[0;31m---------------------------------------------------------------------------\u001b[0m",
            "\u001b[0;31mKeyError\u001b[0m                                  Traceback (most recent call last)",
            "\u001b[0;32m<ipython-input-19-a5763f44d74a>\u001b[0m in \u001b[0;36m<cell line: 2>\u001b[0;34m()\u001b[0m\n\u001b[1;32m      1\u001b[0m \u001b[0mprint\u001b[0m\u001b[0;34m(\u001b[0m\u001b[0md1\u001b[0m\u001b[0;34m[\u001b[0m\u001b[0;36m12.5\u001b[0m\u001b[0;34m]\u001b[0m\u001b[0;34m)\u001b[0m\u001b[0;34m\u001b[0m\u001b[0;34m\u001b[0m\u001b[0m\n\u001b[0;32m----> 2\u001b[0;31m \u001b[0mprint\u001b[0m\u001b[0;34m(\u001b[0m\u001b[0md1\u001b[0m\u001b[0;34m[\u001b[0m\u001b[0;36m12.50001\u001b[0m\u001b[0;34m]\u001b[0m\u001b[0;34m)\u001b[0m\u001b[0;34m\u001b[0m\u001b[0;34m\u001b[0m\u001b[0m\n\u001b[0m",
            "\u001b[0;31mKeyError\u001b[0m: 12.50001"
          ]
        }
      ]
    },
    {
      "cell_type": "code",
      "source": [
        "# removing something\n",
        "del d1['fred']\n",
        "print(d1)"
      ],
      "metadata": {
        "colab": {
          "base_uri": "https://localhost:8080/"
        },
        "id": "JfcS30CuEHCT",
        "outputId": "6030f079-7da5-4ca3-b73c-4ce5a5e6a102"
      },
      "execution_count": null,
      "outputs": [
        {
          "output_type": "stream",
          "name": "stdout",
          "text": [
            "{'ned': [518, 61], 'alex': [802, 31], 'jeff': 617, 3: 12345, '3': 5678, 12.5: 'I am a float'}\n"
          ]
        }
      ]
    },
    {
      "cell_type": "code",
      "source": [
        "# The value of get\n",
        "\n",
        "value = d1['fred']"
      ],
      "metadata": {
        "colab": {
          "base_uri": "https://localhost:8080/",
          "height": 176
        },
        "id": "nzhwy2oKE3E8",
        "outputId": "d9c5f333-2a50-48d0-d0d9-7320ee8c5e6e"
      },
      "execution_count": null,
      "outputs": [
        {
          "output_type": "error",
          "ename": "KeyError",
          "evalue": "'fred'",
          "traceback": [
            "\u001b[0;31m---------------------------------------------------------------------------\u001b[0m",
            "\u001b[0;31mKeyError\u001b[0m                                  Traceback (most recent call last)",
            "\u001b[0;32m<ipython-input-21-28983c8dd0ea>\u001b[0m in \u001b[0;36m<cell line: 3>\u001b[0;34m()\u001b[0m\n\u001b[1;32m      1\u001b[0m \u001b[0;31m# The value of get\u001b[0m\u001b[0;34m\u001b[0m\u001b[0;34m\u001b[0m\u001b[0m\n\u001b[1;32m      2\u001b[0m \u001b[0;34m\u001b[0m\u001b[0m\n\u001b[0;32m----> 3\u001b[0;31m \u001b[0mvalue\u001b[0m \u001b[0;34m=\u001b[0m \u001b[0md1\u001b[0m\u001b[0;34m[\u001b[0m\u001b[0;34m'fred'\u001b[0m\u001b[0;34m]\u001b[0m\u001b[0;34m\u001b[0m\u001b[0;34m\u001b[0m\u001b[0m\n\u001b[0m",
            "\u001b[0;31mKeyError\u001b[0m: 'fred'"
          ]
        }
      ]
    },
    {
      "cell_type": "code",
      "source": [
        "value = d1.get('fred', 'That was missing')\n",
        "print(value)\n",
        "\n",
        "value = d1.get('ned', 'That was missing')\n",
        "print(value)"
      ],
      "metadata": {
        "colab": {
          "base_uri": "https://localhost:8080/"
        },
        "id": "wBs6kch3FK7F",
        "outputId": "259bcc66-f4c3-4bde-cb92-121c86dcee1b"
      },
      "execution_count": null,
      "outputs": [
        {
          "output_type": "stream",
          "name": "stdout",
          "text": [
            "That was missing\n",
            "[518, 61]\n"
          ]
        }
      ]
    },
    {
      "cell_type": "code",
      "source": [
        "# Looping\n",
        "for x in d1.values():\n",
        "    print(f'{x=}')\n"
      ],
      "metadata": {
        "colab": {
          "base_uri": "https://localhost:8080/"
        },
        "id": "_Ne50BKaFWpV",
        "outputId": "5b107a6d-5757-4d81-dfe0-0d5a92b6d896"
      },
      "execution_count": null,
      "outputs": [
        {
          "output_type": "stream",
          "name": "stdout",
          "text": [
            "x=[518, 61]\n",
            "x=[802, 31]\n",
            "x=617\n",
            "x=12345\n",
            "x=5678\n",
            "x='I am a float'\n"
          ]
        }
      ]
    },
    {
      "cell_type": "code",
      "source": [
        "# Looping\n",
        "for x in sorted(d1.keys()):\n",
        "    print(f'{x=}')\n"
      ],
      "metadata": {
        "colab": {
          "base_uri": "https://localhost:8080/",
          "height": 176
        },
        "id": "HF_7OruaF5I9",
        "outputId": "f5eed9d7-069a-4a34-a3c5-207715351f13"
      },
      "execution_count": null,
      "outputs": [
        {
          "output_type": "error",
          "ename": "TypeError",
          "evalue": "'<' not supported between instances of 'int' and 'str'",
          "traceback": [
            "\u001b[0;31m---------------------------------------------------------------------------\u001b[0m",
            "\u001b[0;31mTypeError\u001b[0m                                 Traceback (most recent call last)",
            "\u001b[0;32m<ipython-input-33-0ab8827e073d>\u001b[0m in \u001b[0;36m<cell line: 2>\u001b[0;34m()\u001b[0m\n\u001b[1;32m      1\u001b[0m \u001b[0;31m# Looping\u001b[0m\u001b[0;34m\u001b[0m\u001b[0;34m\u001b[0m\u001b[0m\n\u001b[0;32m----> 2\u001b[0;31m \u001b[0;32mfor\u001b[0m \u001b[0mx\u001b[0m \u001b[0;32min\u001b[0m \u001b[0msorted\u001b[0m\u001b[0;34m(\u001b[0m\u001b[0md1\u001b[0m\u001b[0;34m.\u001b[0m\u001b[0mkeys\u001b[0m\u001b[0;34m(\u001b[0m\u001b[0;34m)\u001b[0m\u001b[0;34m)\u001b[0m\u001b[0;34m:\u001b[0m\u001b[0;34m\u001b[0m\u001b[0;34m\u001b[0m\u001b[0m\n\u001b[0m\u001b[1;32m      3\u001b[0m     \u001b[0mprint\u001b[0m\u001b[0;34m(\u001b[0m\u001b[0;34mf'{x=}'\u001b[0m\u001b[0;34m)\u001b[0m\u001b[0;34m\u001b[0m\u001b[0;34m\u001b[0m\u001b[0m\n",
            "\u001b[0;31mTypeError\u001b[0m: '<' not supported between instances of 'int' and 'str'"
          ]
        }
      ]
    },
    {
      "cell_type": "code",
      "source": [
        "print(d1)"
      ],
      "metadata": {
        "colab": {
          "base_uri": "https://localhost:8080/"
        },
        "id": "un8HkNg3Gxn_",
        "outputId": "457f37f5-a822-41ed-a5d7-41ed0638ce6c"
      },
      "execution_count": null,
      "outputs": [
        {
          "output_type": "stream",
          "name": "stdout",
          "text": [
            "{'ned': [518, 61], 'alex': [802, 31], 'jeff': 617, 3: 12345, '3': 5678, 12.5: 'I am a float'}\n"
          ]
        }
      ]
    },
    {
      "cell_type": "code",
      "source": [
        "del d1[3]\n",
        "del d1[12.5]\n",
        "print(d1)"
      ],
      "metadata": {
        "colab": {
          "base_uri": "https://localhost:8080/"
        },
        "id": "NPuqoQ44HEbY",
        "outputId": "c8bfd337-39af-40b6-8ffd-5c195cdf8b20"
      },
      "execution_count": null,
      "outputs": [
        {
          "output_type": "stream",
          "name": "stdout",
          "text": [
            "{'ned': [518, 61], 'alex': [802, 31], 'jeff': 617, '3': 5678}\n"
          ]
        }
      ]
    },
    {
      "cell_type": "code",
      "source": [
        "# Looping\n",
        "for x in sorted(d1.keys()):\n",
        "    print(f'{x=}')"
      ],
      "metadata": {
        "colab": {
          "base_uri": "https://localhost:8080/"
        },
        "id": "jxeHrCL7HP9A",
        "outputId": "efcb9c3a-501b-4adf-e99b-195056dba109"
      },
      "execution_count": null,
      "outputs": [
        {
          "output_type": "stream",
          "name": "stdout",
          "text": [
            "x='3'\n",
            "x='alex'\n",
            "x='jeff'\n",
            "x='ned'\n"
          ]
        }
      ]
    },
    {
      "cell_type": "code",
      "source": [
        "print(d1)"
      ],
      "metadata": {
        "colab": {
          "base_uri": "https://localhost:8080/"
        },
        "id": "9w3KxlHrHTdY",
        "outputId": "686747a3-c733-4783-8710-bd9fa2af59f4"
      },
      "execution_count": null,
      "outputs": [
        {
          "output_type": "stream",
          "name": "stdout",
          "text": [
            "{'ned': [518, 61], 'alex': [802, 31], 'jeff': 617, '3': 5678}\n"
          ]
        }
      ]
    },
    {
      "cell_type": "code",
      "source": [
        "del d1['3']"
      ],
      "metadata": {
        "id": "lbKBZaF7H9CZ"
      },
      "execution_count": null,
      "outputs": []
    },
    {
      "cell_type": "code",
      "source": [
        "print(d1)"
      ],
      "metadata": {
        "colab": {
          "base_uri": "https://localhost:8080/"
        },
        "id": "rfNt_aghIAo5",
        "outputId": "06734b80-cc08-40d7-c7a5-c0377bf043e0"
      },
      "execution_count": null,
      "outputs": [
        {
          "output_type": "stream",
          "name": "stdout",
          "text": [
            "{'ned': [518, 61], 'alex': [802, 31], 'jeff': 617}\n"
          ]
        }
      ]
    },
    {
      "cell_type": "code",
      "source": [
        "d1['ted'] = {'age':55, 'height':'5\\'7\"', 'area_code':518}"
      ],
      "metadata": {
        "id": "npZYrqBQIBzB"
      },
      "execution_count": null,
      "outputs": []
    },
    {
      "cell_type": "code",
      "source": [
        "print(d1)"
      ],
      "metadata": {
        "colab": {
          "base_uri": "https://localhost:8080/"
        },
        "id": "crEQZwaQITVS",
        "outputId": "c3997759-bde8-4ca9-bfff-cacb6e2de542"
      },
      "execution_count": null,
      "outputs": [
        {
          "output_type": "stream",
          "name": "stdout",
          "text": [
            "{'ned': [518, 61], 'alex': [802, 31], 'jeff': 617, 'ted': {'age': 55, 'height': '5\\'7\"', 'area_code': 518}}\n"
          ]
        }
      ]
    },
    {
      "cell_type": "code",
      "source": [
        "print(d1['ted']['age'])"
      ],
      "metadata": {
        "colab": {
          "base_uri": "https://localhost:8080/"
        },
        "id": "TiRraT-uIgOx",
        "outputId": "a3482dd2-8708-4b8c-b1bb-9547ae1b0554"
      },
      "execution_count": null,
      "outputs": [
        {
          "output_type": "stream",
          "name": "stdout",
          "text": [
            "55\n"
          ]
        }
      ]
    },
    {
      "cell_type": "code",
      "source": [
        "print(d1['ted']['area_code'])"
      ],
      "metadata": {
        "colab": {
          "base_uri": "https://localhost:8080/"
        },
        "id": "bh-s7YDgItpD",
        "outputId": "13450565-9b20-4937-c730-d13905fc8064"
      },
      "execution_count": null,
      "outputs": [
        {
          "output_type": "stream",
          "name": "stdout",
          "text": [
            "518\n"
          ]
        }
      ]
    },
    {
      "cell_type": "code",
      "source": [
        "print(d1)"
      ],
      "metadata": {
        "colab": {
          "base_uri": "https://localhost:8080/"
        },
        "id": "JzUyYZqPI5dq",
        "outputId": "8da19d6b-1da0-45cf-e204-8cc7e22e2706"
      },
      "execution_count": null,
      "outputs": [
        {
          "output_type": "stream",
          "name": "stdout",
          "text": [
            "{'ned': [518, 61], 'alex': [802, 31], 'jeff': 617, 'ted': {'age': 55, 'height': '5\\'7\"', 'area_code': 518}}\n"
          ]
        }
      ]
    },
    {
      "cell_type": "code",
      "source": [
        "d1['ted']['area_code'] = [518, 802]"
      ],
      "metadata": {
        "id": "iBQc9Jp5I7eS"
      },
      "execution_count": null,
      "outputs": []
    },
    {
      "cell_type": "code",
      "source": [
        "print(d1)"
      ],
      "metadata": {
        "colab": {
          "base_uri": "https://localhost:8080/"
        },
        "id": "dugkH9C8JHgb",
        "outputId": "939c648f-d3d9-4430-94c2-8f8bf208c3ea"
      },
      "execution_count": null,
      "outputs": [
        {
          "output_type": "stream",
          "name": "stdout",
          "text": [
            "{'ned': [518, 61], 'alex': [802, 31], 'jeff': 617, 'ted': {'age': 55, 'height': '5\\'7\"', 'area_code': [518, 802]}}\n"
          ]
        }
      ]
    },
    {
      "cell_type": "code",
      "source": [
        "print(d1['ted']['area_code'][1])"
      ],
      "metadata": {
        "colab": {
          "base_uri": "https://localhost:8080/"
        },
        "id": "TNeeON1HJJIb",
        "outputId": "91ddb5e4-6858-4e90-d66a-19a51654e941"
      },
      "execution_count": null,
      "outputs": [
        {
          "output_type": "stream",
          "name": "stdout",
          "text": [
            "802\n"
          ]
        }
      ]
    },
    {
      "cell_type": "code",
      "source": [
        "# Copied in from ChatGPT as an example!\n",
        "# \" Give me an example of using dictionaries in python\"\n",
        "\n",
        "# Create a dictionary to store information about a person\n",
        "person = {\n",
        "    'name': 'John',\n",
        "    'age': 30,\n",
        "    'city': 'New York',\n",
        "    'email': 'john@example.com'\n",
        "}\n",
        "\n",
        "# Accessing values in the dictionary\n",
        "print(\"Name:\", person['name'])\n",
        "print(\"Age:\", person['age'])\n",
        "print(\"City:\", person['city'])\n",
        "print(\"Email:\", person['email'])\n",
        "\n",
        "# Modifying a value in the dictionary\n",
        "person['age'] = 32\n",
        "print(\"\\nAfter updating age:\", person)\n",
        "\n",
        "# Adding a new key-value pair to the dictionary\n",
        "person['occupation'] = 'Software Engineer'\n",
        "print(\"\\nAfter adding occupation:\", person)\n",
        "\n",
        "# Removing a key-value pair from the dictionary\n",
        "del person['email']\n",
        "print(\"\\nAfter removing email:\", person)\n",
        "\n",
        "# Iterating over the dictionary\n",
        "print(\"\\nIterating over the dictionary:\")\n",
        "for key, value in person.items():\n",
        "    print(key + \":\", value)\n"
      ],
      "metadata": {
        "colab": {
          "base_uri": "https://localhost:8080/"
        },
        "id": "zYuDAOPZJbxs",
        "outputId": "57cfa5f6-034d-4247-d318-1fa8b1a73303"
      },
      "execution_count": null,
      "outputs": [
        {
          "output_type": "stream",
          "name": "stdout",
          "text": [
            "Name: John\n",
            "Age: 30\n",
            "City: New York\n",
            "Email: john@example.com\n",
            "\n",
            "After updating age: {'name': 'John', 'age': 32, 'city': 'New York', 'email': 'john@example.com'}\n",
            "\n",
            "After adding occupation: {'name': 'John', 'age': 32, 'city': 'New York', 'email': 'john@example.com', 'occupation': 'Software Engineer'}\n",
            "\n",
            "After removing email: {'name': 'John', 'age': 32, 'city': 'New York', 'occupation': 'Software Engineer'}\n",
            "\n",
            "Iterating over the dictionary:\n",
            "name: John\n",
            "age: 32\n",
            "city: New York\n",
            "occupation: Software Engineer\n"
          ]
        }
      ]
    },
    {
      "cell_type": "code",
      "source": [
        "list1 = [\n",
        "    13,\n",
        "    21,\n",
        "    77,\n",
        "    8\n",
        "]\n",
        "\n",
        "print(list1)"
      ],
      "metadata": {
        "id": "4gCHz19yKgJ1",
        "outputId": "ad8556f2-e528-4cb1-f912-340691bda4d7",
        "colab": {
          "base_uri": "https://localhost:8080/"
        }
      },
      "execution_count": null,
      "outputs": [
        {
          "output_type": "stream",
          "name": "stdout",
          "text": [
            "[13, 21, 77, 8]\n"
          ]
        }
      ]
    },
    {
      "cell_type": "code",
      "source": [
        "# Modifiy to create a dictionary with two different person dictionaries in it!\n",
        "\n",
        "person = {\n",
        "    'age': 30,\n",
        "    'city': 'New York',\n",
        "    'email': 'john@example.com'\n",
        "}\n",
        "person2 = {\n",
        "    'age': 35,\n",
        "    'city': 'New York',\n",
        "    'email': 'jjohn@example.com'\n",
        "}\n",
        "\n",
        "people = {'john' : person,\n",
        "          'ted': person2\n",
        "          }\n",
        "\n",
        "# Accessing values in the dictionary\n",
        "#print(\"Name:\", person['name'])\n",
        "print(\"Age:\", person['age'])\n",
        "print(\"City:\", person['city'])\n",
        "print(\"Email:\", person['email'])\n",
        "\n",
        "# Modifying a value in the dictionary\n",
        "person['age'] = 32\n",
        "print(\"\\nAfter updating age:\", person)\n",
        "\n",
        "# Adding a new key-value pair to the dictionary\n",
        "person['occupation'] = 'Software Engineer'\n",
        "print(\"\\nAfter adding occupation:\", person)\n",
        "\n",
        "# Removing a key-value pair from the dictionary\n",
        "del person['email']\n",
        "print(\"\\nAfter removing email:\", person)\n",
        "\n",
        "# Iterating over the dictionary\n",
        "print(\"\\nIterating over the dictionary:\")\n",
        "for key, value in people.items():\n",
        "    print(key + \":\", value)\n"
      ],
      "metadata": {
        "id": "PM5nqVsjKyA9",
        "outputId": "15e592b5-000f-4523-c51a-4811253c1a59",
        "colab": {
          "base_uri": "https://localhost:8080/"
        }
      },
      "execution_count": null,
      "outputs": [
        {
          "output_type": "stream",
          "name": "stdout",
          "text": [
            "Age: 30\n",
            "City: New York\n",
            "Email: john@example.com\n",
            "\n",
            "After updating age: {'age': 32, 'city': 'New York', 'email': 'john@example.com'}\n",
            "\n",
            "After adding occupation: {'age': 32, 'city': 'New York', 'email': 'john@example.com', 'occupation': 'Software Engineer'}\n",
            "\n",
            "After removing email: {'age': 32, 'city': 'New York', 'occupation': 'Software Engineer'}\n",
            "\n",
            "Iterating over the dictionary:\n",
            "john: {'age': 32, 'city': 'New York', 'occupation': 'Software Engineer'}\n",
            "ted: {'age': 30, 'city': 'New York', 'email': 'john@example.com'}\n"
          ]
        }
      ]
    },
    {
      "cell_type": "code",
      "source": [],
      "metadata": {
        "id": "M4wqNBSxMFi_"
      },
      "execution_count": null,
      "outputs": []
    }
  ]
}