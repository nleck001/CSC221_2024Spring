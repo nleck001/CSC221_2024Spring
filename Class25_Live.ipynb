{
  "nbformat": 4,
  "nbformat_minor": 0,
  "metadata": {
    "colab": {
      "provenance": [],
      "authorship_tag": "ABX9TyPh/1eFejecOsLVb+cUwDb8",
      "include_colab_link": true
    },
    "kernelspec": {
      "name": "python3",
      "display_name": "Python 3"
    },
    "language_info": {
      "name": "python"
    }
  },
  "cells": [
    {
      "cell_type": "markdown",
      "metadata": {
        "id": "view-in-github",
        "colab_type": "text"
      },
      "source": [
        "<a href=\"https://colab.research.google.com/github/nleck001/CSC221_Spring_2024/blob/main/Class25_Live.ipynb\" target=\"_parent\"><img src=\"https://colab.research.google.com/assets/colab-badge.svg\" alt=\"Open In Colab\"/></a>"
      ]
    },
    {
      "cell_type": "markdown",
      "source": [
        "Class 25 Live\n",
        "4/30/2024"
      ],
      "metadata": {
        "id": "Sg1R5YuUta9f"
      }
    },
    {
      "cell_type": "code",
      "execution_count": null,
      "metadata": {
        "colab": {
          "base_uri": "https://localhost:8080/"
        },
        "id": "Yu2mHXdQMVe9",
        "outputId": "9a356758-418d-4364-ba10-7112739217fd"
      },
      "outputs": [
        {
          "output_type": "stream",
          "name": "stdout",
          "text": [
            "None\n"
          ]
        }
      ],
      "source": [
        "# None\n",
        "\n",
        "def f1(x):\n",
        "    a = 3\n",
        "\n",
        "x = f1(13)\n",
        "print(x)"
      ]
    },
    {
      "cell_type": "code",
      "source": [
        "def f2(x=None):\n",
        "    if x == None:\n",
        "        print(\"Nothing came in!\")\n",
        "        return \"Error\"\n",
        "\n",
        "    return x*2\n",
        "\n",
        "y = f2()\n",
        "print(y)\n",
        "\n",
        "y = f2(13)\n",
        "print(y)"
      ],
      "metadata": {
        "colab": {
          "base_uri": "https://localhost:8080/"
        },
        "id": "cXdAo_6FU_w8",
        "outputId": "7de4eb2d-df5c-4b80-e3fc-f88fe649fd5b"
      },
      "execution_count": null,
      "outputs": [
        {
          "output_type": "stream",
          "name": "stdout",
          "text": [
            "Nothing came in!\n",
            "Error\n",
            "26\n"
          ]
        }
      ]
    },
    {
      "cell_type": "code",
      "source": [
        "# try except finally\n",
        "\n",
        "def divide(x, y):\n",
        "    try:\n",
        "        return x / y\n",
        "    except:\n",
        "        return -1\n",
        "    finally:\n",
        "        print(\"I always print!\")\n",
        "\n",
        "a = divide(13, 0)\n",
        "print(a)\n",
        "\n",
        "a = divide(13, 2)\n",
        "print(a)"
      ],
      "metadata": {
        "colab": {
          "base_uri": "https://localhost:8080/"
        },
        "id": "MaaLcjt9VZZZ",
        "outputId": "1b8bdc2e-5fa0-4eca-a2a9-c69bdc84bed0"
      },
      "execution_count": null,
      "outputs": [
        {
          "output_type": "stream",
          "name": "stdout",
          "text": [
            "I always print!\n",
            "-1\n",
            "I always print!\n",
            "6.5\n"
          ]
        }
      ]
    },
    {
      "cell_type": "code",
      "source": [
        "# import from and as\n",
        "\n",
        "\n",
        "\n",
        "%%file importexample.py\n",
        "def f3(x):\n",
        "    return x*5\n",
        "\n"
      ],
      "metadata": {
        "colab": {
          "base_uri": "https://localhost:8080/"
        },
        "id": "il5UZ2ukWHa_",
        "outputId": "77daa99a-6386-446e-9302-8532d05423ba"
      },
      "execution_count": null,
      "outputs": [
        {
          "output_type": "stream",
          "name": "stdout",
          "text": [
            "Overwriting importexample.py\n"
          ]
        }
      ]
    },
    {
      "cell_type": "code",
      "source": [
        "#import\n",
        "import importexample\n",
        "\n",
        "print(type(importexample))\n",
        "\n",
        "print(dir(importexample))\n",
        "\n",
        "a = importexample.f3(23)\n",
        "print(a)"
      ],
      "metadata": {
        "colab": {
          "base_uri": "https://localhost:8080/"
        },
        "id": "0rD5HfeCXTAZ",
        "outputId": "273f21e9-2285-4dc9-d37c-078e6e4e8396"
      },
      "execution_count": null,
      "outputs": [
        {
          "output_type": "stream",
          "name": "stdout",
          "text": [
            "<class 'module'>\n",
            "['__builtins__', '__cached__', '__doc__', '__file__', '__loader__', '__name__', '__package__', '__spec__', 'f3']\n",
            "115\n"
          ]
        }
      ]
    },
    {
      "cell_type": "code",
      "source": [
        "#import\n",
        "import importexample as ie\n",
        "\n",
        "print(type(importexample))\n",
        "\n",
        "print(dir(importexample))\n",
        "\n",
        "a = ie.f3(23)\n",
        "print(a)"
      ],
      "metadata": {
        "colab": {
          "base_uri": "https://localhost:8080/"
        },
        "id": "ivgAua_bXsvx",
        "outputId": "ded3d871-e658-497b-ce75-5d06e9274c72"
      },
      "execution_count": null,
      "outputs": [
        {
          "output_type": "stream",
          "name": "stdout",
          "text": [
            "<class 'module'>\n",
            "['__builtins__', '__cached__', '__doc__', '__file__', '__loader__', '__name__', '__package__', '__spec__', 'f3']\n",
            "115\n"
          ]
        }
      ]
    },
    {
      "cell_type": "code",
      "source": [
        "#from\n",
        "from importexample import f3\n",
        "\n",
        "a = f3(23)\n",
        "print(a)"
      ],
      "metadata": {
        "colab": {
          "base_uri": "https://localhost:8080/"
        },
        "id": "CWS6UNGHYzXb",
        "outputId": "d9ccdc15-5d8c-4e2c-e810-358a0bcd0885"
      },
      "execution_count": null,
      "outputs": [
        {
          "output_type": "stream",
          "name": "stdout",
          "text": [
            "115\n"
          ]
        }
      ]
    },
    {
      "cell_type": "code",
      "source": [
        "# global local\n",
        "a = 123\n",
        "\n",
        "def myfunc(x):\n",
        "    a = x * 2\n",
        "    return a\n",
        "\n",
        "print(a)\n",
        "b = myfunc(123)\n",
        "print(a)\n",
        "print(b)"
      ],
      "metadata": {
        "colab": {
          "base_uri": "https://localhost:8080/"
        },
        "id": "aK2lHgCZZATc",
        "outputId": "fa8d003d-e574-4d2e-8301-42bd832368db"
      },
      "execution_count": null,
      "outputs": [
        {
          "output_type": "stream",
          "name": "stdout",
          "text": [
            "123\n",
            "123\n",
            "246\n"
          ]
        }
      ]
    },
    {
      "cell_type": "code",
      "source": [
        "print(globals())\n",
        "\n",
        "g = globals()\n",
        "for line in g:\n",
        "    if not line.startswith('_'):\n",
        "        print(line)\n",
        "\n",
        "def myfunc(x):\n",
        "    a = x * 2\n",
        "\n",
        "    print('\\nmyfuncs locals')\n",
        "    locals_vars = locals()\n",
        "    for line in locals_vars:\n",
        "        if not line.startswith('_'):\n",
        "            print(line)\n",
        "\n",
        "    return a\n",
        "\n",
        "print(a)\n",
        "b = myfunc(123)\n",
        "print(a)\n",
        "print(b)"
      ],
      "metadata": {
        "colab": {
          "base_uri": "https://localhost:8080/"
        },
        "id": "YBqZBdwMZlHF",
        "outputId": "b53f021d-0d99-4018-92c9-21117f360755"
      },
      "execution_count": null,
      "outputs": [
        {
          "output_type": "stream",
          "name": "stdout",
          "text": [
            "{'__name__': '__main__', '__doc__': 'Automatically created module for IPython interactive environment', '__package__': None, '__loader__': None, '__spec__': None, '__builtin__': <module 'builtins' (built-in)>, '__builtins__': <module 'builtins' (built-in)>, '_ih': ['', '# None\\n\\ndef f1(x):\\n    a = 3\\n\\nx = f1(13)\\nprint(x)', 'def f2(x=None):\\n    if x == None:\\n        print(\"Nothing came in!\")\\n        return \"\"\\n\\n    return x*2', 'def f2(x=None):\\n    if x == None:\\n        print(\"Nothing came in!\")\\n        return \"Error\"\\n\\n    return x*2\\n\\ny = f2()\\nprint(y)', 'def f2(x=None):\\n    if x == None:\\n        print(\"Nothing came in!\")\\n        return \"Error\"\\n\\n    return x*2\\n\\ny = f2()\\nprint(y)\\n\\ny = f2(13)\\nprint(y)', '# try except finally\\n\\ndef divide(x, y):\\n    return x / y\\n\\na = divide(13, 0)', '# try except finally\\n\\ndef divide(x, y):\\n    try:\\n        return x / y\\n    except:\\n        return -1\\n\\na = divide(13, 0)', '# try except finally\\n\\ndef divide(x, y):\\n    try:\\n        return x / y\\n    except:\\n        return -1\\n\\na = divide(13, 0)\\nprint(a)', '# try except finally\\n\\ndef divide(x, y):\\n    try:\\n        return x / y\\n    except:\\n        return -1\\n    finally:\\n        print(\"I always print!\")\\n\\na = divide(13, 0)\\nprint(a)', '# try except finally\\n\\ndef divide(x, y):\\n    try:\\n        return x / y\\n    except:\\n        return -1\\n    finally:\\n        print(\"I always print!\")\\n\\na = divide(13, 0)\\nprint(a)\\n\\na = divide(13, 2)\\nprint(a)', \"get_ipython().run_cell_magic('', 'importexample.py', 'def f3(x):\\\\n    return x*5\\\\n\\\\n')\", \"get_ipython().run_cell_magic('', 'importexample.py', 'def f3(x):\\\\n    return x*5\\\\n\\\\n')\", \"get_ipython().run_cell_magic('file', 'importexample.py', 'def f3(x):\\\\n    return x*5\\\\n\\\\n')\", \"get_ipython().run_cell_magic('file', 'importexample.py', 'def f3(x):\\\\n    return x*5\\\\n\\\\n')\", '#import\\nimport importexample\\n\\na = f3(23)', '#import\\nimport importexample\\n\\nprint(type(importexample))\\n\\na = f3(23)', '#import\\nimport importexample\\n\\nprint(type(importexample))\\n\\nprint(dir(importexample))\\n\\na = f3(23)', '#import\\nimport importexample\\n\\nprint(type(importexample))\\n\\nprint(dir(importexample))\\n\\na = importexample.f3(23)', '#import\\nimport importexample\\n\\nprint(type(importexample))\\n\\nprint(dir(importexample))\\n\\na = importexample.f3(23)\\nprint(a)', '#import\\nimport importexample as ie\\n\\nprint(type(importexample))\\n\\nprint(dir(importexample))\\n\\na = ie.f3(23)\\nprint(a)', '#from\\nfrom importexample import f3\\n\\nprint(type(importexample))\\n\\nprint(dir(importexample))\\n\\na = f3(23)\\nprint(a)', '#from\\nfrom importexample import f3\\n\\na = f3(23)\\nprint(a)', '# global local\\na = 123\\n\\ndef myfunc(x):\\n    a = x * 2\\n    return a\\n \\nprint(a)\\nb = myfunc(123)\\nprint(a)\\nprint(b)', 'print(globals)', 'print(globals())', 'print(globals())\\n\\nfor line in globals():\\n    print(line)', 'print(globals())\\n\\ng = globals()\\nfor line in g:\\n    print(line)', \"print(globals())\\n\\ng = globals()\\nfor line in g:\\n    if not line.startswith('_'):\\n        print(line)\", \"print(globals())\\n\\ng = globals()\\nfor line in g:\\n    if not line.startswith('_'):\\n        print(line)\\n\\ndef myfunc(x):\\n    a = x * 2\\n\\n    locals_vars = locals()\\n    for line in locals_vars:\\n        if not line.startswith('_'):\\n            print(line)\\n\\n    return a\\n\\nprint(a)\\nb = myfunc(123)\\nprint(a)\\nprint(b)\", \"print(globals())\\n\\ng = globals()\\nfor line in g:\\n    if not line.startswith('_'):\\n        print(line)\\n\\ndef myfunc(x):\\n    a = x * 2\\n\\n    print('\\\\nmyfuncs locals')\\n    locals_vars = locals()\\n    for line in locals_vars:\\n        if not line.startswith('_'):\\n            print(line)\\n\\n    return a\\n\\nprint(a)\\nb = myfunc(123)\\nprint(a)\\nprint(b)\"], '_oh': {}, '_dh': ['/content'], 'In': ['', '# None\\n\\ndef f1(x):\\n    a = 3\\n\\nx = f1(13)\\nprint(x)', 'def f2(x=None):\\n    if x == None:\\n        print(\"Nothing came in!\")\\n        return \"\"\\n\\n    return x*2', 'def f2(x=None):\\n    if x == None:\\n        print(\"Nothing came in!\")\\n        return \"Error\"\\n\\n    return x*2\\n\\ny = f2()\\nprint(y)', 'def f2(x=None):\\n    if x == None:\\n        print(\"Nothing came in!\")\\n        return \"Error\"\\n\\n    return x*2\\n\\ny = f2()\\nprint(y)\\n\\ny = f2(13)\\nprint(y)', '# try except finally\\n\\ndef divide(x, y):\\n    return x / y\\n\\na = divide(13, 0)', '# try except finally\\n\\ndef divide(x, y):\\n    try:\\n        return x / y\\n    except:\\n        return -1\\n\\na = divide(13, 0)', '# try except finally\\n\\ndef divide(x, y):\\n    try:\\n        return x / y\\n    except:\\n        return -1\\n\\na = divide(13, 0)\\nprint(a)', '# try except finally\\n\\ndef divide(x, y):\\n    try:\\n        return x / y\\n    except:\\n        return -1\\n    finally:\\n        print(\"I always print!\")\\n\\na = divide(13, 0)\\nprint(a)', '# try except finally\\n\\ndef divide(x, y):\\n    try:\\n        return x / y\\n    except:\\n        return -1\\n    finally:\\n        print(\"I always print!\")\\n\\na = divide(13, 0)\\nprint(a)\\n\\na = divide(13, 2)\\nprint(a)', \"get_ipython().run_cell_magic('', 'importexample.py', 'def f3(x):\\\\n    return x*5\\\\n\\\\n')\", \"get_ipython().run_cell_magic('', 'importexample.py', 'def f3(x):\\\\n    return x*5\\\\n\\\\n')\", \"get_ipython().run_cell_magic('file', 'importexample.py', 'def f3(x):\\\\n    return x*5\\\\n\\\\n')\", \"get_ipython().run_cell_magic('file', 'importexample.py', 'def f3(x):\\\\n    return x*5\\\\n\\\\n')\", '#import\\nimport importexample\\n\\na = f3(23)', '#import\\nimport importexample\\n\\nprint(type(importexample))\\n\\na = f3(23)', '#import\\nimport importexample\\n\\nprint(type(importexample))\\n\\nprint(dir(importexample))\\n\\na = f3(23)', '#import\\nimport importexample\\n\\nprint(type(importexample))\\n\\nprint(dir(importexample))\\n\\na = importexample.f3(23)', '#import\\nimport importexample\\n\\nprint(type(importexample))\\n\\nprint(dir(importexample))\\n\\na = importexample.f3(23)\\nprint(a)', '#import\\nimport importexample as ie\\n\\nprint(type(importexample))\\n\\nprint(dir(importexample))\\n\\na = ie.f3(23)\\nprint(a)', '#from\\nfrom importexample import f3\\n\\nprint(type(importexample))\\n\\nprint(dir(importexample))\\n\\na = f3(23)\\nprint(a)', '#from\\nfrom importexample import f3\\n\\na = f3(23)\\nprint(a)', '# global local\\na = 123\\n\\ndef myfunc(x):\\n    a = x * 2\\n    return a\\n \\nprint(a)\\nb = myfunc(123)\\nprint(a)\\nprint(b)', 'print(globals)', 'print(globals())', 'print(globals())\\n\\nfor line in globals():\\n    print(line)', 'print(globals())\\n\\ng = globals()\\nfor line in g:\\n    print(line)', \"print(globals())\\n\\ng = globals()\\nfor line in g:\\n    if not line.startswith('_'):\\n        print(line)\", \"print(globals())\\n\\ng = globals()\\nfor line in g:\\n    if not line.startswith('_'):\\n        print(line)\\n\\ndef myfunc(x):\\n    a = x * 2\\n\\n    locals_vars = locals()\\n    for line in locals_vars:\\n        if not line.startswith('_'):\\n            print(line)\\n\\n    return a\\n\\nprint(a)\\nb = myfunc(123)\\nprint(a)\\nprint(b)\", \"print(globals())\\n\\ng = globals()\\nfor line in g:\\n    if not line.startswith('_'):\\n        print(line)\\n\\ndef myfunc(x):\\n    a = x * 2\\n\\n    print('\\\\nmyfuncs locals')\\n    locals_vars = locals()\\n    for line in locals_vars:\\n        if not line.startswith('_'):\\n            print(line)\\n\\n    return a\\n\\nprint(a)\\nb = myfunc(123)\\nprint(a)\\nprint(b)\"], 'Out': {}, 'get_ipython': <bound method InteractiveShell.get_ipython of <google.colab._shell.Shell object at 0x785b86ed77f0>>, 'exit': <IPython.core.autocall.ZMQExitAutocall object at 0x785b86ed6cb0>, 'quit': <IPython.core.autocall.ZMQExitAutocall object at 0x785b86ed6cb0>, '_': '', '__': '', '___': '', '_i': \"print(globals())\\n\\ng = globals()\\nfor line in g:\\n    if not line.startswith('_'):\\n        print(line)\\n\\ndef myfunc(x):\\n    a = x * 2\\n\\n    locals_vars = locals()\\n    for line in locals_vars:\\n        if not line.startswith('_'):\\n            print(line)\\n\\n    return a\\n\\nprint(a)\\nb = myfunc(123)\\nprint(a)\\nprint(b)\", '_ii': \"print(globals())\\n\\ng = globals()\\nfor line in g:\\n    if not line.startswith('_'):\\n        print(line)\", '_iii': 'print(globals())\\n\\ng = globals()\\nfor line in g:\\n    print(line)', '_i1': '# None\\n\\ndef f1(x):\\n    a = 3\\n\\nx = f1(13)\\nprint(x)', 'f1': <function f1 at 0x785b75b98dc0>, 'x': None, '_i2': 'def f2(x=None):\\n    if x == None:\\n        print(\"Nothing came in!\")\\n        return \"\"\\n\\n    return x*2', 'f2': <function f2 at 0x785b5ccda440>, '_i3': 'def f2(x=None):\\n    if x == None:\\n        print(\"Nothing came in!\")\\n        return \"Error\"\\n\\n    return x*2\\n\\ny = f2()\\nprint(y)', 'y': 26, '_i4': 'def f2(x=None):\\n    if x == None:\\n        print(\"Nothing came in!\")\\n        return \"Error\"\\n\\n    return x*2\\n\\ny = f2()\\nprint(y)\\n\\ny = f2(13)\\nprint(y)', '_i5': '# try except finally\\n\\ndef divide(x, y):\\n    return x / y\\n\\na = divide(13, 0)', 'divide': <function divide at 0x785b5ca067a0>, '_i6': '# try except finally\\n\\ndef divide(x, y):\\n    try:\\n        return x / y\\n    except:\\n        return -1\\n\\na = divide(13, 0)', 'a': 123, '_i7': '# try except finally\\n\\ndef divide(x, y):\\n    try:\\n        return x / y\\n    except:\\n        return -1\\n\\na = divide(13, 0)\\nprint(a)', '_i8': '# try except finally\\n\\ndef divide(x, y):\\n    try:\\n        return x / y\\n    except:\\n        return -1\\n    finally:\\n        print(\"I always print!\")\\n\\na = divide(13, 0)\\nprint(a)', '_i9': '# try except finally\\n\\ndef divide(x, y):\\n    try:\\n        return x / y\\n    except:\\n        return -1\\n    finally:\\n        print(\"I always print!\")\\n\\na = divide(13, 0)\\nprint(a)\\n\\na = divide(13, 2)\\nprint(a)', '_i10': '\\n%% importexample.py\\ndef f3(x):\\n    return x*5', '_i11': '%% importexample.py\\ndef f3(x):\\n    return x*5', '_i12': '%%file importexample.py\\ndef f3(x):\\n    return x*5', '_i13': '\\n\\n\\n%%file importexample.py\\ndef f3(x):\\n    return x*5', '_i14': '#import\\nimport importexample\\n\\na = f3(23)', 'importexample': <module 'importexample' from '/content/importexample.py'>, '_i15': '#import\\nimport importexample\\n\\nprint(type(importexample))\\n\\na = f3(23)', '_i16': '#import\\nimport importexample\\n\\nprint(type(importexample))\\n\\nprint(dir(importexample))\\n\\na = f3(23)', '_i17': '#import\\nimport importexample\\n\\nprint(type(importexample))\\n\\nprint(dir(importexample))\\n\\na = importexample.f3(23)', '_i18': '#import\\nimport importexample\\n\\nprint(type(importexample))\\n\\nprint(dir(importexample))\\n\\na = importexample.f3(23)\\nprint(a)', '_i19': '#import\\nimport importexample as ie\\n\\nprint(type(importexample))\\n\\nprint(dir(importexample))\\n\\na = ie.f3(23)\\nprint(a)', 'ie': <module 'importexample' from '/content/importexample.py'>, '_i20': '#from\\nfrom importexample import f3\\n\\nprint(type(importexample))\\n\\nprint(dir(importexample))\\n\\na = f3(23)\\nprint(a)', 'f3': <function f3 at 0x785b5ccdb2e0>, '_i21': '#from\\nfrom importexample import f3\\n\\na = f3(23)\\nprint(a)', '_i22': '# global local\\na = 123\\n\\ndef myfunc(x):\\n    a = x * 2\\n    return a\\n \\nprint(a)\\nb = myfunc(123)\\nprint(a)\\nprint(b)', 'myfunc': <function myfunc at 0x785b42f33b50>, 'b': 246, '_i23': 'print(globals)', '_i24': 'print(globals())', '_i25': 'print(globals())\\n\\nfor line in globals():\\n    print(line)', 'line': '_i28', '_i26': 'print(globals())\\n\\ng = globals()\\nfor line in g:\\n    print(line)', 'g': {...}, '_i27': \"print(globals())\\n\\ng = globals()\\nfor line in g:\\n    if not line.startswith('_'):\\n        print(line)\", '_i28': \"print(globals())\\n\\ng = globals()\\nfor line in g:\\n    if not line.startswith('_'):\\n        print(line)\\n\\ndef myfunc(x):\\n    a = x * 2\\n\\n    locals_vars = locals()\\n    for line in locals_vars:\\n        if not line.startswith('_'):\\n            print(line)\\n\\n    return a\\n\\nprint(a)\\nb = myfunc(123)\\nprint(a)\\nprint(b)\", '_i29': \"print(globals())\\n\\ng = globals()\\nfor line in g:\\n    if not line.startswith('_'):\\n        print(line)\\n\\ndef myfunc(x):\\n    a = x * 2\\n\\n    print('\\\\nmyfuncs locals')\\n    locals_vars = locals()\\n    for line in locals_vars:\\n        if not line.startswith('_'):\\n            print(line)\\n\\n    return a\\n\\nprint(a)\\nb = myfunc(123)\\nprint(a)\\nprint(b)\"}\n",
            "In\n",
            "Out\n",
            "get_ipython\n",
            "exit\n",
            "quit\n",
            "f1\n",
            "x\n",
            "f2\n",
            "y\n",
            "divide\n",
            "a\n",
            "importexample\n",
            "ie\n",
            "f3\n",
            "myfunc\n",
            "b\n",
            "line\n",
            "g\n",
            "123\n",
            "\n",
            "myfuncs locals\n",
            "x\n",
            "a\n",
            "123\n",
            "246\n"
          ]
        }
      ]
    },
    {
      "cell_type": "code",
      "source": [
        "print(globals())\n",
        "\n",
        "g = globals()\n",
        "for line in g:\n",
        "    if not line.startswith('_'):\n",
        "        print(line)\n",
        "\n",
        "def myfunc(x):\n",
        "    global a\n",
        "    a = x * 2\n",
        "\n",
        "    print('\\nmyfuncs locals')\n",
        "    locals_vars = locals()\n",
        "    for line in locals_vars:\n",
        "        if not line.startswith('_'):\n",
        "            print(line)\n",
        "\n",
        "    return a\n",
        "\n",
        "print(a)\n",
        "b = myfunc(123)\n",
        "print(a)\n",
        "print(b)"
      ],
      "metadata": {
        "colab": {
          "base_uri": "https://localhost:8080/"
        },
        "id": "REh4F7u1Z8fU",
        "outputId": "0f36abf1-44ce-4549-90d2-1b02ad989a5d"
      },
      "execution_count": null,
      "outputs": [
        {
          "output_type": "stream",
          "name": "stdout",
          "text": [
            "{'__name__': '__main__', '__doc__': 'Automatically created module for IPython interactive environment', '__package__': None, '__loader__': None, '__spec__': None, '__builtin__': <module 'builtins' (built-in)>, '__builtins__': <module 'builtins' (built-in)>, '_ih': ['', '# None\\n\\ndef f1(x):\\n    a = 3\\n\\nx = f1(13)\\nprint(x)', 'def f2(x=None):\\n    if x == None:\\n        print(\"Nothing came in!\")\\n        return \"\"\\n\\n    return x*2', 'def f2(x=None):\\n    if x == None:\\n        print(\"Nothing came in!\")\\n        return \"Error\"\\n\\n    return x*2\\n\\ny = f2()\\nprint(y)', 'def f2(x=None):\\n    if x == None:\\n        print(\"Nothing came in!\")\\n        return \"Error\"\\n\\n    return x*2\\n\\ny = f2()\\nprint(y)\\n\\ny = f2(13)\\nprint(y)', '# try except finally\\n\\ndef divide(x, y):\\n    return x / y\\n\\na = divide(13, 0)', '# try except finally\\n\\ndef divide(x, y):\\n    try:\\n        return x / y\\n    except:\\n        return -1\\n\\na = divide(13, 0)', '# try except finally\\n\\ndef divide(x, y):\\n    try:\\n        return x / y\\n    except:\\n        return -1\\n\\na = divide(13, 0)\\nprint(a)', '# try except finally\\n\\ndef divide(x, y):\\n    try:\\n        return x / y\\n    except:\\n        return -1\\n    finally:\\n        print(\"I always print!\")\\n\\na = divide(13, 0)\\nprint(a)', '# try except finally\\n\\ndef divide(x, y):\\n    try:\\n        return x / y\\n    except:\\n        return -1\\n    finally:\\n        print(\"I always print!\")\\n\\na = divide(13, 0)\\nprint(a)\\n\\na = divide(13, 2)\\nprint(a)', \"get_ipython().run_cell_magic('', 'importexample.py', 'def f3(x):\\\\n    return x*5\\\\n\\\\n')\", \"get_ipython().run_cell_magic('', 'importexample.py', 'def f3(x):\\\\n    return x*5\\\\n\\\\n')\", \"get_ipython().run_cell_magic('file', 'importexample.py', 'def f3(x):\\\\n    return x*5\\\\n\\\\n')\", \"get_ipython().run_cell_magic('file', 'importexample.py', 'def f3(x):\\\\n    return x*5\\\\n\\\\n')\", '#import\\nimport importexample\\n\\na = f3(23)', '#import\\nimport importexample\\n\\nprint(type(importexample))\\n\\na = f3(23)', '#import\\nimport importexample\\n\\nprint(type(importexample))\\n\\nprint(dir(importexample))\\n\\na = f3(23)', '#import\\nimport importexample\\n\\nprint(type(importexample))\\n\\nprint(dir(importexample))\\n\\na = importexample.f3(23)', '#import\\nimport importexample\\n\\nprint(type(importexample))\\n\\nprint(dir(importexample))\\n\\na = importexample.f3(23)\\nprint(a)', '#import\\nimport importexample as ie\\n\\nprint(type(importexample))\\n\\nprint(dir(importexample))\\n\\na = ie.f3(23)\\nprint(a)', '#from\\nfrom importexample import f3\\n\\nprint(type(importexample))\\n\\nprint(dir(importexample))\\n\\na = f3(23)\\nprint(a)', '#from\\nfrom importexample import f3\\n\\na = f3(23)\\nprint(a)', '# global local\\na = 123\\n\\ndef myfunc(x):\\n    a = x * 2\\n    return a\\n \\nprint(a)\\nb = myfunc(123)\\nprint(a)\\nprint(b)', 'print(globals)', 'print(globals())', 'print(globals())\\n\\nfor line in globals():\\n    print(line)', 'print(globals())\\n\\ng = globals()\\nfor line in g:\\n    print(line)', \"print(globals())\\n\\ng = globals()\\nfor line in g:\\n    if not line.startswith('_'):\\n        print(line)\", \"print(globals())\\n\\ng = globals()\\nfor line in g:\\n    if not line.startswith('_'):\\n        print(line)\\n\\ndef myfunc(x):\\n    a = x * 2\\n\\n    locals_vars = locals()\\n    for line in locals_vars:\\n        if not line.startswith('_'):\\n            print(line)\\n\\n    return a\\n\\nprint(a)\\nb = myfunc(123)\\nprint(a)\\nprint(b)\", \"print(globals())\\n\\ng = globals()\\nfor line in g:\\n    if not line.startswith('_'):\\n        print(line)\\n\\ndef myfunc(x):\\n    a = x * 2\\n\\n    print('\\\\nmyfuncs locals')\\n    locals_vars = locals()\\n    for line in locals_vars:\\n        if not line.startswith('_'):\\n            print(line)\\n\\n    return a\\n\\nprint(a)\\nb = myfunc(123)\\nprint(a)\\nprint(b)\", \"print(globals())\\n\\ng = globals()\\nfor line in g:\\n    if not line.startswith('_'):\\n        print(line)\\n\\ndef myfunc(x):\\n    global a\\n    a = x * 2\\n\\n    print('\\\\nmyfuncs locals')\\n    locals_vars = locals()\\n    for line in locals_vars:\\n        if not line.startswith('_'):\\n            print(line)\\n\\n    return a\\n\\nprint(a)\\nb = myfunc(123)\\nprint(a)\\nprint(b)\"], '_oh': {}, '_dh': ['/content'], 'In': ['', '# None\\n\\ndef f1(x):\\n    a = 3\\n\\nx = f1(13)\\nprint(x)', 'def f2(x=None):\\n    if x == None:\\n        print(\"Nothing came in!\")\\n        return \"\"\\n\\n    return x*2', 'def f2(x=None):\\n    if x == None:\\n        print(\"Nothing came in!\")\\n        return \"Error\"\\n\\n    return x*2\\n\\ny = f2()\\nprint(y)', 'def f2(x=None):\\n    if x == None:\\n        print(\"Nothing came in!\")\\n        return \"Error\"\\n\\n    return x*2\\n\\ny = f2()\\nprint(y)\\n\\ny = f2(13)\\nprint(y)', '# try except finally\\n\\ndef divide(x, y):\\n    return x / y\\n\\na = divide(13, 0)', '# try except finally\\n\\ndef divide(x, y):\\n    try:\\n        return x / y\\n    except:\\n        return -1\\n\\na = divide(13, 0)', '# try except finally\\n\\ndef divide(x, y):\\n    try:\\n        return x / y\\n    except:\\n        return -1\\n\\na = divide(13, 0)\\nprint(a)', '# try except finally\\n\\ndef divide(x, y):\\n    try:\\n        return x / y\\n    except:\\n        return -1\\n    finally:\\n        print(\"I always print!\")\\n\\na = divide(13, 0)\\nprint(a)', '# try except finally\\n\\ndef divide(x, y):\\n    try:\\n        return x / y\\n    except:\\n        return -1\\n    finally:\\n        print(\"I always print!\")\\n\\na = divide(13, 0)\\nprint(a)\\n\\na = divide(13, 2)\\nprint(a)', \"get_ipython().run_cell_magic('', 'importexample.py', 'def f3(x):\\\\n    return x*5\\\\n\\\\n')\", \"get_ipython().run_cell_magic('', 'importexample.py', 'def f3(x):\\\\n    return x*5\\\\n\\\\n')\", \"get_ipython().run_cell_magic('file', 'importexample.py', 'def f3(x):\\\\n    return x*5\\\\n\\\\n')\", \"get_ipython().run_cell_magic('file', 'importexample.py', 'def f3(x):\\\\n    return x*5\\\\n\\\\n')\", '#import\\nimport importexample\\n\\na = f3(23)', '#import\\nimport importexample\\n\\nprint(type(importexample))\\n\\na = f3(23)', '#import\\nimport importexample\\n\\nprint(type(importexample))\\n\\nprint(dir(importexample))\\n\\na = f3(23)', '#import\\nimport importexample\\n\\nprint(type(importexample))\\n\\nprint(dir(importexample))\\n\\na = importexample.f3(23)', '#import\\nimport importexample\\n\\nprint(type(importexample))\\n\\nprint(dir(importexample))\\n\\na = importexample.f3(23)\\nprint(a)', '#import\\nimport importexample as ie\\n\\nprint(type(importexample))\\n\\nprint(dir(importexample))\\n\\na = ie.f3(23)\\nprint(a)', '#from\\nfrom importexample import f3\\n\\nprint(type(importexample))\\n\\nprint(dir(importexample))\\n\\na = f3(23)\\nprint(a)', '#from\\nfrom importexample import f3\\n\\na = f3(23)\\nprint(a)', '# global local\\na = 123\\n\\ndef myfunc(x):\\n    a = x * 2\\n    return a\\n \\nprint(a)\\nb = myfunc(123)\\nprint(a)\\nprint(b)', 'print(globals)', 'print(globals())', 'print(globals())\\n\\nfor line in globals():\\n    print(line)', 'print(globals())\\n\\ng = globals()\\nfor line in g:\\n    print(line)', \"print(globals())\\n\\ng = globals()\\nfor line in g:\\n    if not line.startswith('_'):\\n        print(line)\", \"print(globals())\\n\\ng = globals()\\nfor line in g:\\n    if not line.startswith('_'):\\n        print(line)\\n\\ndef myfunc(x):\\n    a = x * 2\\n\\n    locals_vars = locals()\\n    for line in locals_vars:\\n        if not line.startswith('_'):\\n            print(line)\\n\\n    return a\\n\\nprint(a)\\nb = myfunc(123)\\nprint(a)\\nprint(b)\", \"print(globals())\\n\\ng = globals()\\nfor line in g:\\n    if not line.startswith('_'):\\n        print(line)\\n\\ndef myfunc(x):\\n    a = x * 2\\n\\n    print('\\\\nmyfuncs locals')\\n    locals_vars = locals()\\n    for line in locals_vars:\\n        if not line.startswith('_'):\\n            print(line)\\n\\n    return a\\n\\nprint(a)\\nb = myfunc(123)\\nprint(a)\\nprint(b)\", \"print(globals())\\n\\ng = globals()\\nfor line in g:\\n    if not line.startswith('_'):\\n        print(line)\\n\\ndef myfunc(x):\\n    global a\\n    a = x * 2\\n\\n    print('\\\\nmyfuncs locals')\\n    locals_vars = locals()\\n    for line in locals_vars:\\n        if not line.startswith('_'):\\n            print(line)\\n\\n    return a\\n\\nprint(a)\\nb = myfunc(123)\\nprint(a)\\nprint(b)\"], 'Out': {}, 'get_ipython': <bound method InteractiveShell.get_ipython of <google.colab._shell.Shell object at 0x785b86ed77f0>>, 'exit': <IPython.core.autocall.ZMQExitAutocall object at 0x785b86ed6cb0>, 'quit': <IPython.core.autocall.ZMQExitAutocall object at 0x785b86ed6cb0>, '_': '', '__': '', '___': '', '_i': \"print(globals())\\n\\ng = globals()\\nfor line in g:\\n    if not line.startswith('_'):\\n        print(line)\\n\\ndef myfunc(x):\\n    a = x * 2\\n\\n    print('\\\\nmyfuncs locals')\\n    locals_vars = locals()\\n    for line in locals_vars:\\n        if not line.startswith('_'):\\n            print(line)\\n\\n    return a\\n\\nprint(a)\\nb = myfunc(123)\\nprint(a)\\nprint(b)\", '_ii': \"print(globals())\\n\\ng = globals()\\nfor line in g:\\n    if not line.startswith('_'):\\n        print(line)\\n\\ndef myfunc(x):\\n    a = x * 2\\n\\n    locals_vars = locals()\\n    for line in locals_vars:\\n        if not line.startswith('_'):\\n            print(line)\\n\\n    return a\\n\\nprint(a)\\nb = myfunc(123)\\nprint(a)\\nprint(b)\", '_iii': \"print(globals())\\n\\ng = globals()\\nfor line in g:\\n    if not line.startswith('_'):\\n        print(line)\", '_i1': '# None\\n\\ndef f1(x):\\n    a = 3\\n\\nx = f1(13)\\nprint(x)', 'f1': <function f1 at 0x785b75b98dc0>, 'x': None, '_i2': 'def f2(x=None):\\n    if x == None:\\n        print(\"Nothing came in!\")\\n        return \"\"\\n\\n    return x*2', 'f2': <function f2 at 0x785b5ccda440>, '_i3': 'def f2(x=None):\\n    if x == None:\\n        print(\"Nothing came in!\")\\n        return \"Error\"\\n\\n    return x*2\\n\\ny = f2()\\nprint(y)', 'y': 26, '_i4': 'def f2(x=None):\\n    if x == None:\\n        print(\"Nothing came in!\")\\n        return \"Error\"\\n\\n    return x*2\\n\\ny = f2()\\nprint(y)\\n\\ny = f2(13)\\nprint(y)', '_i5': '# try except finally\\n\\ndef divide(x, y):\\n    return x / y\\n\\na = divide(13, 0)', 'divide': <function divide at 0x785b5ca067a0>, '_i6': '# try except finally\\n\\ndef divide(x, y):\\n    try:\\n        return x / y\\n    except:\\n        return -1\\n\\na = divide(13, 0)', 'a': 123, '_i7': '# try except finally\\n\\ndef divide(x, y):\\n    try:\\n        return x / y\\n    except:\\n        return -1\\n\\na = divide(13, 0)\\nprint(a)', '_i8': '# try except finally\\n\\ndef divide(x, y):\\n    try:\\n        return x / y\\n    except:\\n        return -1\\n    finally:\\n        print(\"I always print!\")\\n\\na = divide(13, 0)\\nprint(a)', '_i9': '# try except finally\\n\\ndef divide(x, y):\\n    try:\\n        return x / y\\n    except:\\n        return -1\\n    finally:\\n        print(\"I always print!\")\\n\\na = divide(13, 0)\\nprint(a)\\n\\na = divide(13, 2)\\nprint(a)', '_i10': '\\n%% importexample.py\\ndef f3(x):\\n    return x*5', '_i11': '%% importexample.py\\ndef f3(x):\\n    return x*5', '_i12': '%%file importexample.py\\ndef f3(x):\\n    return x*5', '_i13': '\\n\\n\\n%%file importexample.py\\ndef f3(x):\\n    return x*5', '_i14': '#import\\nimport importexample\\n\\na = f3(23)', 'importexample': <module 'importexample' from '/content/importexample.py'>, '_i15': '#import\\nimport importexample\\n\\nprint(type(importexample))\\n\\na = f3(23)', '_i16': '#import\\nimport importexample\\n\\nprint(type(importexample))\\n\\nprint(dir(importexample))\\n\\na = f3(23)', '_i17': '#import\\nimport importexample\\n\\nprint(type(importexample))\\n\\nprint(dir(importexample))\\n\\na = importexample.f3(23)', '_i18': '#import\\nimport importexample\\n\\nprint(type(importexample))\\n\\nprint(dir(importexample))\\n\\na = importexample.f3(23)\\nprint(a)', '_i19': '#import\\nimport importexample as ie\\n\\nprint(type(importexample))\\n\\nprint(dir(importexample))\\n\\na = ie.f3(23)\\nprint(a)', 'ie': <module 'importexample' from '/content/importexample.py'>, '_i20': '#from\\nfrom importexample import f3\\n\\nprint(type(importexample))\\n\\nprint(dir(importexample))\\n\\na = f3(23)\\nprint(a)', 'f3': <function f3 at 0x785b5ccdb2e0>, '_i21': '#from\\nfrom importexample import f3\\n\\na = f3(23)\\nprint(a)', '_i22': '# global local\\na = 123\\n\\ndef myfunc(x):\\n    a = x * 2\\n    return a\\n \\nprint(a)\\nb = myfunc(123)\\nprint(a)\\nprint(b)', 'myfunc': <function myfunc at 0x785b42e330a0>, 'b': 246, '_i23': 'print(globals)', '_i24': 'print(globals())', '_i25': 'print(globals())\\n\\nfor line in globals():\\n    print(line)', 'line': '_i29', '_i26': 'print(globals())\\n\\ng = globals()\\nfor line in g:\\n    print(line)', 'g': {...}, '_i27': \"print(globals())\\n\\ng = globals()\\nfor line in g:\\n    if not line.startswith('_'):\\n        print(line)\", '_i28': \"print(globals())\\n\\ng = globals()\\nfor line in g:\\n    if not line.startswith('_'):\\n        print(line)\\n\\ndef myfunc(x):\\n    a = x * 2\\n\\n    locals_vars = locals()\\n    for line in locals_vars:\\n        if not line.startswith('_'):\\n            print(line)\\n\\n    return a\\n\\nprint(a)\\nb = myfunc(123)\\nprint(a)\\nprint(b)\", '_i29': \"print(globals())\\n\\ng = globals()\\nfor line in g:\\n    if not line.startswith('_'):\\n        print(line)\\n\\ndef myfunc(x):\\n    a = x * 2\\n\\n    print('\\\\nmyfuncs locals')\\n    locals_vars = locals()\\n    for line in locals_vars:\\n        if not line.startswith('_'):\\n            print(line)\\n\\n    return a\\n\\nprint(a)\\nb = myfunc(123)\\nprint(a)\\nprint(b)\", '_i30': \"print(globals())\\n\\ng = globals()\\nfor line in g:\\n    if not line.startswith('_'):\\n        print(line)\\n\\ndef myfunc(x):\\n    global a\\n    a = x * 2\\n\\n    print('\\\\nmyfuncs locals')\\n    locals_vars = locals()\\n    for line in locals_vars:\\n        if not line.startswith('_'):\\n            print(line)\\n\\n    return a\\n\\nprint(a)\\nb = myfunc(123)\\nprint(a)\\nprint(b)\"}\n",
            "In\n",
            "Out\n",
            "get_ipython\n",
            "exit\n",
            "quit\n",
            "f1\n",
            "x\n",
            "f2\n",
            "y\n",
            "divide\n",
            "a\n",
            "importexample\n",
            "ie\n",
            "f3\n",
            "myfunc\n",
            "b\n",
            "line\n",
            "g\n",
            "123\n",
            "\n",
            "myfuncs locals\n",
            "x\n",
            "246\n",
            "246\n"
          ]
        }
      ]
    },
    {
      "cell_type": "code",
      "source": [
        "# yield\n",
        "\n",
        "\n",
        "def gen1():\n",
        "    x = 100\n",
        "\n",
        "    while(x < 200):\n",
        "        x += 3\n",
        "        yield x\n",
        "\n",
        "print(type(gen1))\n",
        "\n",
        "for i in gen1():\n",
        "    print(i)\n",
        "\n",
        "def gen2():\n",
        "    yield 24\n",
        "    yield 50\n",
        "    yield -13\n",
        "\n",
        "for i in gen2():\n",
        "    print(i)\n",
        "\n",
        "\n"
      ],
      "metadata": {
        "colab": {
          "base_uri": "https://localhost:8080/"
        },
        "id": "v39yZE7oblXX",
        "outputId": "a451080a-d6bb-4783-9506-fff2f011c616"
      },
      "execution_count": null,
      "outputs": [
        {
          "output_type": "stream",
          "name": "stdout",
          "text": [
            "<class 'function'>\n",
            "103\n",
            "106\n",
            "109\n",
            "112\n",
            "115\n",
            "118\n",
            "121\n",
            "124\n",
            "127\n",
            "130\n",
            "133\n",
            "136\n",
            "139\n",
            "142\n",
            "145\n",
            "148\n",
            "151\n",
            "154\n",
            "157\n",
            "160\n",
            "163\n",
            "166\n",
            "169\n",
            "172\n",
            "175\n",
            "178\n",
            "181\n",
            "184\n",
            "187\n",
            "190\n",
            "193\n",
            "196\n",
            "199\n",
            "202\n",
            "24\n",
            "50\n",
            "-13\n"
          ]
        }
      ]
    },
    {
      "cell_type": "code",
      "source": [],
      "metadata": {
        "id": "OWIl_wIRcOYh"
      },
      "execution_count": null,
      "outputs": []
    }
  ]
}