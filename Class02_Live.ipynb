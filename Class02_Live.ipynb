{
  "nbformat": 4,
  "nbformat_minor": 0,
  "metadata": {
    "colab": {
      "provenance": [],
      "authorship_tag": "ABX9TyOOkweXCuDO7I/vlaIErd4N",
      "include_colab_link": true
    },
    "kernelspec": {
      "name": "python3",
      "display_name": "Python 3"
    },
    "language_info": {
      "name": "python"
    }
  },
  "cells": [
    {
      "cell_type": "markdown",
      "metadata": {
        "id": "view-in-github",
        "colab_type": "text"
      },
      "source": [
        "<a href=\"https://colab.research.google.com/github/nleck001/CSC221_Spring_2024/blob/main/Class02_Live.ipynb\" target=\"_parent\"><img src=\"https://colab.research.google.com/assets/colab-badge.svg\" alt=\"Open In Colab\"/></a>"
      ]
    },
    {
      "cell_type": "code",
      "execution_count": null,
      "metadata": {
        "colab": {
          "base_uri": "https://localhost:8080/"
        },
        "id": "0JHI1N1HMtHI",
        "outputId": "023fe8aa-72d0-4e45-c86d-002d844418f2"
      },
      "outputs": [
        {
          "output_type": "stream",
          "name": "stdout",
          "text": [
            "13 12.21 25.21\n"
          ]
        }
      ],
      "source": [
        "a = 13\n",
        "b = 12.21\n",
        "total = a + b\n",
        "print(a, b, a+b)"
      ]
    },
    {
      "cell_type": "code",
      "source": [
        "a = 13\n",
        "b = 11.21\n",
        "total = a + b\n",
        "print(a, b, a+b)"
      ],
      "metadata": {
        "colab": {
          "base_uri": "https://localhost:8080/"
        },
        "id": "JChrNIGMM_kT",
        "outputId": "792f0d04-8d28-4dd5-ddb5-77aabb257af8"
      },
      "execution_count": null,
      "outputs": [
        {
          "output_type": "stream",
          "name": "stdout",
          "text": [
            "13 11.21 24.21\n"
          ]
        }
      ]
    },
    {
      "cell_type": "code",
      "source": [
        "a = 15\n",
        "b = 12.21\n",
        "total = a + b\n",
        "print(a, b, a+b)"
      ],
      "metadata": {
        "colab": {
          "base_uri": "https://localhost:8080/"
        },
        "id": "jD4EG5OaNKma",
        "outputId": "e3a8d30a-feac-41b3-f56c-29581e8d8d48"
      },
      "execution_count": null,
      "outputs": [
        {
          "output_type": "stream",
          "name": "stdout",
          "text": [
            "15 12.21 27.21\n"
          ]
        }
      ]
    },
    {
      "cell_type": "code",
      "source": [],
      "metadata": {
        "id": "tLMJDCJ_NNoi"
      },
      "execution_count": null,
      "outputs": []
    }
  ]
}