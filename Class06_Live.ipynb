{
  "nbformat": 4,
  "nbformat_minor": 0,
  "metadata": {
    "colab": {
      "provenance": [],
      "authorship_tag": "ABX9TyOtEYvCR60A278cEFCqC24r",
      "include_colab_link": true
    },
    "kernelspec": {
      "name": "python3",
      "display_name": "Python 3"
    },
    "language_info": {
      "name": "python"
    }
  },
  "cells": [
    {
      "cell_type": "markdown",
      "metadata": {
        "id": "view-in-github",
        "colab_type": "text"
      },
      "source": [
        "<a href=\"https://colab.research.google.com/github/nleck001/CSC221_Spring_2024/blob/main/Class06_Live.ipynb\" target=\"_parent\"><img src=\"https://colab.research.google.com/assets/colab-badge.svg\" alt=\"Open In Colab\"/></a>"
      ]
    },
    {
      "cell_type": "markdown",
      "source": [
        "## CSC217 Class 6\n",
        "- As done live in class 2/15/2024\n",
        "- Crash Chapter 5: If"
      ],
      "metadata": {
        "id": "IFcTXC8ILLDI"
      }
    },
    {
      "cell_type": "code",
      "execution_count": 2,
      "metadata": {
        "colab": {
          "base_uri": "https://localhost:8080/"
        },
        "id": "Dmbtrl8hLDk9",
        "outputId": "ba65a099-1fab-4f71-e762-030c407fd6e6"
      },
      "outputs": [
        {
          "output_type": "stream",
          "name": "stdout",
          "text": [
            "Hi!\n",
            "Hi!\n",
            "lucky!\n",
            "Hi!\n",
            "Hi!\n"
          ]
        }
      ],
      "source": [
        "# Pure if\n",
        "\n",
        "# Print \"lucky\" if number = 7\n",
        "def pure_if(x):\n",
        "    print('Hi!')\n",
        "    if x == 7:\n",
        "        print('lucky!')\n",
        "\n",
        "\n",
        "pure_if(13)\n",
        "pure_if(7)\n",
        "pure_if(9)\n",
        "pure_if(1)\n",
        "\n",
        "\n"
      ]
    },
    {
      "cell_type": "code",
      "source": [
        "# Pure if, add an else\n",
        "\n",
        "# Print \"lucky\" if number = 7 else print NSL\n",
        "def pure_if_else(x):\n",
        "    print('Hi!')\n",
        "    if x == 7:\n",
        "        print('lucky!')\n",
        "    else:\n",
        "        print('NSL!')\n",
        "\n",
        "\n",
        "pure_if_else(13)\n",
        "pure_if_else(7)\n",
        "pure_if_else(9)\n",
        "pure_if_else(1)\n"
      ],
      "metadata": {
        "colab": {
          "base_uri": "https://localhost:8080/"
        },
        "id": "qqhe2ub1SObQ",
        "outputId": "383b2b7c-dde8-4279-bc42-4d8aa253ef5f"
      },
      "execution_count": 5,
      "outputs": [
        {
          "output_type": "stream",
          "name": "stdout",
          "text": [
            "Hi!\n",
            "NSL!\n",
            "Hi!\n",
            "lucky!\n",
            "Hi!\n",
            "NSL!\n",
            "Hi!\n",
            "NSL!\n"
          ]
        }
      ]
    },
    {
      "cell_type": "code",
      "source": [
        "# Sequential Ifs\n",
        "\n",
        "# Print lucky if number is a multiple of 7\n",
        "# Print even if number is even\n",
        "def seq_if(x):\n",
        "    print(f'seq_if({x})')\n",
        "    if x % 7 == 0:\n",
        "        print('lucky!')\n",
        "        print(f'See! {x} is a multiple of 7!')\n",
        "    if x % 2 == 0:\n",
        "        print('even!')\n",
        "\n",
        "seq_if(5)\n",
        "seq_if(7)\n",
        "seq_if(31)\n",
        "seq_if(14)\n",
        "seq_if(50)"
      ],
      "metadata": {
        "colab": {
          "base_uri": "https://localhost:8080/"
        },
        "id": "ULY6g3DWS58g",
        "outputId": "e954f725-1157-485f-a56e-652c169b8064"
      },
      "execution_count": 10,
      "outputs": [
        {
          "output_type": "stream",
          "name": "stdout",
          "text": [
            "seq_if(5)\n",
            "seq_if(7)\n",
            "lucky!\n",
            "See! 7 is a multiple of 7!\n",
            "seq_if(31)\n",
            "seq_if(14)\n",
            "lucky!\n",
            "See! 14 is a multiple of 7!\n",
            "even!\n",
            "seq_if(50)\n",
            "even!\n"
          ]
        }
      ]
    },
    {
      "cell_type": "code",
      "source": [
        "# Sequential Ifs--- with one else\n",
        "\n",
        "# Print lucky if number is a multiple of 7\n",
        "# Print even if number is even\n",
        "def seq_if_else(x):\n",
        "    print(f'seq_if_else({x})')\n",
        "    if x % 7 == 0:\n",
        "        print('lucky!')\n",
        "        print(f'See! {x} is a multiple of 7!')\n",
        "    if x % 2 == 0:\n",
        "        print('even!')\n",
        "    else:\n",
        "        print('odd')\n",
        "\n",
        "seq_if_else(5)\n",
        "seq_if_else(7)\n",
        "seq_if_else(31)\n",
        "seq_if_else(14)\n",
        "seq_if_else(50)"
      ],
      "metadata": {
        "colab": {
          "base_uri": "https://localhost:8080/"
        },
        "id": "_8Fl_O6RT3UC",
        "outputId": "1256f004-c748-4ae1-a470-9c94bb54de64"
      },
      "execution_count": 12,
      "outputs": [
        {
          "output_type": "stream",
          "name": "stdout",
          "text": [
            "seq_if_else(5)\n",
            "odd\n",
            "seq_if_else(7)\n",
            "lucky!\n",
            "See! 7 is a multiple of 7!\n",
            "odd\n",
            "seq_if_else(31)\n",
            "odd\n",
            "seq_if_else(14)\n",
            "lucky!\n",
            "See! 14 is a multiple of 7!\n",
            "even!\n",
            "seq_if_else(50)\n",
            "even!\n"
          ]
        }
      ]
    },
    {
      "cell_type": "code",
      "source": [
        "# Where in the world is elif useful?\n",
        "# WRONG!!!\n",
        "# check if number > 100, 50, 25, 10, or 5\n",
        "def size_check(x):\n",
        "    print(f'size_check called with {x}')\n",
        "\n",
        "    if x >= 100:\n",
        "        print(f'BIG {x} > 100')\n",
        "    if x >= 50:\n",
        "        print(f'MEDIUM {x} > 50')\n",
        "    if x >= 25:\n",
        "        print(f'SMALL {x} > 25')\n",
        "    if x <= 10:\n",
        "        print(f'EXTRA SMALL {x} < 10')\n",
        "    else:\n",
        "        print(f\"Don't know much about {x}.\")\n",
        "\n",
        "\n",
        "size_check(200)\n",
        "size_check(50)\n",
        "size_check(25)\n",
        "size_check(1)"
      ],
      "metadata": {
        "colab": {
          "base_uri": "https://localhost:8080/"
        },
        "id": "sYZbg0HUVhjb",
        "outputId": "5726953f-9cee-4a1a-9514-729984261bce"
      },
      "execution_count": 22,
      "outputs": [
        {
          "output_type": "stream",
          "name": "stdout",
          "text": [
            "size_check called with 200\n",
            "BIG 200 > 100\n",
            "MEDIUM 200 > 50\n",
            "SMALL 200 > 25\n",
            "Don't know much about 200.\n",
            "size_check called with 50\n",
            "MEDIUM 50 > 50\n",
            "SMALL 50 > 25\n",
            "Don't know much about 50.\n",
            "size_check called with 25\n",
            "SMALL 25 > 25\n",
            "Don't know much about 25.\n",
            "size_check called with 1\n",
            "EXTRA SMALL 1 < 10\n"
          ]
        }
      ]
    },
    {
      "cell_type": "code",
      "source": [
        "# Where in the world is elif useful?\n",
        "# WRONG!!!\n",
        "# check if number > 100, 50, 25, 10, or 5\n",
        "def size_check(x):\n",
        "    print(f'size_check called with {x}')\n",
        "\n",
        "    if x >= 100:\n",
        "        print(f'BIG {x} > 100')\n",
        "    elif x >= 50:\n",
        "        print(f'MEDIUM {x} > 50')\n",
        "    elif x >= 25:\n",
        "        print(f'SMALL {x} > 25')\n",
        "    elif x <= 10:\n",
        "        print(f'EXTRA SMALL {x} < 10')\n",
        "    else:\n",
        "        print(f\"Don't know much about {x}.\")\n",
        "\n",
        "\n",
        "size_check(200)\n",
        "size_check(50)\n",
        "size_check(25)\n",
        "size_check(1)"
      ],
      "metadata": {
        "colab": {
          "base_uri": "https://localhost:8080/"
        },
        "id": "kBeyDImrWO2n",
        "outputId": "c2030d43-05f0-458d-c983-0614fa556c59"
      },
      "execution_count": 23,
      "outputs": [
        {
          "output_type": "stream",
          "name": "stdout",
          "text": [
            "size_check called with 200\n",
            "BIG 200 > 100\n",
            "size_check called with 50\n",
            "MEDIUM 50 > 50\n",
            "size_check called with 25\n",
            "SMALL 25 > 25\n",
            "size_check called with 1\n",
            "EXTRA SMALL 1 < 10\n"
          ]
        }
      ]
    },
    {
      "cell_type": "code",
      "source": [
        "# Continuing file cleanup\n",
        "# Example 2\n",
        "# Clean up a text file\n",
        "# Remove blank lines and lines starting with # and remove leading/trainling spaces"
      ],
      "metadata": {
        "id": "iuw2MKIZYTAG"
      },
      "execution_count": null,
      "outputs": []
    },
    {
      "cell_type": "code",
      "source": [
        "%%file input.txt\n",
        "100, 200, 300\n",
        "   200, 400, 500\n",
        "\n",
        "#200\n",
        "\n",
        "500, 600, 700"
      ],
      "metadata": {
        "colab": {
          "base_uri": "https://localhost:8080/"
        },
        "id": "BFIlaQZsY6bq",
        "outputId": "22a1d6f9-5e40-42f8-d86a-536806a9c59e"
      },
      "execution_count": 24,
      "outputs": [
        {
          "output_type": "stream",
          "name": "stdout",
          "text": [
            "Writing input.txt\n"
          ]
        }
      ]
    },
    {
      "cell_type": "code",
      "source": [
        "# Adding comments\n",
        "\n",
        "# Open the input and output files (input is \"r\" and output is \"w\")\n",
        "input_file = open('input.txt', 'r')\n",
        "output_file = open('output.txt', 'w')\n",
        "\n",
        "# Use keep_going as True... we'll set it false when we see the end of the input\n",
        "keep_going = True\n",
        "\n",
        "# We're going to keep looping until someone sets keep_going = False\n",
        "while keep_going:\n",
        "\n",
        "    # Put next line in 'line' (line=\"\" if EOF)\n",
        "    line = input_file.readline()\n",
        "\n",
        "    # If end of file, turn off keep_going!\n",
        "    if len(line) < 1:\n",
        "        keep_going = False\n",
        "    # (In other words, we are NOT at end of file!)\n",
        "    else:\n",
        "        # Remove all leading and trailing whitespace (' ' \\n \\t)\n",
        "        # and put that cleaned up line back into 'line'\n",
        "        line = line.strip()\n",
        "\n",
        "        # How do we decide to keep the line in the output?\n",
        "        # 1) Not blank\n",
        "        # 2) Doesn't start with '#'\n",
        "        if len(line) > 0 and not line.startswith('#'):\n",
        "            output_file.write(line + '\\n')\n",
        "\n",
        "# Don't forget to close the files!!\n",
        "input_file.close()\n",
        "output_file.close()"
      ],
      "metadata": {
        "id": "sI-9nr6NY8VH"
      },
      "execution_count": 25,
      "outputs": []
    },
    {
      "cell_type": "code",
      "source": [],
      "metadata": {
        "id": "QvhdnzkYZIW-"
      },
      "execution_count": null,
      "outputs": []
    }
  ]
}