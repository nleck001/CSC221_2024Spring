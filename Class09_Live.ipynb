{
  "nbformat": 4,
  "nbformat_minor": 0,
  "metadata": {
    "colab": {
      "provenance": [],
      "collapsed_sections": [
        "j6C-zZ4jFxBK"
      ],
      "toc_visible": true,
      "authorship_tag": "ABX9TyMpIp5n1ONnIjbMyHTORiwG",
      "include_colab_link": true
    },
    "kernelspec": {
      "name": "python3",
      "display_name": "Python 3"
    },
    "language_info": {
      "name": "python"
    }
  },
  "cells": [
    {
      "cell_type": "markdown",
      "metadata": {
        "id": "view-in-github",
        "colab_type": "text"
      },
      "source": [
        "<a href=\"https://colab.research.google.com/github/nleck001/CSC221_Spring_2024/blob/main/Class09_Live.ipynb\" target=\"_parent\"><img src=\"https://colab.research.google.com/assets/colab-badge.svg\" alt=\"Open In Colab\"/></a>"
      ]
    },
    {
      "cell_type": "markdown",
      "source": [
        "# CSC221 Spring 2024 Class 9\n",
        "- 2/27/2024\n",
        "- Ned Lecky"
      ],
      "metadata": {
        "id": "ieTkwncPAvBy"
      }
    },
    {
      "cell_type": "markdown",
      "source": [
        "# Some New Material\n",
        "- Sets\n",
        "- Variable Length Arguments"
      ],
      "metadata": {
        "id": "3iXet6kLjSgL"
      }
    },
    {
      "cell_type": "code",
      "execution_count": null,
      "metadata": {
        "colab": {
          "base_uri": "https://localhost:8080/"
        },
        "id": "EgCkUtCF-NZg",
        "outputId": "4c97f7f8-fca2-4d2b-c344-a008d46ce0ba"
      },
      "outputs": [
        {
          "output_type": "stream",
          "name": "stdout",
          "text": [
            "{'c', 'a', 'b'}\n"
          ]
        }
      ],
      "source": [
        "# Sets\n",
        "# Dictionary with no values, only keys\n",
        "# Sets, like dictionaries, are unordered\n",
        "\n",
        "s1 = {'a', 'b', 'c'} # curlies with no colons means set\n",
        "print(s1)"
      ]
    },
    {
      "cell_type": "code",
      "source": [
        "s1.add('d')\n",
        "print(s1)"
      ],
      "metadata": {
        "colab": {
          "base_uri": "https://localhost:8080/"
        },
        "id": "a1OZ5zPNBEXh",
        "outputId": "f6edc500-ff1d-4949-cb5f-85a46c52cf8c"
      },
      "execution_count": null,
      "outputs": [
        {
          "output_type": "stream",
          "name": "stdout",
          "text": [
            "{'c', 'd', 'a', 'b'}\n"
          ]
        }
      ]
    },
    {
      "cell_type": "code",
      "source": [
        "s1.add('d')\n",
        "s1.add('d')\n",
        "s1.add('d')\n",
        "s1.add('d')\n",
        "\n",
        "print(s1)"
      ],
      "metadata": {
        "colab": {
          "base_uri": "https://localhost:8080/"
        },
        "id": "TqKW6zMdBWno",
        "outputId": "b25240e1-3527-4cef-8713-5af0aa30bc6c"
      },
      "execution_count": null,
      "outputs": [
        {
          "output_type": "stream",
          "name": "stdout",
          "text": [
            "{'c', 'd', 'a', 'b'}\n"
          ]
        }
      ]
    },
    {
      "cell_type": "code",
      "source": [
        "import random\n",
        "\n",
        "list1 = []\n",
        "set1 = set()\n",
        "for i in range(1000):\n",
        "    n = random.randint(1, 10)\n",
        "    list1.append(n)\n",
        "    set1.add(n)\n",
        "\n",
        "print(len(list1), list1)\n",
        "print(len(set1), set1)\n"
      ],
      "metadata": {
        "colab": {
          "base_uri": "https://localhost:8080/"
        },
        "id": "-7BoJsFxBatp",
        "outputId": "06fed530-6bb1-4f82-da0e-c85107958a5e"
      },
      "execution_count": null,
      "outputs": [
        {
          "output_type": "stream",
          "name": "stdout",
          "text": [
            "1000 [5, 9, 2, 4, 6, 10, 7, 5, 7, 8, 9, 10, 3, 5, 7, 1, 4, 1, 8, 2, 4, 9, 8, 8, 8, 9, 1, 7, 5, 10, 9, 4, 8, 4, 9, 5, 6, 1, 1, 8, 4, 7, 8, 8, 8, 4, 4, 3, 5, 2, 2, 10, 7, 5, 3, 4, 3, 4, 7, 8, 5, 5, 9, 3, 7, 7, 10, 7, 6, 2, 3, 8, 8, 7, 8, 2, 2, 9, 2, 7, 5, 3, 7, 4, 6, 9, 9, 10, 7, 5, 8, 3, 9, 3, 2, 3, 7, 2, 8, 5, 3, 7, 5, 4, 6, 9, 3, 3, 3, 6, 7, 4, 3, 7, 3, 10, 8, 3, 7, 1, 4, 3, 10, 1, 4, 1, 5, 9, 10, 3, 10, 2, 5, 1, 8, 8, 10, 3, 6, 5, 5, 1, 9, 10, 3, 8, 6, 3, 3, 9, 3, 2, 8, 6, 6, 5, 6, 5, 7, 1, 7, 3, 4, 8, 2, 1, 5, 3, 9, 9, 3, 9, 4, 1, 8, 4, 5, 5, 8, 2, 4, 2, 10, 2, 9, 10, 9, 8, 6, 2, 7, 9, 3, 10, 9, 4, 10, 8, 4, 1, 10, 4, 10, 10, 10, 3, 9, 8, 1, 4, 6, 8, 9, 7, 2, 5, 4, 6, 4, 10, 9, 6, 6, 3, 1, 9, 6, 6, 7, 6, 4, 6, 1, 10, 9, 4, 4, 4, 5, 8, 1, 7, 1, 6, 4, 4, 3, 7, 1, 10, 5, 9, 3, 8, 2, 2, 2, 4, 8, 3, 2, 7, 5, 10, 1, 6, 3, 7, 1, 6, 3, 6, 1, 5, 1, 7, 4, 3, 3, 10, 3, 9, 3, 1, 2, 1, 7, 4, 7, 1, 4, 2, 2, 8, 4, 1, 10, 3, 7, 6, 4, 1, 8, 4, 8, 9, 7, 3, 1, 6, 3, 6, 7, 9, 5, 7, 6, 9, 5, 3, 2, 3, 5, 5, 10, 10, 10, 1, 4, 6, 5, 4, 3, 6, 10, 6, 1, 9, 4, 9, 10, 8, 4, 1, 6, 2, 7, 4, 8, 1, 2, 5, 3, 7, 3, 10, 8, 6, 3, 5, 3, 10, 4, 1, 5, 3, 3, 9, 8, 5, 10, 10, 10, 8, 1, 5, 9, 3, 4, 2, 3, 3, 5, 5, 6, 9, 5, 4, 2, 6, 10, 1, 4, 9, 6, 4, 9, 10, 5, 9, 3, 9, 10, 7, 10, 5, 10, 5, 8, 5, 4, 9, 3, 2, 2, 7, 9, 7, 6, 8, 8, 6, 6, 8, 4, 3, 3, 10, 1, 8, 9, 6, 3, 4, 6, 8, 3, 9, 2, 3, 2, 9, 1, 4, 2, 2, 4, 2, 4, 3, 4, 5, 5, 5, 10, 7, 9, 3, 3, 2, 3, 4, 4, 2, 9, 7, 8, 3, 1, 7, 10, 4, 8, 4, 4, 5, 1, 6, 2, 8, 10, 2, 8, 3, 3, 10, 4, 3, 7, 9, 4, 3, 2, 10, 5, 1, 3, 6, 5, 8, 6, 9, 7, 2, 8, 2, 9, 2, 3, 8, 3, 5, 3, 7, 9, 1, 10, 4, 7, 7, 9, 4, 1, 7, 7, 9, 3, 3, 6, 5, 2, 9, 2, 2, 4, 4, 7, 7, 5, 2, 2, 9, 9, 2, 3, 4, 1, 1, 4, 7, 4, 7, 4, 3, 4, 5, 2, 10, 9, 5, 6, 8, 8, 10, 5, 4, 10, 4, 3, 6, 3, 6, 3, 2, 1, 1, 7, 3, 10, 8, 7, 5, 6, 9, 10, 5, 6, 6, 4, 4, 4, 1, 9, 5, 9, 4, 6, 8, 10, 5, 4, 8, 6, 1, 10, 6, 2, 4, 4, 6, 8, 7, 2, 9, 3, 7, 6, 1, 6, 5, 4, 4, 10, 6, 9, 3, 10, 5, 6, 6, 10, 5, 8, 7, 6, 2, 8, 9, 5, 2, 1, 4, 3, 6, 5, 3, 5, 5, 2, 1, 7, 4, 1, 8, 4, 3, 6, 8, 8, 9, 3, 5, 1, 9, 4, 3, 3, 9, 4, 1, 10, 9, 8, 4, 4, 3, 1, 7, 5, 1, 7, 4, 9, 3, 9, 7, 6, 9, 6, 7, 9, 8, 2, 2, 6, 5, 3, 7, 5, 5, 10, 5, 3, 8, 3, 9, 1, 8, 2, 8, 2, 2, 2, 6, 4, 1, 8, 1, 2, 1, 6, 8, 4, 4, 5, 8, 4, 8, 4, 2, 5, 6, 5, 3, 1, 8, 6, 1, 4, 10, 4, 1, 10, 3, 4, 2, 4, 3, 5, 4, 6, 3, 5, 2, 3, 10, 8, 2, 9, 8, 8, 7, 9, 7, 2, 10, 7, 4, 7, 6, 9, 3, 5, 9, 9, 8, 3, 2, 1, 8, 10, 6, 1, 2, 6, 10, 3, 2, 3, 9, 1, 9, 6, 4, 10, 2, 4, 1, 2, 10, 7, 3, 6, 3, 7, 8, 1, 1, 2, 2, 7, 10, 3, 6, 2, 5, 9, 8, 6, 10, 4, 4, 1, 9, 9, 6, 5, 4, 7, 6, 10, 3, 10, 8, 5, 9, 3, 8, 8, 3, 6, 1, 3, 3, 9, 8, 6, 1, 2, 5, 9, 9, 9, 7, 2, 9, 2, 8, 1, 4, 9, 1, 3, 3, 4, 5, 6, 2, 6, 6, 4, 5, 8, 6, 3, 6, 3, 4, 3, 7, 10, 5, 7, 5, 7, 3, 3, 10, 6, 9, 5, 9, 7, 2, 8, 7, 3, 2, 8, 8, 5, 3, 1, 10, 9, 8, 1, 8, 7, 7, 1, 3, 3, 1, 1, 7, 4, 8, 6, 8, 6, 4, 1, 1, 3, 5, 3, 4, 3, 10, 4, 7, 1, 4, 9, 5, 3, 2, 1, 6, 4, 2, 10, 3, 6, 3, 8, 6, 1, 1, 6, 5, 7, 9, 8, 10, 9, 8, 8, 8, 1, 8, 5, 10, 8, 9, 4, 8, 9, 3, 4, 10, 10, 4, 2, 1, 4, 7, 5, 4, 9, 3, 9, 5, 2, 8, 7, 3, 9, 9, 8, 6, 3, 8, 1, 8, 9, 1, 2, 6]\n",
            "10 {1, 2, 3, 4, 5, 6, 7, 8, 9, 10}\n"
          ]
        }
      ]
    },
    {
      "cell_type": "code",
      "source": [
        "global_xyz = 12345\n",
        "\n",
        "\n",
        "# Variable length arguments\n",
        "def bigfunc(a, b, c=42, *args, **kwargs):\n",
        "    print(f'{global_xyz=} {a=} {b=} {c=} {args}, {kwargs}')\n",
        "\n",
        "    # do stuff\n",
        "\n",
        "    # return stuff\n",
        "\n",
        "bigfunc(1, 2)\n",
        "bigfunc(b=1, a=2)\n",
        "bigfunc(1, 2, 5)\n",
        "\n",
        "bigfunc(1, 2, 5, 13, 21, 8, 'ned')\n",
        "\n",
        "bigfunc(1, 2, 5, 13, 21, 8, 'ned', fred=21, test=123, endline='\\n')"
      ],
      "metadata": {
        "colab": {
          "base_uri": "https://localhost:8080/"
        },
        "id": "ICcWkwATCFND",
        "outputId": "ed8c3190-7987-4c72-b472-2a6f2f85b5f4"
      },
      "execution_count": null,
      "outputs": [
        {
          "output_type": "stream",
          "name": "stdout",
          "text": [
            "global_xyz=12345 a=1 b=2 c=42 (), {}\n",
            "global_xyz=12345 a=2 b=1 c=42 (), {}\n",
            "global_xyz=12345 a=1 b=2 c=5 (), {}\n",
            "global_xyz=12345 a=1 b=2 c=5 (13, 21, 8, 'ned'), {}\n",
            "global_xyz=12345 a=1 b=2 c=5 (13, 21, 8, 'ned'), {'fred': 21, 'test': 123, 'endline': '\\n'}\n"
          ]
        }
      ]
    },
    {
      "cell_type": "code",
      "source": [],
      "metadata": {
        "id": "uG2Ln6uGDYXl"
      },
      "execution_count": null,
      "outputs": []
    },
    {
      "cell_type": "markdown",
      "source": [
        "# Function 1: Add Numbers 1 to n\n",
        "- This function adds up all the nuimbers form 1 to n\n",
        "- NOTE: returns 0 for n=0, n=11, or n<0"
      ],
      "metadata": {
        "id": "j6C-zZ4jFxBK"
      }
    },
    {
      "cell_type": "code",
      "source": [
        "# Coding the function\n",
        "def sum_1_to_n(n):\n",
        "    '''Adds all numbers from 1 to n\n",
        "    and returns the total'''\n",
        "\n",
        "    total = 0\n",
        "    for i in range(1, n+1):\n",
        "        total += i\n",
        "    return total\n"
      ],
      "metadata": {
        "id": "nK6pT1AQF39J"
      },
      "execution_count": 9,
      "outputs": []
    },
    {
      "cell_type": "code",
      "source": [
        "# Testing the function\n",
        "print(sum_1_to_n(1000))\n",
        "\n",
        "assert sum_1_to_n(100) == 101 * 100 / 2, \"Didn't work for n=100\"\n",
        "# Illustrates what happens if you don't pass!!\n",
        "# assert sum_1_to_n(100) == 12345, \"Forced to fail!!\"\n",
        "assert sum_1_to_n(0) == 0, \"Didn't work for n=0\"\n",
        "assert sum_1_to_n(1) == 1, \"Didn't work for n=1\"\n",
        "assert sum_1_to_n(1000) == 1000 * 1001 / 2, \"Didn't work for n=1000\"\n",
        "assert sum_1_to_n(-35) == 0, \"Didn't work for n=1000\""
      ],
      "metadata": {
        "colab": {
          "base_uri": "https://localhost:8080/"
        },
        "id": "AXMVtvSOGLHK",
        "outputId": "311349be-729c-4c65-f8d9-355303a5b9a9"
      },
      "execution_count": 10,
      "outputs": [
        {
          "output_type": "stream",
          "name": "stdout",
          "text": [
            "500500\n"
          ]
        }
      ]
    },
    {
      "cell_type": "markdown",
      "source": [
        "# Function 2: Make a truth table\n",
        "- for (a and b) or (c and d)"
      ],
      "metadata": {
        "id": "unDib9ytJqLY"
      }
    },
    {
      "cell_type": "code",
      "source": [
        "# The Code\n",
        "def logic_function(a, b, c, d):\n",
        "    return (a and b) or (c and d)\n",
        "\n",
        "def truth_table():\n",
        "    print('{a}\\t{b}\\t{c}\\t{d}\\t{value}')\n",
        "    for a in [False, True]:\n",
        "        for b in [False, True]:\n",
        "            for c in [False, True]:\n",
        "                for d in [False, True]:\n",
        "                    value = logic_function(a, b, c, d)\n",
        "                    #print(a, b, c, d, value)\n",
        "                    print(f'{a}\\t{b}\\t{c}\\t{d}\\t{value}')\n"
      ],
      "metadata": {
        "id": "BSg_QOQQJs1I"
      },
      "execution_count": 5,
      "outputs": []
    },
    {
      "cell_type": "code",
      "source": [
        "# Testing\n",
        "truth_table()"
      ],
      "metadata": {
        "colab": {
          "base_uri": "https://localhost:8080/"
        },
        "id": "XquMqseoJt-X",
        "outputId": "6fb7bcb8-7469-4ab3-9faf-0f1877317678"
      },
      "execution_count": 6,
      "outputs": [
        {
          "output_type": "stream",
          "name": "stdout",
          "text": [
            "{a}\t{b}\t{c}\t{d}\t{value}\n",
            "False\tFalse\tFalse\tFalse\tFalse\n",
            "False\tFalse\tFalse\tTrue\tFalse\n",
            "False\tFalse\tTrue\tFalse\tFalse\n",
            "False\tFalse\tTrue\tTrue\tTrue\n",
            "False\tTrue\tFalse\tFalse\tFalse\n",
            "False\tTrue\tFalse\tTrue\tFalse\n",
            "False\tTrue\tTrue\tFalse\tFalse\n",
            "False\tTrue\tTrue\tTrue\tTrue\n",
            "True\tFalse\tFalse\tFalse\tFalse\n",
            "True\tFalse\tFalse\tTrue\tFalse\n",
            "True\tFalse\tTrue\tFalse\tFalse\n",
            "True\tFalse\tTrue\tTrue\tTrue\n",
            "True\tTrue\tFalse\tFalse\tTrue\n",
            "True\tTrue\tFalse\tTrue\tTrue\n",
            "True\tTrue\tTrue\tFalse\tTrue\n",
            "True\tTrue\tTrue\tTrue\tTrue\n"
          ]
        }
      ]
    },
    {
      "cell_type": "markdown",
      "source": [
        "# Function 3: Find Special 5-digit numbers\n",
        "- Find all 5 digit numbers where sum of first 4 digits = last digit\n"
      ],
      "metadata": {
        "id": "-Gc1hvAXMJVF"
      }
    },
    {
      "cell_type": "code",
      "source": [
        "# Code\n",
        "\n",
        "# Verify we know what we're doing\n",
        "def split_digits(n):\n",
        "    ''' Takes 5-digit number 10000 - 99999 and splits into 5 digits'''\n",
        "\n",
        "    d1 = int(n / 10000)\n",
        "    d2 = int(n / 1000) % 10\n",
        "    d3 = int(n / 100) % 10\n",
        "    d4 = int(n / 10) % 10\n",
        "    d5 = int(n / 1) % 10\n",
        "    return d1, d2, d3, d4, d5\n",
        "\n",
        "def find_em():\n",
        "    '''Find all 5 digit numbers with the property and return how many'''\n",
        "    count = 0\n",
        "    for i in range(10000, 100000):\n",
        "        d1, d2, d3, d4, d5 = split_digits(i)\n",
        "        if d1 + d2 + d3 + d4 == d5:\n",
        "            count += 1\n",
        "            #print(i)\n",
        "\n",
        "    return count\n",
        "\n"
      ],
      "metadata": {
        "id": "hONWU750MLOk"
      },
      "execution_count": 7,
      "outputs": []
    },
    {
      "cell_type": "code",
      "source": [
        "# Testing\n",
        "print(split_digits(10123))\n",
        "print(split_digits(98427))\n",
        "\n",
        "n = find_em()\n",
        "print(n)\n"
      ],
      "metadata": {
        "colab": {
          "base_uri": "https://localhost:8080/"
        },
        "id": "UDl5mlH6MLYU",
        "outputId": "6d51dd21-f494-4275-8e08-3ff0a7bb78ca"
      },
      "execution_count": 8,
      "outputs": [
        {
          "output_type": "stream",
          "name": "stdout",
          "text": [
            "(1, 0, 1, 2, 3)\n",
            "(9, 8, 4, 2, 7)\n",
            "495\n"
          ]
        }
      ]
    }
  ]
}