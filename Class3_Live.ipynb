{
  "nbformat": 4,
  "nbformat_minor": 0,
  "metadata": {
    "colab": {
      "provenance": [],
      "authorship_tag": "ABX9TyN8ld9bwi/tdZMFwU//yP9F",
      "include_colab_link": true
    },
    "kernelspec": {
      "name": "python3",
      "display_name": "Python 3"
    },
    "language_info": {
      "name": "python"
    }
  },
  "cells": [
    {
      "cell_type": "markdown",
      "metadata": {
        "id": "view-in-github",
        "colab_type": "text"
      },
      "source": [
        "<a href=\"https://colab.research.google.com/github/nleck001/CSC221_Spring_2024/blob/main/Class3_Live.ipynb\" target=\"_parent\"><img src=\"https://colab.research.google.com/assets/colab-badge.svg\" alt=\"Open In Colab\"/></a>"
      ]
    },
    {
      "cell_type": "markdown",
      "source": [
        "# CSC 221 Spring 2024\n",
        "- Ned Lecky\n",
        "- Class 3 Live\n",
        "- 2/6/2024\n",
        "## Here is what we did...\n"
      ],
      "metadata": {
        "id": "mYiDcw5t6CxH"
      }
    },
    {
      "cell_type": "code",
      "execution_count": null,
      "metadata": {
        "colab": {
          "base_uri": "https://localhost:8080/"
        },
        "id": "QILFfMSo5tWT",
        "outputId": "197d016f-115e-44c7-d267-1d5fb5044266"
      },
      "outputs": [
        {
          "output_type": "stream",
          "name": "stdout",
          "text": [
            "13 12.5 fred\n",
            "<class 'int'>\n",
            "<class 'float'>\n",
            "<class 'str'>\n"
          ]
        }
      ],
      "source": [
        "a = 13\n",
        "b = 12.5\n",
        "c = 'fred'\n",
        "\n",
        "print(a, b, c)\n",
        "\n",
        "print(type(a))\n",
        "print(type(b))\n",
        "print(type(c))"
      ]
    },
    {
      "cell_type": "code",
      "source": [
        "b = a**123\n",
        "print(type(b), b)"
      ],
      "metadata": {
        "colab": {
          "base_uri": "https://localhost:8080/"
        },
        "id": "tyIqXJoL7Hv6",
        "outputId": "7c9cd55d-dc2b-42e2-fa63-ef4d0ffebea3"
      },
      "execution_count": null,
      "outputs": [
        {
          "output_type": "stream",
          "name": "stdout",
          "text": [
            "<class 'int'> 103521923711427330139508660561111399310356231562909825053544787423528887795603512927942762680653876132399975884814583882073552996857463797\n"
          ]
        }
      ]
    },
    {
      "cell_type": "code",
      "source": [
        "f2 = 1/3\n",
        "print(f2)"
      ],
      "metadata": {
        "colab": {
          "base_uri": "https://localhost:8080/"
        },
        "id": "TdSSePAh7a_H",
        "outputId": "cc40f3c5-33f5-428b-f709-951d2bcbf68b"
      },
      "execution_count": null,
      "outputs": [
        {
          "output_type": "stream",
          "name": "stdout",
          "text": [
            "0.3333333333333333\n"
          ]
        }
      ]
    },
    {
      "cell_type": "code",
      "source": [
        "print(1/11)"
      ],
      "metadata": {
        "colab": {
          "base_uri": "https://localhost:8080/"
        },
        "id": "iQArvj8M7q_w",
        "outputId": "b8eca26c-a520-48fb-cbe2-e9a70d54d55c"
      },
      "execution_count": null,
      "outputs": [
        {
          "output_type": "stream",
          "name": "stdout",
          "text": [
            "0.09090909090909091\n"
          ]
        }
      ]
    },
    {
      "cell_type": "code",
      "source": [
        "print(c)\n"
      ],
      "metadata": {
        "colab": {
          "base_uri": "https://localhost:8080/"
        },
        "id": "iqfCA12P74f4",
        "outputId": "8f4e26f8-4d78-4543-9296-2ee8d1ca3d3e"
      },
      "execution_count": null,
      "outputs": [
        {
          "output_type": "stream",
          "name": "stdout",
          "text": [
            "fred\n"
          ]
        }
      ]
    },
    {
      "cell_type": "code",
      "source": [
        "# A-Za-z_ followed by 0-9A-Za-z_\n",
        "\n",
        "_3abc = 12"
      ],
      "metadata": {
        "id": "LDqUGxuh8FzY"
      },
      "execution_count": null,
      "outputs": []
    },
    {
      "cell_type": "code",
      "source": [
        "# Good and bad variable names\n",
        "age_in_years = 61\n",
        "last_name = 'Lecky'\n",
        "first_name = 'Ned'\n",
        "\n",
        "AgeInYears = 61\n",
        "\n",
        "print(f'age_in_years={age_in_years} and 4 squared is {4**2}')"
      ],
      "metadata": {
        "colab": {
          "base_uri": "https://localhost:8080/"
        },
        "id": "3dpVzlX-8VuK",
        "outputId": "77bdb8ff-ef1c-4a84-ae26-c569038af610"
      },
      "execution_count": null,
      "outputs": [
        {
          "output_type": "stream",
          "name": "stdout",
          "text": [
            "age_in_years=61 and 4 squared is 16\n"
          ]
        }
      ]
    },
    {
      "cell_type": "code",
      "source": [
        "# Intro to functions and objects\n",
        "def f1(x):\n",
        "    y = 3 * x + 2\n",
        "    return y\n",
        "\n",
        "def f2(x):\n",
        "    print(f'Hi I\\'m f2 and I got {x}')\n",
        "\n",
        "def f3(x):\n",
        "    print(f\"Hi I'm f3 and I got {x}\")\n",
        "\n",
        "y = f1(12)\n",
        "print(y)\n",
        "\n",
        "f2(12)\n",
        "f3(21)\n"
      ],
      "metadata": {
        "colab": {
          "base_uri": "https://localhost:8080/"
        },
        "id": "T-AwmzYm-S02",
        "outputId": "d2f30b83-0a92-4607-9cc4-bc9397eff0bb"
      },
      "execution_count": null,
      "outputs": [
        {
          "output_type": "stream",
          "name": "stdout",
          "text": [
            "38\n",
            "Hi I'm f2 and I got 12\n",
            "Hi I'm f3 and I got 21\n"
          ]
        }
      ]
    },
    {
      "cell_type": "code",
      "source": [
        "name = 'ned lecky'\n",
        "\n",
        "print(name[0:2])"
      ],
      "metadata": {
        "colab": {
          "base_uri": "https://localhost:8080/"
        },
        "id": "QzjkouYtABuv",
        "outputId": "07e9a18b-2701-4ffa-bbd1-854f8cf05a51"
      },
      "execution_count": null,
      "outputs": [
        {
          "output_type": "stream",
          "name": "stdout",
          "text": [
            "ne\n"
          ]
        }
      ]
    },
    {
      "cell_type": "code",
      "source": [
        "# Roll 1 die 200 times.... what sum do you get??\n",
        "import random\n",
        "\n",
        "def roll():\n",
        "    r = random.randint(1,6)\n",
        "    return r\n",
        "\n",
        "for i in range(20):\n",
        "    print(i, roll())\n"
      ],
      "metadata": {
        "colab": {
          "base_uri": "https://localhost:8080/"
        },
        "id": "VMcBP2xdCS1T",
        "outputId": "399d22e9-593f-42e5-e9e3-3054db016bba"
      },
      "execution_count": null,
      "outputs": [
        {
          "output_type": "stream",
          "name": "stdout",
          "text": [
            "0 5\n",
            "1 1\n",
            "2 6\n",
            "3 2\n",
            "4 3\n",
            "5 1\n",
            "6 4\n",
            "7 6\n",
            "8 1\n",
            "9 5\n",
            "10 2\n",
            "11 6\n",
            "12 3\n",
            "13 6\n",
            "14 3\n",
            "15 5\n",
            "16 2\n",
            "17 6\n",
            "18 1\n",
            "19 2\n"
          ]
        }
      ]
    },
    {
      "cell_type": "code",
      "source": [
        "# Roll 1 die 200 times.... what sum do you get??\n",
        "import random\n",
        "\n",
        "def roll():\n",
        "    r = random.randint(1,6)\n",
        "    return r\n",
        "\n",
        "def roll_n_times(n):\n",
        "    for i in range(n):\n",
        "        print(i, roll())\n",
        "\n",
        "roll_n_times(5)\n",
        "roll_n_times(13)\n"
      ],
      "metadata": {
        "colab": {
          "base_uri": "https://localhost:8080/"
        },
        "id": "9C8A858jEdRW",
        "outputId": "37a5f494-bbdd-449b-92b7-dedd22f69c37"
      },
      "execution_count": null,
      "outputs": [
        {
          "output_type": "stream",
          "name": "stdout",
          "text": [
            "0 3\n",
            "1 5\n",
            "2 4\n",
            "3 4\n",
            "4 2\n",
            "0 1\n",
            "1 1\n",
            "2 3\n",
            "3 2\n",
            "4 6\n",
            "5 4\n",
            "6 1\n",
            "7 6\n",
            "8 5\n",
            "9 5\n",
            "10 5\n",
            "11 4\n",
            "12 1\n"
          ]
        }
      ]
    },
    {
      "cell_type": "code",
      "source": [
        "# Roll 1 die 200 times.... what sum do you get??\n",
        "import random\n",
        "\n",
        "def roll():\n",
        "    r = random.randint(1,6)\n",
        "    return r\n",
        "\n",
        "def roll_n_times(n):\n",
        "    total = 0\n",
        "    for i in range(n):\n",
        "        r1 = roll()\n",
        "        total = total + r1\n",
        "        print(i, r1)\n",
        "    return total\n",
        "\n",
        "t1 = roll_n_times(5)\n",
        "t2 = roll_n_times(13)\n",
        "\n",
        "print(t1, t2)"
      ],
      "metadata": {
        "colab": {
          "base_uri": "https://localhost:8080/"
        },
        "id": "qnXT0ttsE8a2",
        "outputId": "fa19a301-97d9-49f5-fb6d-3545da2f3911"
      },
      "execution_count": null,
      "outputs": [
        {
          "output_type": "stream",
          "name": "stdout",
          "text": [
            "0 6\n",
            "1 4\n",
            "2 6\n",
            "3 4\n",
            "4 4\n",
            "0 1\n",
            "1 6\n",
            "2 2\n",
            "3 2\n",
            "4 6\n",
            "5 4\n",
            "6 5\n",
            "7 6\n",
            "8 2\n",
            "9 2\n",
            "10 1\n",
            "11 5\n",
            "12 4\n",
            "24 46\n"
          ]
        }
      ]
    },
    {
      "cell_type": "code",
      "source": [
        "# Roll 1 die 200 times.... what sum do you get??\n",
        "import random\n",
        "\n",
        "def roll():\n",
        "    r = random.randint(1,6)\n",
        "    return r\n",
        "\n",
        "def roll_n_times(n):\n",
        "    total = 0\n",
        "    for i in range(n):\n",
        "        r1 = roll()\n",
        "        total = total + r1\n",
        "        #print(i, r1)\n",
        "    return total\n",
        "\n",
        "t1 = roll_n_times(5)\n",
        "t2 = roll_n_times(200)\n",
        "\n",
        "print(t1, t2)"
      ],
      "metadata": {
        "colab": {
          "base_uri": "https://localhost:8080/"
        },
        "id": "Wf-nk8q4FYVH",
        "outputId": "c6a99fa8-ccd0-458d-a09b-85a081295f35"
      },
      "execution_count": null,
      "outputs": [
        {
          "output_type": "stream",
          "name": "stdout",
          "text": [
            "17 656\n"
          ]
        }
      ]
    },
    {
      "cell_type": "code",
      "source": [
        "for i in range(20):\n",
        "    print(roll_n_times(20000))"
      ],
      "metadata": {
        "colab": {
          "base_uri": "https://localhost:8080/"
        },
        "id": "T15B2cfmFtQo",
        "outputId": "32ff6db2-460e-4882-a61e-0c3932d7ca54"
      },
      "execution_count": null,
      "outputs": [
        {
          "output_type": "stream",
          "name": "stdout",
          "text": [
            "70036\n",
            "70332\n",
            "69941\n",
            "70024\n",
            "69209\n",
            "69992\n",
            "69357\n",
            "69741\n",
            "70074\n",
            "69616\n",
            "69864\n",
            "70052\n",
            "70017\n",
            "70042\n",
            "69409\n",
            "70163\n",
            "70339\n",
            "70041\n",
            "70157\n",
            "70197\n"
          ]
        }
      ]
    },
    {
      "cell_type": "code",
      "source": [],
      "metadata": {
        "id": "G7Msj9vrF_Yw"
      },
      "execution_count": null,
      "outputs": []
    }
  ]
}